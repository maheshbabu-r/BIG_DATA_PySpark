{
  "nbformat": 4,
  "nbformat_minor": 0,
  "metadata": {
    "colab": {
      "name": "Spark_taxi_App_Project.ipynb",
      "provenance": [],
      "include_colab_link": true
    },
    "kernelspec": {
      "name": "python3",
      "display_name": "Python 3"
    },
    "language_info": {
      "name": "python"
    }
  },
  "cells": [
    {
      "cell_type": "markdown",
      "metadata": {
        "id": "view-in-github",
        "colab_type": "text"
      },
      "source": [
        "<a href=\"https://colab.research.google.com/github/maheshbabu-r/BIG_DATA_PySpark/blob/main/Spark_taxi_App_Project.ipynb\" target=\"_parent\"><img src=\"https://colab.research.google.com/assets/colab-badge.svg\" alt=\"Open In Colab\"/></a>"
      ]
    },
    {
      "cell_type": "code",
      "metadata": {
        "colab": {
          "base_uri": "https://localhost:8080/"
        },
        "id": "vaiciVdNQsIF",
        "outputId": "73e2d00e-6471-455b-d872-dc30bb28c2ba"
      },
      "source": [
        "!pwd\n",
        "!ls\n",
        "!python --version"
      ],
      "execution_count": 1,
      "outputs": [
        {
          "output_type": "stream",
          "name": "stdout",
          "text": [
            "/content\n",
            "sample_data\t\t   spark-3.1.2-bin-hadoop3.2.tgz\n",
            "spark-3.1.2-bin-hadoop3.2  yellow.csv\n",
            "Python 3.7.11\n"
          ]
        }
      ]
    },
    {
      "cell_type": "code",
      "metadata": {
        "id": "zlsv9yGB2I81"
      },
      "source": [
        "!apt-get install openjdk-8-jdk-headless -qq > /dev/null\n",
        "\n",
        "!wget -q https://dlcdn.apache.org/spark/spark-3.1.2/spark-3.1.2-bin-hadoop3.2.tgz  # supress download output use -q\n",
        "\n",
        "!tar -zxvf spark-3.1.2-bin-hadoop3.2.tgz | grep \"something\" 2>/dev/null #Suppress tar output ---| grep \"something\" 2>/dev/null--- add after file_name\"\n",
        "\n",
        "!pip -q install findspark"
      ],
      "execution_count": 2,
      "outputs": []
    },
    {
      "cell_type": "code",
      "metadata": {
        "id": "v6RZ_81C3IkA",
        "colab": {
          "base_uri": "https://localhost:8080/"
        },
        "outputId": "c084ad6a-c96b-407a-c357-715f5d49bd10"
      },
      "source": [
        "import os\n",
        "os.environ[\"JAVA_HOME\"] = \"/usr/lib/jvm/java-8-openjdk-amd64\"\n",
        "os.environ[\"SPARK_HOME\"] = \"/content/spark-3.1.2-bin-hadoop3.2\"\n",
        "\n",
        "import findspark\n",
        "findspark.init()\n",
        "\n",
        "from pyspark.sql import SparkSession\n",
        "from pyspark import SparkConf\n",
        "from pyspark import SparkContext\n",
        "\n",
        "# or import like this\n",
        "from pyspark.sql.functions import *\n",
        "\n",
        "sc = SparkContext.getOrCreate(SparkConf().setMaster(\"local[*]\"))\n",
        "spark = SparkSession.builder.appName(\"Analysis taxi App\").getOrCreate()\n",
        "print(spark.sparkContext.appName)"
      ],
      "execution_count": 3,
      "outputs": [
        {
          "output_type": "stream",
          "name": "stdout",
          "text": [
            "pyspark-shell\n"
          ]
        }
      ]
    },
    {
      "cell_type": "markdown",
      "metadata": {
        "id": "SeplHFhnu7Ei"
      },
      "source": [
        "**Problem Statement:**\n",
        "\n",
        "---\n",
        "\n",
        "\n",
        "Imagine that you are working as an analyst for a famous Taxi App company. Your organization\n",
        "provides hassle-free travel to people all around the world. You have been provided with a\n",
        "Spark–Hadoop setup to perform certain analytical tasks.\n"
      ]
    },
    {
      "cell_type": "code",
      "metadata": {
        "id": "Rm4RMIvObaFv"
      },
      "source": [
        "!wget -q https://raw.githubusercontent.com/maheshbabu-r/BIG_DATA/main/Hadoop%20Datasets/yellow.csv"
      ],
      "execution_count": 4,
      "outputs": []
    },
    {
      "cell_type": "code",
      "metadata": {
        "colab": {
          "base_uri": "https://localhost:8080/"
        },
        "id": "1V2XEtdru2Eh",
        "outputId": "ac5d69e0-13e9-4b91-a80a-432d4e1b07b9"
      },
      "source": [
        "df=spark.read.format(\"csv\").option(\"header\",\"true\").load(\"/content/yellow.csv\")\n",
        "df.printSchema()\n",
        "df.show(5)"
      ],
      "execution_count": 5,
      "outputs": [
        {
          "output_type": "stream",
          "name": "stdout",
          "text": [
            "root\n",
            " |-- VendorID: string (nullable = true)\n",
            " |-- tpep_pickup_datetime: string (nullable = true)\n",
            " |-- tpep_dropoff_datetime: string (nullable = true)\n",
            " |-- passenger_count: string (nullable = true)\n",
            " |-- trip_distance: string (nullable = true)\n",
            " |-- pickup_longitude: string (nullable = true)\n",
            " |-- pickup_latitude: string (nullable = true)\n",
            " |-- RateCodeID: string (nullable = true)\n",
            " |-- store_and_fwd_flag: string (nullable = true)\n",
            " |-- dropoff_longitude: string (nullable = true)\n",
            " |-- dropoff_latitude: string (nullable = true)\n",
            " |-- payment_type: string (nullable = true)\n",
            " |-- fare_amount: string (nullable = true)\n",
            " |-- extra: string (nullable = true)\n",
            " |-- mta_tax: string (nullable = true)\n",
            " |-- tip_amount: string (nullable = true)\n",
            " |-- tolls_amount: string (nullable = true)\n",
            " |-- total_amount: string (nullable = true)\n",
            " |-- trip_time: string (nullable = true)\n",
            "\n",
            "+--------+--------------------+---------------------+---------------+-------------+-----------------+----------------+----------+------------------+-----------------+----------------+------------+-----------+-----+-------+----------+------------+------------+---------+\n",
            "|VendorID|tpep_pickup_datetime|tpep_dropoff_datetime|passenger_count|trip_distance| pickup_longitude| pickup_latitude|RateCodeID|store_and_fwd_flag|dropoff_longitude|dropoff_latitude|payment_type|fare_amount|extra|mta_tax|tip_amount|tolls_amount|total_amount|trip_time|\n",
            "+--------+--------------------+---------------------+---------------+-------------+-----------------+----------------+----------+------------------+-----------------+----------------+------------+-----------+-----+-------+----------+------------+------------+---------+\n",
            "|       2| 2015-01-08 22:44:09|  2015-01-08 22:50:56|              1|         1.55|-73.9876861572266| 40.724250793457|         1|                 N| -73.973762512207|40.7433776855469|           2|        7.5|  0.5|    0.5|         0|           0|         8.8|     5000|\n",
            "|       1| 2015-01-08 22:44:09|  2015-01-08 22:51:17|              3|          1.2| -73.991569519043|40.7269325256348|         1|                 N|-74.0041046142578|40.7210807800293|           2|          7|  0.5|    0.5|         0|           0|         8.3|  5344860|\n",
            "|       1| 2015-01-08 22:44:10|  2015-01-08 22:55:27|              1|          2.4|-73.9819183349609|40.7834434509277|         1|                 N|-73.9523544311524|40.7981986999512|           2|       10.5|  0.5|    0.5|         0|           0|        11.8|  3345464|\n",
            "|       1| 2015-01-08 22:44:10|  2015-01-08 22:58:09|              1|          7.3|-73.9731216430664|40.7435531616211|         1|                 N|-73.9195709228516|40.8320007324219|           2|       21.5|  0.5|    0.5|         0|           0|        22.8|   893933|\n",
            "|       1| 2015-01-08 22:44:12|  2015-01-08 22:46:16|              1|          0.4|-73.9829483032227|40.7662086486816|         1|                 N|-73.9843902587891|40.7640533447266|           2|        3.5|  0.5|    0.5|         0|           0|         4.8|    36864|\n",
            "+--------+--------------------+---------------------+---------------+-------------+-----------------+----------------+----------+------------------+-----------------+----------------+------------+-----------+-----+-------+----------+------------+------------+---------+\n",
            "only showing top 5 rows\n",
            "\n"
          ]
        }
      ]
    },
    {
      "cell_type": "code",
      "metadata": {
        "colab": {
          "base_uri": "https://localhost:8080/"
        },
        "id": "ruuoZUdvu2Aj",
        "outputId": "752ef959-e3c5-43d0-9839-abc1453816b4"
      },
      "source": [
        "# 1. What is the total number of trips (equal to the number of rows)?\n",
        "df.count()"
      ],
      "execution_count": 6,
      "outputs": [
        {
          "output_type": "execute_result",
          "data": {
            "text/plain": [
              "10000"
            ]
          },
          "metadata": {},
          "execution_count": 6
        }
      ]
    },
    {
      "cell_type": "code",
      "metadata": {
        "colab": {
          "base_uri": "https://localhost:8080/"
        },
        "id": "6SzvGAT1u18h",
        "outputId": "4f9b187c-7374-4196-f395-63dd04402035"
      },
      "source": [
        "# 2. What is the total revenue generated by all the trips? The fare is stored in the column,total_amount.\n",
        "df.select(sum(\"total_amount\").alias(\"total_revenue\")).show()"
      ],
      "execution_count": 7,
      "outputs": [
        {
          "output_type": "stream",
          "name": "stdout",
          "text": [
            "+------------------+\n",
            "|     total_revenue|\n",
            "+------------------+\n",
            "|160546.80999999488|\n",
            "+------------------+\n",
            "\n"
          ]
        }
      ]
    },
    {
      "cell_type": "code",
      "metadata": {
        "colab": {
          "base_uri": "https://localhost:8080/"
        },
        "id": "tLvn2GxVx6vi",
        "outputId": "308fa850-0242-48f6-9da6-6fc7025a8b49"
      },
      "source": [
        "# 3. What fraction of the total is paid for tolls? The toll is stored in tolls_amount.\n",
        "df.select((sum(\"tolls_amount\")*100/sum(\"total_amount\")).alias(\"fraction of the total for tolls\")).show()"
      ],
      "execution_count": 8,
      "outputs": [
        {
          "output_type": "stream",
          "name": "stdout",
          "text": [
            "+-------------------------------+\n",
            "|fraction of the total for tolls|\n",
            "+-------------------------------+\n",
            "|             1.5553034034124158|\n",
            "+-------------------------------+\n",
            "\n"
          ]
        }
      ]
    },
    {
      "cell_type": "code",
      "metadata": {
        "colab": {
          "base_uri": "https://localhost:8080/"
        },
        "id": "cPOv0Hlsx6re",
        "outputId": "9624f520-6a0e-4bf7-c653-2f622f66930e"
      },
      "source": [
        "# 4. What fraction of it is given as driver tips? The tip is stored in tip_amount.\n",
        "df.select((sum(\"tip_amount\")*100/sum(\"total_amount\")).alias(\"fraction of the total for tip\")).show()"
      ],
      "execution_count": 9,
      "outputs": [
        {
          "output_type": "stream",
          "name": "stdout",
          "text": [
            "+-----------------------------+\n",
            "|fraction of the total for tip|\n",
            "+-----------------------------+\n",
            "|           10.785203393328445|\n",
            "+-----------------------------+\n",
            "\n"
          ]
        }
      ]
    },
    {
      "cell_type": "code",
      "metadata": {
        "colab": {
          "base_uri": "https://localhost:8080/"
        },
        "id": "_V4qjuDAx6n4",
        "outputId": "e40b2db1-55ed-4a0a-86c8-558e56e00eda"
      },
      "source": [
        "# 5. What is the average trip amount?\n",
        "df.select(mean(\"total_amount\").alias(\"avg_trip_amount\")).show()"
      ],
      "execution_count": 10,
      "outputs": [
        {
          "output_type": "stream",
          "name": "stdout",
          "text": [
            "+------------------+\n",
            "|   avg_trip_amount|\n",
            "+------------------+\n",
            "|16.054680999999487|\n",
            "+------------------+\n",
            "\n"
          ]
        }
      ]
    },
    {
      "cell_type": "code",
      "metadata": {
        "colab": {
          "base_uri": "https://localhost:8080/"
        },
        "id": "3P9UI9rQunHh",
        "outputId": "c4b856a1-65ec-4dcb-b82d-6c2f2f41c560"
      },
      "source": [
        "# 6. What is the average distance of the trips? Distance is stored in the column, trip_distance\n",
        "df.select(mean(\"trip_distance\").alias(\"avg_trip_distance\")).show()"
      ],
      "execution_count": 11,
      "outputs": [
        {
          "output_type": "stream",
          "name": "stdout",
          "text": [
            "+-----------------+\n",
            "|avg_trip_distance|\n",
            "+-----------------+\n",
            "|3.253033000000003|\n",
            "+-----------------+\n",
            "\n"
          ]
        }
      ]
    },
    {
      "cell_type": "code",
      "metadata": {
        "colab": {
          "base_uri": "https://localhost:8080/"
        },
        "id": "AQBnoxgJ08uk",
        "outputId": "dca958e0-2d53-4b8f-e390-293b1bbbc207"
      },
      "source": [
        "# 7. How many different payment types are used?\n",
        "df.select(\"payment_type\").distinct().count()"
      ],
      "execution_count": 12,
      "outputs": [
        {
          "output_type": "execute_result",
          "data": {
            "text/plain": [
              "4"
            ]
          },
          "metadata": {},
          "execution_count": 12
        }
      ]
    },
    {
      "cell_type": "code",
      "metadata": {
        "colab": {
          "base_uri": "https://localhost:8080/"
        },
        "id": "qp9HkR9S1NC1",
        "outputId": "bde2eee4-c16b-499f-e81e-3881fc3f5266"
      },
      "source": [
        "# 8. For each payment type, display the following details:\n",
        "# a. Average fare generated\n",
        "# b. Average tip\n",
        "# c. Average tax – tax is stored in the column, mta_tax\n",
        "\n",
        "\n",
        "df.groupby(\"payment_type\").agg(mean(\"fare_amount\").alias(\"avg_fare_amount\"),\\\n",
        "                               mean(\"tip_amount\").alias(\"avg_tip_amount\"),\\\n",
        "                               mean(\"mta_tax\").alias(\"avg_mta_tax\")).orderBy(\"payment_type\").show(truncate=False)"
      ],
      "execution_count": 13,
      "outputs": [
        {
          "output_type": "stream",
          "name": "stdout",
          "text": [
            "+------------+------------------+-----------------+-------------------+\n",
            "|payment_type|avg_fare_amount   |avg_tip_amount   |avg_mta_tax        |\n",
            "+------------+------------------+-----------------+-------------------+\n",
            "|1           |13.561018272684619|2.704248008745903|0.49711072934561923|\n",
            "|2           |11.393383098591547|0.0              |0.4988732394366197 |\n",
            "|3           |13.21078947368421 |0.0              |0.42105263157894735|\n",
            "|4           |12.222222222222221|0.0              |0.5                |\n",
            "+------------+------------------+-----------------+-------------------+\n",
            "\n"
          ]
        }
      ]
    },
    {
      "cell_type": "code",
      "metadata": {
        "colab": {
          "base_uri": "https://localhost:8080/"
        },
        "id": "VxE10IQu2EyT",
        "outputId": "752447f1-278c-4ebf-b785-73940ba88b29"
      },
      "source": [
        "# 9. On average, which hour of the day generates the highest revenue?\n",
        "df.groupby(hour(col(\"tpep_dropoff_datetime\")).alias(\"hour\")).agg(sum(\"total_amount\").alias(\"max_revenue\"))\\\n",
        "                                                  .orderBy(desc(\"max_revenue\")).show(1)"
      ],
      "execution_count": 14,
      "outputs": [
        {
          "output_type": "stream",
          "name": "stdout",
          "text": [
            "+----+------------------+\n",
            "|hour|       max_revenue|\n",
            "+----+------------------+\n",
            "|  23|108332.74000000632|\n",
            "+----+------------------+\n",
            "only showing top 1 row\n",
            "\n"
          ]
        }
      ]
    }
  ]
}