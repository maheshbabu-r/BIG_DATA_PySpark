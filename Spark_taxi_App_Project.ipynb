{
  "nbformat": 4,
  "nbformat_minor": 0,
  "metadata": {
    "colab": {
      "name": "Spark_taxi_App_Project.ipynb",
      "provenance": [],
      "authorship_tag": "ABX9TyNCCuB53Ipy3WUT6gGM25QV",
      "include_colab_link": true
    },
    "kernelspec": {
      "name": "python3",
      "display_name": "Python 3"
    },
    "language_info": {
      "name": "python"
    }
  },
  "cells": [
    {
      "cell_type": "markdown",
      "metadata": {
        "id": "view-in-github",
        "colab_type": "text"
      },
      "source": [
        "<a href=\"https://colab.research.google.com/github/maheshbabu-r/BIG_DATA/blob/main/Spark_taxi_App_Project.ipynb\" target=\"_parent\"><img src=\"https://colab.research.google.com/assets/colab-badge.svg\" alt=\"Open In Colab\"/></a>"
      ]
    },
    {
      "cell_type": "code",
      "metadata": {
        "colab": {
          "base_uri": "https://localhost:8080/"
        },
        "id": "vaiciVdNQsIF",
        "outputId": "8cb20451-6a34-4cee-b615-a2a17ad765bb"
      },
      "source": [
        "!pwd\n",
        "!ls\n",
        "!python --version"
      ],
      "execution_count": 1,
      "outputs": [
        {
          "output_type": "stream",
          "name": "stdout",
          "text": [
            "/content\n",
            "sample_data\n",
            "Python 3.7.11\n"
          ]
        }
      ]
    },
    {
      "cell_type": "code",
      "metadata": {
        "id": "zlsv9yGB2I81"
      },
      "source": [
        "!apt-get install openjdk-8-jdk-headless -qq > /dev/null\n",
        "\n",
        "!wget -q https://dlcdn.apache.org/spark/spark-3.1.2/spark-3.1.2-bin-hadoop3.2.tgz  # supress download output use -q\n",
        "\n",
        "!tar -zxvf spark-3.1.2-bin-hadoop3.2.tgz | grep \"something\" 2>/dev/null #Suppress tar output ---| grep \"something\" 2>/dev/null--- add after file_name\"\n",
        "\n",
        "!pip -q install findspark"
      ],
      "execution_count": 2,
      "outputs": []
    },
    {
      "cell_type": "code",
      "metadata": {
        "id": "v6RZ_81C3IkA",
        "colab": {
          "base_uri": "https://localhost:8080/"
        },
        "outputId": "519a9029-5f62-43ba-db23-6fa7c937ccc1"
      },
      "source": [
        "import os\n",
        "os.environ[\"JAVA_HOME\"] = \"/usr/lib/jvm/java-8-openjdk-amd64\"\n",
        "os.environ[\"SPARK_HOME\"] = \"/content/spark-3.1.2-bin-hadoop3.2\"\n",
        "\n",
        "import findspark\n",
        "findspark.init()\n",
        "\n",
        "from pyspark.sql import SparkSession\n",
        "from pyspark import SparkConf\n",
        "from pyspark import SparkContext\n",
        "\n",
        "# or import like this\n",
        "from pyspark.sql.functions import *\n",
        "\n",
        "sc = SparkContext.getOrCreate(SparkConf().setMaster(\"local[*]\"))\n",
        "spark = SparkSession.builder.appName(\"Analysis taxi App\").getOrCreate()\n",
        "print(spark.sparkContext.appName)"
      ],
      "execution_count": 3,
      "outputs": [
        {
          "output_type": "stream",
          "name": "stdout",
          "text": [
            "pyspark-shell\n"
          ]
        }
      ]
    },
    {
      "cell_type": "markdown",
      "metadata": {
        "id": "SeplHFhnu7Ei"
      },
      "source": [
        "**Problem Statement:**\n",
        "\n",
        "---\n",
        "\n",
        "\n",
        "Imagine that you are working as an analyst for a famous Taxi App company. Your organization\n",
        "provides hassle-free travel to people all around the world. You have been provided with a\n",
        "Spark–Hadoop setup to perform certain analytical tasks.\n"
      ]
    },
    {
      "cell_type": "code",
      "metadata": {
        "colab": {
          "base_uri": "https://localhost:8080/"
        },
        "id": "Rm4RMIvObaFv",
        "outputId": "39e27c41-26dd-4f02-81e1-b29911beb03a"
      },
      "source": [
        "!wget https://raw.githubusercontent.com/maheshbabu-r/BIG_DATA/main/Hadoop%20Datasets/yellow.csv"
      ],
      "execution_count": 4,
      "outputs": [
        {
          "output_type": "stream",
          "name": "stdout",
          "text": [
            "--2021-09-08 10:29:38--  https://raw.githubusercontent.com/maheshbabu-r/BIG_DATA/main/Hadoop%20Datasets/yellow.csv\n",
            "Resolving raw.githubusercontent.com (raw.githubusercontent.com)... 185.199.108.133, 185.199.109.133, 185.199.110.133, ...\n",
            "Connecting to raw.githubusercontent.com (raw.githubusercontent.com)|185.199.108.133|:443... connected.\n",
            "HTTP request sent, awaiting response... 200 OK\n",
            "Length: 1512490 (1.4M) [text/plain]\n",
            "Saving to: ‘yellow.csv’\n",
            "\n",
            "yellow.csv          100%[===================>]   1.44M  --.-KB/s    in 0.07s   \n",
            "\n",
            "2021-09-08 10:29:38 (20.6 MB/s) - ‘yellow.csv’ saved [1512490/1512490]\n",
            "\n"
          ]
        }
      ]
    },
    {
      "cell_type": "code",
      "metadata": {
        "colab": {
          "base_uri": "https://localhost:8080/"
        },
        "id": "1V2XEtdru2Eh",
        "outputId": "0757ce7b-6c1c-42db-e0fa-299de8230d6e"
      },
      "source": [
        "df=spark.read.format(\"csv\").option(\"header\",\"true\").load(\"/content/yellow.csv\")\n",
        "df.printSchema()\n",
        "df.show(5)"
      ],
      "execution_count": 5,
      "outputs": [
        {
          "output_type": "stream",
          "name": "stdout",
          "text": [
            "root\n",
            " |-- VendorID: string (nullable = true)\n",
            " |-- tpep_pickup_datetime: string (nullable = true)\n",
            " |-- tpep_dropoff_datetime: string (nullable = true)\n",
            " |-- passenger_count: string (nullable = true)\n",
            " |-- trip_distance: string (nullable = true)\n",
            " |-- pickup_longitude: string (nullable = true)\n",
            " |-- pickup_latitude: string (nullable = true)\n",
            " |-- RateCodeID: string (nullable = true)\n",
            " |-- store_and_fwd_flag: string (nullable = true)\n",
            " |-- dropoff_longitude: string (nullable = true)\n",
            " |-- dropoff_latitude: string (nullable = true)\n",
            " |-- payment_type: string (nullable = true)\n",
            " |-- fare_amount: string (nullable = true)\n",
            " |-- extra: string (nullable = true)\n",
            " |-- mta_tax: string (nullable = true)\n",
            " |-- tip_amount: string (nullable = true)\n",
            " |-- tolls_amount: string (nullable = true)\n",
            " |-- total_amount: string (nullable = true)\n",
            " |-- trip_time: string (nullable = true)\n",
            "\n",
            "+--------+--------------------+---------------------+---------------+-------------+-----------------+----------------+----------+------------------+-----------------+----------------+------------+-----------+-----+-------+----------+------------+------------+---------+\n",
            "|VendorID|tpep_pickup_datetime|tpep_dropoff_datetime|passenger_count|trip_distance| pickup_longitude| pickup_latitude|RateCodeID|store_and_fwd_flag|dropoff_longitude|dropoff_latitude|payment_type|fare_amount|extra|mta_tax|tip_amount|tolls_amount|total_amount|trip_time|\n",
            "+--------+--------------------+---------------------+---------------+-------------+-----------------+----------------+----------+------------------+-----------------+----------------+------------+-----------+-----+-------+----------+------------+------------+---------+\n",
            "|       2| 2015-01-08 22:44:09|  2015-01-08 22:50:56|              1|         1.55|-73.9876861572266| 40.724250793457|         1|                 N| -73.973762512207|40.7433776855469|           2|        7.5|  0.5|    0.5|         0|           0|         8.8|     5000|\n",
            "|       1| 2015-01-08 22:44:09|  2015-01-08 22:51:17|              3|          1.2| -73.991569519043|40.7269325256348|         1|                 N|-74.0041046142578|40.7210807800293|           2|          7|  0.5|    0.5|         0|           0|         8.3|  5344860|\n",
            "|       1| 2015-01-08 22:44:10|  2015-01-08 22:55:27|              1|          2.4|-73.9819183349609|40.7834434509277|         1|                 N|-73.9523544311524|40.7981986999512|           2|       10.5|  0.5|    0.5|         0|           0|        11.8|  3345464|\n",
            "|       1| 2015-01-08 22:44:10|  2015-01-08 22:58:09|              1|          7.3|-73.9731216430664|40.7435531616211|         1|                 N|-73.9195709228516|40.8320007324219|           2|       21.5|  0.5|    0.5|         0|           0|        22.8|   893933|\n",
            "|       1| 2015-01-08 22:44:12|  2015-01-08 22:46:16|              1|          0.4|-73.9829483032227|40.7662086486816|         1|                 N|-73.9843902587891|40.7640533447266|           2|        3.5|  0.5|    0.5|         0|           0|         4.8|    36864|\n",
            "+--------+--------------------+---------------------+---------------+-------------+-----------------+----------------+----------+------------------+-----------------+----------------+------------+-----------+-----+-------+----------+------------+------------+---------+\n",
            "only showing top 5 rows\n",
            "\n"
          ]
        }
      ]
    },
    {
      "cell_type": "code",
      "metadata": {
        "colab": {
          "base_uri": "https://localhost:8080/"
        },
        "id": "ruuoZUdvu2Aj",
        "outputId": "74c541d8-ee91-4b43-cea1-9550fcdc7a92"
      },
      "source": [
        "# 1. What is the total number of trips (equal to the number of rows)?\n",
        "df.count()"
      ],
      "execution_count": 6,
      "outputs": [
        {
          "output_type": "execute_result",
          "data": {
            "text/plain": [
              "10000"
            ]
          },
          "metadata": {},
          "execution_count": 6
        }
      ]
    },
    {
      "cell_type": "code",
      "metadata": {
        "colab": {
          "base_uri": "https://localhost:8080/"
        },
        "id": "6SzvGAT1u18h",
        "outputId": "f481a21b-8f20-4403-e07f-65829fe90b51"
      },
      "source": [
        "# 2. What is the total revenue generated by all the trips? The fare is stored in the column,total_amount.\n",
        "df.select(sum(\"total_amount\").alias(\"total_revenue\")).show()"
      ],
      "execution_count": 7,
      "outputs": [
        {
          "output_type": "stream",
          "name": "stdout",
          "text": [
            "+------------------+\n",
            "|     total_revenue|\n",
            "+------------------+\n",
            "|160546.80999999488|\n",
            "+------------------+\n",
            "\n"
          ]
        }
      ]
    },
    {
      "cell_type": "code",
      "metadata": {
        "colab": {
          "base_uri": "https://localhost:8080/"
        },
        "id": "tLvn2GxVx6vi",
        "outputId": "7d13c7d9-1626-4d45-c7d5-141dbaa2a890"
      },
      "source": [
        "# 3. What fraction of the total is paid for tolls? The toll is stored in tolls_amount.\n",
        "df.select(sum(\"tolls_amount\").alias(\"total_tolls_amount\")).show()"
      ],
      "execution_count": 8,
      "outputs": [
        {
          "output_type": "stream",
          "name": "stdout",
          "text": [
            "+------------------+\n",
            "|total_tolls_amount|\n",
            "+------------------+\n",
            "|2496.9899999999852|\n",
            "+------------------+\n",
            "\n"
          ]
        }
      ]
    },
    {
      "cell_type": "code",
      "metadata": {
        "colab": {
          "base_uri": "https://localhost:8080/"
        },
        "id": "cPOv0Hlsx6re",
        "outputId": "ac835c91-460d-4e71-c515-7cc630c80f17"
      },
      "source": [
        "# 4. What fraction of it is given as driver tips? The tip is stored in tip_amount.\n",
        "df.select(sum(\"tip_amount\").alias(\"total_tip_amount\")).show()"
      ],
      "execution_count": 9,
      "outputs": [
        {
          "output_type": "stream",
          "name": "stdout",
          "text": [
            "+------------------+\n",
            "|  total_tip_amount|\n",
            "+------------------+\n",
            "|17315.300000000017|\n",
            "+------------------+\n",
            "\n"
          ]
        }
      ]
    },
    {
      "cell_type": "code",
      "metadata": {
        "colab": {
          "base_uri": "https://localhost:8080/"
        },
        "id": "_V4qjuDAx6n4",
        "outputId": "1ae7ccce-5328-4eed-ddfd-9789d048b514"
      },
      "source": [
        "# 5. What is the average trip amount?\n",
        "df.select(mean(\"total_amount\").alias(\"avg_trip_amount\")).show()"
      ],
      "execution_count": 10,
      "outputs": [
        {
          "output_type": "stream",
          "name": "stdout",
          "text": [
            "+------------------+\n",
            "|   avg_trip_amount|\n",
            "+------------------+\n",
            "|16.054680999999487|\n",
            "+------------------+\n",
            "\n"
          ]
        }
      ]
    },
    {
      "cell_type": "code",
      "metadata": {
        "colab": {
          "base_uri": "https://localhost:8080/"
        },
        "id": "3P9UI9rQunHh",
        "outputId": "e64b71e7-ee9b-4c73-c704-22e00a31ff08"
      },
      "source": [
        "# 6. What is the average distance of the trips? Distance is stored in the column, trip_distance\n",
        "df.select(mean(\"trip_distance\").alias(\"avg_trip_distance\")).show()"
      ],
      "execution_count": 11,
      "outputs": [
        {
          "output_type": "stream",
          "name": "stdout",
          "text": [
            "+-----------------+\n",
            "|avg_trip_distance|\n",
            "+-----------------+\n",
            "|3.253033000000003|\n",
            "+-----------------+\n",
            "\n"
          ]
        }
      ]
    },
    {
      "cell_type": "code",
      "metadata": {
        "colab": {
          "base_uri": "https://localhost:8080/"
        },
        "id": "AQBnoxgJ08uk",
        "outputId": "bc488dea-f46c-4ea8-d758-a0cd439126a6"
      },
      "source": [
        "# 7. How many different payment types are used?\n",
        "df.select(\"payment_type\").distinct().count()"
      ],
      "execution_count": 12,
      "outputs": [
        {
          "output_type": "execute_result",
          "data": {
            "text/plain": [
              "4"
            ]
          },
          "metadata": {},
          "execution_count": 12
        }
      ]
    },
    {
      "cell_type": "code",
      "metadata": {
        "colab": {
          "base_uri": "https://localhost:8080/"
        },
        "id": "qp9HkR9S1NC1",
        "outputId": "389aad87-db48-42d1-9626-9df1abf9179c"
      },
      "source": [
        "# 8. For each payment type, display the following details:\n",
        "# a. Average fare generated\n",
        "# b. Average tip\n",
        "# c. Average tax – tax is stored in the column, mta_tax\n",
        "\n",
        "\n",
        "df.groupby(\"payment_type\").agg(mean(\"fare_amount\").alias(\"avg_fare_amount\"),\\\n",
        "                               mean(\"tip_amount\").alias(\"avg_tip_amount\"),\\\n",
        "                               mean(\"mta_tax\").alias(\"avg_mta_tax\")).orderBy(\"payment_type\").show(truncate=False)"
      ],
      "execution_count": 13,
      "outputs": [
        {
          "output_type": "stream",
          "name": "stdout",
          "text": [
            "+------------+------------------+-----------------+-------------------+\n",
            "|payment_type|avg_fare_amount   |avg_tip_amount   |avg_mta_tax        |\n",
            "+------------+------------------+-----------------+-------------------+\n",
            "|1           |13.561018272684619|2.704248008745903|0.49711072934561923|\n",
            "|2           |11.393383098591547|0.0              |0.4988732394366197 |\n",
            "|3           |13.21078947368421 |0.0              |0.42105263157894735|\n",
            "|4           |12.222222222222221|0.0              |0.5                |\n",
            "+------------+------------------+-----------------+-------------------+\n",
            "\n"
          ]
        }
      ]
    },
    {
      "cell_type": "code",
      "metadata": {
        "colab": {
          "base_uri": "https://localhost:8080/"
        },
        "id": "VxE10IQu2EyT",
        "outputId": "9c021013-4943-4d45-c27d-f164e1849beb"
      },
      "source": [
        "# 9. On average, which hour of the day generates the highest revenue?\n",
        "df.groupby(hour(col(\"tpep_dropoff_datetime\")).alias(\"hour\")).agg(sum(\"total_amount\").alias(\"max_revenue\"))\\\n",
        "                                                  .orderBy(desc(\"max_revenue\")).show(1)"
      ],
      "execution_count": 14,
      "outputs": [
        {
          "output_type": "stream",
          "name": "stdout",
          "text": [
            "+----+------------------+\n",
            "|hour|       max_revenue|\n",
            "+----+------------------+\n",
            "|  23|108332.74000000632|\n",
            "+----+------------------+\n",
            "only showing top 1 row\n",
            "\n"
          ]
        }
      ]
    }
  ]
}