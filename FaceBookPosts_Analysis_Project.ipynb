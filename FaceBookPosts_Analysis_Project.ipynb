{
  "nbformat": 4,
  "nbformat_minor": 0,
  "metadata": {
    "colab": {
      "name": "FaceBookPosts_Analysis_Project.ipynb",
      "provenance": [],
      "collapsed_sections": [],
      "authorship_tag": "ABX9TyM6oOnBrNgBpoKYEVtSjUo9",
      "include_colab_link": true
    },
    "kernelspec": {
      "name": "python3",
      "display_name": "Python 3"
    },
    "language_info": {
      "name": "python"
    }
  },
  "cells": [
    {
      "cell_type": "markdown",
      "metadata": {
        "id": "view-in-github",
        "colab_type": "text"
      },
      "source": [
        "<a href=\"https://colab.research.google.com/github/maheshbabu-r/BIG_DATA/blob/main/FaceBookPosts_Analysis_Project.ipynb\" target=\"_parent\"><img src=\"https://colab.research.google.com/assets/colab-badge.svg\" alt=\"Open In Colab\"/></a>"
      ]
    },
    {
      "cell_type": "code",
      "metadata": {
        "colab": {
          "base_uri": "https://localhost:8080/"
        },
        "id": "kmhtCBk9Qxpl",
        "outputId": "4f32d538-943f-4215-8ce7-cc02f64f8ed3"
      },
      "source": [
        "!apt-get install openjdk-8-jdk-headless -qq > /dev/null\n",
        "\n",
        "!wget -q https://dlcdn.apache.org/spark/spark-3.1.2/spark-3.1.2-bin-hadoop3.2.tgz  # supress download output use -q\n",
        "\n",
        "!tar -zxvf spark-3.1.2-bin-hadoop3.2.tgz | grep \"something\" 2>/dev/null #Suppress tar output ---| grep \"something\" 2>/dev/null--- add after file_name\"\n",
        "\n",
        "!pip -q install findspark"
      ],
      "execution_count": 1,
      "outputs": [
        {
          "output_type": "stream",
          "name": "stdout",
          "text": [
            "Collecting findspark\n",
            "  Downloading findspark-1.4.2-py2.py3-none-any.whl (4.2 kB)\n",
            "Installing collected packages: findspark\n",
            "Successfully installed findspark-1.4.2\n"
          ]
        }
      ]
    },
    {
      "cell_type": "code",
      "metadata": {
        "colab": {
          "base_uri": "https://localhost:8080/"
        },
        "id": "26EZvT9YRv5Q",
        "outputId": "d4c45e28-58d7-4339-fb65-d3ce1ec5ad91"
      },
      "source": [
        "import os\n",
        "os.environ[\"JAVA_HOME\"] = \"/usr/lib/jvm/java-8-openjdk-amd64\"\n",
        "os.environ[\"SPARK_HOME\"] = \"/content/spark-3.1.2-bin-hadoop3.2\"\n",
        "\n",
        "import findspark\n",
        "findspark.init()\n",
        "\n",
        "from pyspark.sql import SparkSession\n",
        "from pyspark import SparkConf\n",
        "from pyspark import SparkContext\n",
        "\n",
        "# or import like this\n",
        "from pyspark.sql.functions import *\n",
        "\n",
        "\n",
        "sc = SparkContext.getOrCreate(SparkConf().setMaster(\"local[*]\"))\n",
        "spark = SparkSession.builder.appName(\"Analysis of Facebook Posts\").getOrCreate()\n",
        "print(spark.sparkContext.appName)"
      ],
      "execution_count": 2,
      "outputs": [
        {
          "output_type": "stream",
          "name": "stdout",
          "text": [
            "pyspark-shell\n"
          ]
        }
      ]
    },
    {
      "cell_type": "code",
      "metadata": {
        "id": "JqBZBR-saG-l"
      },
      "source": [
        "!wget -q https://raw.githubusercontent.com/maheshbabu-r/BIG_DATA/main/Hadoop%20Datasets/dataset_Facebook_cos.csv"
      ],
      "execution_count": 3,
      "outputs": []
    },
    {
      "cell_type": "code",
      "metadata": {
        "colab": {
          "base_uri": "https://localhost:8080/"
        },
        "id": "7jzIf0W56jnV",
        "outputId": "8d12cd79-64e1-48a3-bebc-961a6e852421"
      },
      "source": [
        "df=spark.read.csv(header=True,inferSchema=True,path=\"/content/dataset_Facebook_cos.csv\")\n",
        "df.printSchema()\n",
        "df.show(5)"
      ],
      "execution_count": 4,
      "outputs": [
        {
          "output_type": "stream",
          "name": "stdout",
          "text": [
            "root\n",
            " |-- Page total likes: integer (nullable = true)\n",
            " |-- Type: string (nullable = true)\n",
            " |-- Category: integer (nullable = true)\n",
            " |-- Post Month: integer (nullable = true)\n",
            " |-- Post Weekday: integer (nullable = true)\n",
            " |-- Post Hour: integer (nullable = true)\n",
            " |-- Paid: integer (nullable = true)\n",
            " |-- Lifetime Post Total Reach: integer (nullable = true)\n",
            " |-- Lifetime Post Total Impressions: integer (nullable = true)\n",
            " |-- Lifetime Engaged Users: integer (nullable = true)\n",
            " |-- Lifetime Post Consumers: integer (nullable = true)\n",
            " |-- Lifetime Post Consumptions: integer (nullable = true)\n",
            " |-- Lifetime Post Impressions by people who have liked your Page: integer (nullable = true)\n",
            " |-- Lifetime Post reach by people who like your Page: integer (nullable = true)\n",
            " |-- Lifetime People who have liked your Page and engaged with your post: integer (nullable = true)\n",
            " |-- comment: integer (nullable = true)\n",
            " |-- like: integer (nullable = true)\n",
            " |-- share: integer (nullable = true)\n",
            " |-- Total Interactions: integer (nullable = true)\n",
            "\n",
            "+----------------+------+--------+----------+------------+---------+----+-------------------------+-------------------------------+----------------------+-----------------------+--------------------------+------------------------------------------------------------+------------------------------------------------+-------------------------------------------------------------------+-------+----+-----+------------------+\n",
            "|Page total likes|  Type|Category|Post Month|Post Weekday|Post Hour|Paid|Lifetime Post Total Reach|Lifetime Post Total Impressions|Lifetime Engaged Users|Lifetime Post Consumers|Lifetime Post Consumptions|Lifetime Post Impressions by people who have liked your Page|Lifetime Post reach by people who like your Page|Lifetime People who have liked your Page and engaged with your post|comment|like|share|Total Interactions|\n",
            "+----------------+------+--------+----------+------------+---------+----+-------------------------+-------------------------------+----------------------+-----------------------+--------------------------+------------------------------------------------------------+------------------------------------------------+-------------------------------------------------------------------+-------+----+-----+------------------+\n",
            "|          139441| Photo|       2|        12|           4|        3|   0|                     2752|                           5091|                   178|                    109|                       159|                                                        3078|                                            1640|                                                                119|      4|  79|   17|               100|\n",
            "|          139441|Status|       2|        12|           3|       10|   0|                    10460|                          19057|                  1457|                   1361|                      1674|                                                       11710|                                            6112|                                                               1108|      5| 130|   29|               164|\n",
            "|          139441| Photo|       3|        12|           3|        3|   0|                     2413|                           4373|                   177|                    113|                       154|                                                        2812|                                            1503|                                                                132|      0|  66|   14|                80|\n",
            "|          139441| Photo|       2|        12|           2|       10|   1|                    50128|                          87991|                  2211|                    790|                      1119|                                                       61027|                                           32048|                                                               1386|     58|1572|  147|              1777|\n",
            "|          139441| Photo|       2|        12|           2|        3|   0|                     7244|                          13594|                   671|                    410|                       580|                                                        6228|                                            3200|                                                                396|     19| 325|   49|               393|\n",
            "+----------------+------+--------+----------+------------+---------+----+-------------------------+-------------------------------+----------------------+-----------------------+--------------------------+------------------------------------------------------------+------------------------------------------------+-------------------------------------------------------------------+-------+----+-----+------------------+\n",
            "only showing top 5 rows\n",
            "\n"
          ]
        }
      ]
    },
    {
      "cell_type": "code",
      "metadata": {
        "colab": {
          "base_uri": "https://localhost:8080/"
        },
        "id": "Sb2Ho-Ky8zkA",
        "outputId": "ba91055d-9e54-4113-f0be-21d7404e6343"
      },
      "source": [
        "# 1.\tThe total number of posts made\n",
        "print(\"total number of posts : %a\"%df.count())"
      ],
      "execution_count": 5,
      "outputs": [
        {
          "output_type": "stream",
          "name": "stdout",
          "text": [
            "total number of posts : 500\n"
          ]
        }
      ]
    },
    {
      "cell_type": "code",
      "metadata": {
        "colab": {
          "base_uri": "https://localhost:8080/"
        },
        "id": "RuPohmTi9Rhl",
        "outputId": "686e2ddc-7498-4147-9c9f-0f0042d32682"
      },
      "source": [
        "# 2.\tThe percentage of the growth or decline of the page, in terms of likes (subscriptions on the page),\n",
        "#  from the first post to the latest post\n",
        "\n",
        "present=df.collect()[0][\"Page total likes\"]\n",
        "print(\"subscriptions at recent post : %a\"%present)\n",
        "\n",
        "past=df.collect()[-1][\"Page total likes\"]\n",
        "print(\"subscriptions at first post : %a\"%past)\n",
        "\n",
        "growth=(present-past)*100/past\n",
        "\n",
        "print(\"growth from first post  to recent post : %a\"%growth)"
      ],
      "execution_count": 6,
      "outputs": [
        {
          "output_type": "stream",
          "name": "stdout",
          "text": [
            "subscriptions at recent post : 139441\n",
            "subscriptions at first post : 81370\n",
            "growth from first post  to recent post : 71.36659702593093\n"
          ]
        }
      ]
    },
    {
      "cell_type": "code",
      "metadata": {
        "colab": {
          "base_uri": "https://localhost:8080/"
        },
        "id": "be-igLDq2qSY",
        "outputId": "98a37bfe-d582-45c4-8b11-2696869aea72"
      },
      "source": [
        "# 3.\tWhich month, on average, has the highest number of post interactions?\n",
        "df.groupBy(\"Post Month\").agg(round(mean(\"Total Interactions\"),2).alias(\"avg_Interactions\"))\\\n",
        "                                                    .orderBy(desc(\"avg_Interactions\")).show()"
      ],
      "execution_count": 7,
      "outputs": [
        {
          "output_type": "stream",
          "name": "stdout",
          "text": [
            "+----------+----------------+\n",
            "|Post Month|avg_Interactions|\n",
            "+----------+----------------+\n",
            "|         7|           328.5|\n",
            "|         9|           278.5|\n",
            "|         5|           256.3|\n",
            "|         2|          242.04|\n",
            "|         8|          225.38|\n",
            "|         4|          217.52|\n",
            "|        12|          201.34|\n",
            "|        11|          185.76|\n",
            "|        10|           182.9|\n",
            "|         1|           160.6|\n",
            "|         6|          157.71|\n",
            "|         3|           97.06|\n",
            "+----------+----------------+\n",
            "\n"
          ]
        }
      ]
    },
    {
      "cell_type": "code",
      "metadata": {
        "colab": {
          "base_uri": "https://localhost:8080/"
        },
        "id": "h_dnwsBS2qPP",
        "outputId": "2cbb1e9b-bee3-495a-8bcb-7eae0df1b59a"
      },
      "source": [
        "# 4.\tWhich day of the week, on average, has the highest number of post interactions?\n",
        "df.groupBy(\"Post Weekday\").agg(round(mean(\"Total Interactions\"),2).alias(\"avg_Interactions\"))\\\n",
        "                                                    .orderBy(desc(\"avg_Interactions\")).show()"
      ],
      "execution_count": 8,
      "outputs": [
        {
          "output_type": "stream",
          "name": "stdout",
          "text": [
            "+------------+----------------+\n",
            "|Post Weekday|avg_Interactions|\n",
            "+------------+----------------+\n",
            "|           3|          287.77|\n",
            "|           4|          260.53|\n",
            "|           1|          237.03|\n",
            "|           5|          205.31|\n",
            "|           2|          200.45|\n",
            "|           6|           162.8|\n",
            "|           7|          153.59|\n",
            "+------------+----------------+\n",
            "\n"
          ]
        }
      ]
    },
    {
      "cell_type": "code",
      "metadata": {
        "colab": {
          "base_uri": "https://localhost:8080/"
        },
        "id": "X35robb_2pJO",
        "outputId": "cd2d67c4-bd5a-4137-f843-5764b83c5378"
      },
      "source": [
        "# 5.Which hour of the day, on average, has the highest number of post interactions?\n",
        "df.groupBy(\"Post Hour\").agg(round(mean(\"Total Interactions\"),2).alias(\"avg_Interactions\"))\\\n",
        "                                                    .orderBy(desc(\"avg_Interactions\")).show()"
      ],
      "execution_count": 9,
      "outputs": [
        {
          "output_type": "stream",
          "name": "stdout",
          "text": [
            "+---------+----------------+\n",
            "|Post Hour|avg_Interactions|\n",
            "+---------+----------------+\n",
            "|        5|          684.31|\n",
            "|       14|          307.15|\n",
            "|       20|           280.0|\n",
            "|       10|          250.91|\n",
            "|       13|          245.02|\n",
            "|        3|          228.59|\n",
            "|        2|           191.1|\n",
            "|        1|           181.0|\n",
            "|       12|          179.48|\n",
            "|        4|          168.09|\n",
            "|       17|          157.33|\n",
            "|        6|          157.13|\n",
            "|        7|          148.46|\n",
            "|       11|           146.2|\n",
            "|       23|           135.0|\n",
            "|        9|           133.1|\n",
            "|       22|           125.0|\n",
            "|        8|           90.25|\n",
            "|       16|            84.0|\n",
            "|       15|           62.67|\n",
            "+---------+----------------+\n",
            "only showing top 20 rows\n",
            "\n"
          ]
        }
      ]
    },
    {
      "cell_type": "code",
      "metadata": {
        "colab": {
          "base_uri": "https://localhost:8080/"
        },
        "id": "lsQ9fjvx2pGY",
        "outputId": "89740d07-12ef-400f-90fe-55df35f8e5e8"
      },
      "source": [
        "# 6.\tDetermine if paid (promoted) posts have a higher correlation with a large number of post shares when compared to \n",
        "# the post shares of organic (non-promoted) posts. This is to determine the commercial viability of investing in \n",
        "# paid posts for promoting cosmetic products. Answer with either a Yes or a No, \n",
        "# and provide the methodology of how you reached your conclusion\n",
        "\n",
        "paid=df.filter(col(\"Paid\")==1).corr(\"share\",\"Lifetime Post Impressions by people who have liked your Page\",\"pearson\")\n",
        "print(\"correlation for Paid : %a\"%paid)\n",
        "\n",
        "organic=df.filter(col(\"Paid\")==0).corr(\"share\",\"Lifetime Post Impressions by people who have liked your Page\",\"pearson\")\n",
        "print(\"correlation for Organic : %a\"%organic)\n"
      ],
      "execution_count": 10,
      "outputs": [
        {
          "output_type": "stream",
          "name": "stdout",
          "text": [
            "correlation for Paid : 0.4366305485653235\n",
            "correlation for Organic : 0.2400598323464855\n"
          ]
        }
      ]
    },
    {
      "cell_type": "code",
      "metadata": {
        "colab": {
          "base_uri": "https://localhost:8080/"
        },
        "id": "UH4FHOtq2pDa",
        "outputId": "d4a286b1-8402-42d8-b7dc-1406aa75a223"
      },
      "source": [
        "# 7.\tWhich post type (photo, video, status, or link) is the most attractive to people who have\n",
        "# subscribed to your page (people who have liked the page)?\n",
        "df.groupBy(\"Type\").agg(sum(\"Lifetime People who have liked your Page and engaged with your post\").alias(\"Liked\"))\\\n",
        "                                                    .orderBy(desc(\"Liked\")).show()\n"
      ],
      "execution_count": 11,
      "outputs": [
        {
          "output_type": "stream",
          "name": "stdout",
          "text": [
            "+------+------+\n",
            "|  Type| Liked|\n",
            "+------+------+\n",
            "| Photo|216112|\n",
            "|Status| 77393|\n",
            "| Video|  6856|\n",
            "|  Link|  4632|\n",
            "+------+------+\n",
            "\n"
          ]
        }
      ]
    },
    {
      "cell_type": "code",
      "metadata": {
        "colab": {
          "base_uri": "https://localhost:8080/"
        },
        "id": "AOcBJaAQ2o9g",
        "outputId": "ff2a1c55-39c1-4390-db4b-68ffb0f1e8a5"
      },
      "source": [
        "# 8.\tWhich hour of the day is ideal for posting photographic content? Arrange the hours of \n",
        "# the day according to the order of the Lifetime Post Impressions column?\n",
        "df.filter(col(\"Type\")=='Photo').groupBy(\"Post Hour\").agg(round(mean(\"Lifetime Post Total Impressions\"),2).alias(\"avg_Impressions\"))\\\n",
        "                                                    .orderBy(desc(\"avg_Impressions\")).show(24)"
      ],
      "execution_count": 12,
      "outputs": [
        {
          "output_type": "stream",
          "name": "stdout",
          "text": [
            "+---------+---------------+\n",
            "|Post Hour|avg_Impressions|\n",
            "+---------+---------------+\n",
            "|        7|      111260.45|\n",
            "|       13|       48764.96|\n",
            "|       14|       46405.18|\n",
            "|        5|       40636.08|\n",
            "|        2|       39888.63|\n",
            "|       10|       33738.12|\n",
            "|       12|       25247.67|\n",
            "|       22|        24112.0|\n",
            "|        3|       22784.06|\n",
            "|        4|       19796.96|\n",
            "|        6|       19738.33|\n",
            "|       17|        15683.0|\n",
            "|        9|        11118.0|\n",
            "|       20|         9970.0|\n",
            "|       15|         9678.8|\n",
            "|       16|         9238.0|\n",
            "|       11|        8649.12|\n",
            "|        1|        6632.75|\n",
            "|       18|        6195.67|\n",
            "|        8|        5427.58|\n",
            "|       23|         5058.0|\n",
            "|       19|          570.0|\n",
            "+---------+---------------+\n",
            "\n"
          ]
        }
      ]
    },
    {
      "cell_type": "code",
      "metadata": {
        "colab": {
          "base_uri": "https://localhost:8080/"
        },
        "id": "mzGdUZ6Y-Lv5",
        "outputId": "bbde9b7d-9a02-462e-816b-7eb40e9af8bb"
      },
      "source": [
        "# 9.\tCreate an additional column with the name Likes-to-comment Ratio, \n",
        "# with the column values having the equation:\n",
        "df.withColumn(\"Likes-to-comment Ratio\",(round((df.like/df.comment),2))).show(5)"
      ],
      "execution_count": 13,
      "outputs": [
        {
          "output_type": "stream",
          "name": "stdout",
          "text": [
            "+----------------+------+--------+----------+------------+---------+----+-------------------------+-------------------------------+----------------------+-----------------------+--------------------------+------------------------------------------------------------+------------------------------------------------+-------------------------------------------------------------------+-------+----+-----+------------------+----------------------+\n",
            "|Page total likes|  Type|Category|Post Month|Post Weekday|Post Hour|Paid|Lifetime Post Total Reach|Lifetime Post Total Impressions|Lifetime Engaged Users|Lifetime Post Consumers|Lifetime Post Consumptions|Lifetime Post Impressions by people who have liked your Page|Lifetime Post reach by people who like your Page|Lifetime People who have liked your Page and engaged with your post|comment|like|share|Total Interactions|Likes-to-comment Ratio|\n",
            "+----------------+------+--------+----------+------------+---------+----+-------------------------+-------------------------------+----------------------+-----------------------+--------------------------+------------------------------------------------------------+------------------------------------------------+-------------------------------------------------------------------+-------+----+-----+------------------+----------------------+\n",
            "|          139441| Photo|       2|        12|           4|        3|   0|                     2752|                           5091|                   178|                    109|                       159|                                                        3078|                                            1640|                                                                119|      4|  79|   17|               100|                 19.75|\n",
            "|          139441|Status|       2|        12|           3|       10|   0|                    10460|                          19057|                  1457|                   1361|                      1674|                                                       11710|                                            6112|                                                               1108|      5| 130|   29|               164|                  26.0|\n",
            "|          139441| Photo|       3|        12|           3|        3|   0|                     2413|                           4373|                   177|                    113|                       154|                                                        2812|                                            1503|                                                                132|      0|  66|   14|                80|                  null|\n",
            "|          139441| Photo|       2|        12|           2|       10|   1|                    50128|                          87991|                  2211|                    790|                      1119|                                                       61027|                                           32048|                                                               1386|     58|1572|  147|              1777|                  27.1|\n",
            "|          139441| Photo|       2|        12|           2|        3|   0|                     7244|                          13594|                   671|                    410|                       580|                                                        6228|                                            3200|                                                                396|     19| 325|   49|               393|                 17.11|\n",
            "+----------------+------+--------+----------+------------+---------+----+-------------------------+-------------------------------+----------------------+-----------------------+--------------------------+------------------------------------------------------------+------------------------------------------------+-------------------------------------------------------------------+-------+----+-----+------------------+----------------------+\n",
            "only showing top 5 rows\n",
            "\n"
          ]
        }
      ]
    },
    {
      "cell_type": "code",
      "metadata": {
        "colab": {
          "base_uri": "https://localhost:8080/"
        },
        "id": "rY1CWjOJ2o3P",
        "outputId": "b6678135-8c11-40d7-b04e-94d6fc579b65"
      },
      "source": [
        "# 10.\tArrange post categories (1,2,3) in the descending order of the reach that they can accumulate on average\n",
        "df.groupBy(\"Category\").agg(round(mean(\"Lifetime Post Total Reach\"),2).alias(\"avg_reach\"))\\\n",
        "                                                    .orderBy(desc(\"avg_reach\")).show()"
      ],
      "execution_count": 14,
      "outputs": [
        {
          "output_type": "stream",
          "name": "stdout",
          "text": [
            "+--------+---------+\n",
            "|Category|avg_reach|\n",
            "+--------+---------+\n",
            "|       1| 18320.98|\n",
            "|       3| 11162.15|\n",
            "|       2|  9865.65|\n",
            "+--------+---------+\n",
            "\n"
          ]
        }
      ]
    },
    {
      "cell_type": "code",
      "metadata": {
        "colab": {
          "base_uri": "https://localhost:8080/"
        },
        "id": "vTAt1PPx1pmy",
        "outputId": "b4778fb7-9d8a-48be-dda2-b237f38a3db3"
      },
      "source": [
        "# 11.\tDetermine the standard deviation of the average post reach for each of the day hours. \n",
        "# This is to determine if the time of the day is an ideal criterion to identify when to create posts\n",
        "df.groupBy(\"Post Weekday\",\"Post Hour\").agg(round(stddev(\"Lifetime Post Total Reach\"),2).alias(\"stddev_reach\"))\\\n",
        "                                                    .orderBy(desc(\"stddev_reach\")).show(7*24)\n"
      ],
      "execution_count": 15,
      "outputs": [
        {
          "output_type": "stream",
          "name": "stdout",
          "text": [
            "+------------+---------+------------+\n",
            "|Post Weekday|Post Hour|stddev_reach|\n",
            "+------------+---------+------------+\n",
            "|           3|        5|   124546.96|\n",
            "|           1|       14|    71689.31|\n",
            "|           7|        2|    59325.91|\n",
            "|           7|       14|    55508.16|\n",
            "|           6|       13|    54104.77|\n",
            "|           2|        4|    44556.21|\n",
            "|           2|       13|    39102.89|\n",
            "|           5|        9|    38468.53|\n",
            "|           5|       13|    33614.37|\n",
            "|           1|        2|    33410.99|\n",
            "|           6|       10|    31941.17|\n",
            "|           2|        3|    30660.76|\n",
            "|           2|        6|    30108.81|\n",
            "|           4|       10|     29408.5|\n",
            "|           6|       12|    26002.98|\n",
            "|           5|        3|    25241.08|\n",
            "|           4|        7|     25075.3|\n",
            "|           2|       10|    24740.35|\n",
            "|           3|        3|     24109.5|\n",
            "|           3|       10|    23685.78|\n",
            "|           2|       12|    23681.55|\n",
            "|           4|        5|    21693.55|\n",
            "|           4|        3|    21292.99|\n",
            "|           1|       13|    20198.28|\n",
            "|           4|       12|    19632.47|\n",
            "|           3|        2|    19538.98|\n",
            "|           1|       10|    18305.76|\n",
            "|           6|        4|    18183.63|\n",
            "|           6|       14|    18087.79|\n",
            "|           3|        4|    16634.54|\n",
            "|           5|        7|    16339.48|\n",
            "|           3|       13|    15840.06|\n",
            "|           7|        3|    15554.82|\n",
            "|           5|       11|    15015.66|\n",
            "|           7|       12|    14734.32|\n",
            "|           4|       13|    12877.66|\n",
            "|           1|        3|    11924.78|\n",
            "|           4|       11|    11440.47|\n",
            "|           5|       10|    10908.17|\n",
            "|           4|        6|    10284.16|\n",
            "|           6|       11|      9947.0|\n",
            "|           7|        5|     9647.06|\n",
            "|           3|        7|     8675.25|\n",
            "|           5|       14|     8202.44|\n",
            "|           6|        6|     7804.88|\n",
            "|           6|       17|     7755.55|\n",
            "|           1|       12|     7336.61|\n",
            "|           6|        3|     7322.68|\n",
            "|           3|       11|     6885.01|\n",
            "|           7|        9|     6714.87|\n",
            "|           6|        2|     6568.32|\n",
            "|           5|       12|     6407.75|\n",
            "|           2|        7|     5522.95|\n",
            "|           1|        9|     4912.75|\n",
            "|           7|       10|      4876.5|\n",
            "|           7|       11|     4028.45|\n",
            "|           3|        8|      3959.8|\n",
            "|           7|        6|     3656.45|\n",
            "|           4|        2|     3617.46|\n",
            "|           7|        4|      3608.8|\n",
            "|           7|       13|     3558.42|\n",
            "|           2|        2|     3538.71|\n",
            "|           1|        4|     2744.77|\n",
            "|           5|        4|     2590.35|\n",
            "|           6|        9|     2242.95|\n",
            "|           1|       18|     2151.02|\n",
            "|           4|        4|     2094.74|\n",
            "|           6|        8|      1618.2|\n",
            "|           5|        2|     1514.67|\n",
            "|           2|       11|     1500.43|\n",
            "|           2|        8|     1434.72|\n",
            "|           1|       11|     1397.27|\n",
            "|           5|        8|     1366.99|\n",
            "|           2|        9|     1247.18|\n",
            "|           2|        5|     1166.73|\n",
            "|           6|       15|     1052.17|\n",
            "|           7|       15|      961.67|\n",
            "|           4|        9|      879.14|\n",
            "|           1|        6|      453.96|\n",
            "|           3|        9|      296.98|\n",
            "|           6|       20|        null|\n",
            "|           3|        1|        null|\n",
            "|           3|       15|        null|\n",
            "|           5|        6|        null|\n",
            "|           6|        5|        null|\n",
            "|           4|       22|        null|\n",
            "|           7|        8|        null|\n",
            "|           5|        1|        null|\n",
            "|           4|       15|        null|\n",
            "|           2|       14|        null|\n",
            "|           5|        5|        null|\n",
            "|           7|       17|        null|\n",
            "|           2|       23|        null|\n",
            "|           7|        7|        null|\n",
            "|           3|       12|        null|\n",
            "|           1|       19|        null|\n",
            "|           2|        1|        null|\n",
            "|           7|       18|        null|\n",
            "|           3|        6|        null|\n",
            "|           4|       14|        null|\n",
            "|           1|        5|        null|\n",
            "|           6|       16|        null|\n",
            "|           4|        1|        null|\n",
            "+------------+---------+------------+\n",
            "\n"
          ]
        }
      ]
    },
    {
      "cell_type": "code",
      "metadata": {
        "colab": {
          "base_uri": "https://localhost:8080/"
        },
        "id": "lT_wwcOFvc_L",
        "outputId": "8c93227e-723f-490c-bef4-b1d89719d20d"
      },
      "source": [
        "# 12.Is there any correlation between the number of post consumptions and the total interactions on the post? \n",
        "cor_rel=df.corr(\"Lifetime Post Consumptions\",\"Total Interactions\",\"pearson\")\n",
        "print(\"positive relationship : %a\" %cor_rel)"
      ],
      "execution_count": 16,
      "outputs": [
        {
          "output_type": "stream",
          "name": "stdout",
          "text": [
            "positive relationship : 0.2380821957904635\n"
          ]
        }
      ]
    },
    {
      "cell_type": "code",
      "metadata": {
        "id": "LcbAdd7QGVz3"
      },
      "source": [
        ""
      ],
      "execution_count": 16,
      "outputs": []
    }
  ]
}