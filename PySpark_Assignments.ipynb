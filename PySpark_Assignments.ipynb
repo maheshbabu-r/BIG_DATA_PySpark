{
  "nbformat": 4,
  "nbformat_minor": 0,
  "metadata": {
    "colab": {
      "name": "PySpark_Assignments.ipynb",
      "provenance": [],
      "authorship_tag": "ABX9TyMeGOouEsNjLdYc5kK00Y1z",
      "include_colab_link": true
    },
    "kernelspec": {
      "name": "python3",
      "display_name": "Python 3"
    },
    "language_info": {
      "name": "python"
    }
  },
  "cells": [
    {
      "cell_type": "markdown",
      "metadata": {
        "id": "view-in-github",
        "colab_type": "text"
      },
      "source": [
        "<a href=\"https://colab.research.google.com/github/maheshbabu-r/BIG_DATA/blob/main/PySpark_Assignments.ipynb\" target=\"_parent\"><img src=\"https://colab.research.google.com/assets/colab-badge.svg\" alt=\"Open In Colab\"/></a>"
      ]
    },
    {
      "cell_type": "code",
      "metadata": {
        "colab": {
          "base_uri": "https://localhost:8080/"
        },
        "id": "vaiciVdNQsIF",
        "outputId": "dcd95b6c-a1b3-48aa-9c71-ad5db0f04a82"
      },
      "source": [
        "!pwd\n",
        "!ls\n",
        "!python --version"
      ],
      "execution_count": 1,
      "outputs": [
        {
          "output_type": "stream",
          "name": "stdout",
          "text": [
            "/content\n",
            "iot_devices.json  sample_data\n",
            "Python 3.7.11\n"
          ]
        }
      ]
    },
    {
      "cell_type": "code",
      "metadata": {
        "id": "zlsv9yGB2I81"
      },
      "source": [
        "!apt-get install openjdk-8-jdk-headless -qq > /dev/null\n",
        "\n",
        "!wget -q https://dlcdn.apache.org/spark/spark-3.1.2/spark-3.1.2-bin-hadoop3.2.tgz  # supress download output use -q\n",
        "\n",
        "!tar -zxvf spark-3.1.2-bin-hadoop3.2.tgz | grep \"something\" 2>/dev/null #Suppress tar output ---| grep \"something\" 2>/dev/null--- add after file_name\"\n",
        "\n",
        "!pip -q install findspark"
      ],
      "execution_count": 2,
      "outputs": []
    },
    {
      "cell_type": "code",
      "metadata": {
        "id": "v6RZ_81C3IkA",
        "colab": {
          "base_uri": "https://localhost:8080/"
        },
        "outputId": "d6f37896-92ee-455c-c4e2-f28acd130c8e"
      },
      "source": [
        "import os\n",
        "os.environ[\"JAVA_HOME\"] = \"/usr/lib/jvm/java-8-openjdk-amd64\"\n",
        "os.environ[\"SPARK_HOME\"] = \"/content/spark-3.1.2-bin-hadoop3.2\"\n",
        "\n",
        "import findspark\n",
        "findspark.init()\n",
        "\n",
        "from pyspark.sql import SparkSession\n",
        "from pyspark import SparkConf\n",
        "from pyspark import SparkContext\n",
        "\n",
        "from pyspark.sql.functions import approx_count_distinct,collect_list\n",
        "from pyspark.sql.functions import collect_set,sum,avg,max,countDistinct,count\n",
        "from pyspark.sql.functions import first, last, kurtosis, min, mean, skewness \n",
        "from pyspark.sql.functions import stddev, stddev_samp, stddev_pop, sumDistinct\n",
        "from pyspark.sql.functions import variance,var_samp,  var_pop\n",
        "\n",
        "# or import like this\n",
        "from pyspark.sql.functions import *\n",
        "\n",
        "sc = SparkContext.getOrCreate(SparkConf().setMaster(\"local[*]\"))\n",
        "spark = SparkSession.builder.appName(\"PySpark 3.0 Setup on Google Colab\").getOrCreate()\n",
        "print(spark.sparkContext.appName)"
      ],
      "execution_count": 3,
      "outputs": [
        {
          "output_type": "stream",
          "name": "stdout",
          "text": [
            "pyspark-shell\n"
          ]
        }
      ]
    },
    {
      "cell_type": "markdown",
      "metadata": {
        "id": "ZW2qW4Xi4BCb"
      },
      "source": [
        "#Assignment 1\n",
        "##word-count(shakespeare.txt)"
      ]
    },
    {
      "cell_type": "markdown",
      "metadata": {
        "id": "nKOrLiQV9HBC"
      },
      "source": [
        "##### Problem statement:\n",
        "You work as a Big Data Engineer at GrapeVine Pvt. Ltd. Your company is currently working on\n",
        "English language analytics using Hadoop. Having performed this task already, the company\n",
        "requires you to increase the computational efficiency using Apache Spark. You have been\n",
        "assigned certain tasks for the fulfillment of this activity."
      ]
    },
    {
      "cell_type": "code",
      "metadata": {
        "id": "Fl-krPaScKT9"
      },
      "source": [
        "!wget -q https://raw.githubusercontent.com/maheshbabu-r/BIG_DATA/main/Hadoop%20Datasets/Shakespeare.txt"
      ],
      "execution_count": 4,
      "outputs": []
    },
    {
      "cell_type": "code",
      "metadata": {
        "id": "lpxDaOsnTrba"
      },
      "source": [
        "words=sc.textFile(\"/content/Shakespeare.txt\")"
      ],
      "execution_count": 5,
      "outputs": []
    },
    {
      "cell_type": "code",
      "metadata": {
        "colab": {
          "base_uri": "https://localhost:8080/"
        },
        "id": "XNZBMtGMV7v2",
        "outputId": "161f1f09-67df-4b3e-c728-7c9c38b8a8bb"
      },
      "source": [
        "#words.collect() #-- for all the data\n",
        "words.take(10)"
      ],
      "execution_count": 6,
      "outputs": [
        {
          "output_type": "execute_result",
          "data": {
            "text/plain": [
              "[\"Project Gutenberg's Etext of Shakespeare's First Folio/35 Plays\",\n",
              " 'This is our 3rd edition of most of these plays.  See the index.',\n",
              " '',\n",
              " '',\n",
              " 'Copyright laws are changing all over the world, be sure to check',\n",
              " 'the copyright laws for your country before posting these files!!',\n",
              " '',\n",
              " 'Please take a look at the important information in this header.',\n",
              " 'We encourage you to keep this file on your own disk, keeping an',\n",
              " 'electronic path open for the next readers.  Do not remove this.']"
            ]
          },
          "metadata": {},
          "execution_count": 6
        }
      ]
    },
    {
      "cell_type": "code",
      "metadata": {
        "id": "cF37-sAMV-PT"
      },
      "source": [
        "rdd=words.flatMap(lambda x : x.split(\" \")).map(lambda x : (x,1))"
      ],
      "execution_count": 7,
      "outputs": []
    },
    {
      "cell_type": "code",
      "metadata": {
        "colab": {
          "base_uri": "https://localhost:8080/"
        },
        "id": "Mt2mLZDBWYw7",
        "outputId": "545a37ff-55d0-4fb8-8d83-f0032979147d"
      },
      "source": [
        "# print(rdd.collect()) #-- for all the data\n",
        "print(rdd.take(10))"
      ],
      "execution_count": 8,
      "outputs": [
        {
          "output_type": "stream",
          "name": "stdout",
          "text": [
            "[('Project', 1), (\"Gutenberg's\", 1), ('Etext', 1), ('of', 1), (\"Shakespeare's\", 1), ('First', 1), ('Folio/35', 1), ('Plays', 1), ('This', 1), ('is', 1)]\n"
          ]
        }
      ]
    },
    {
      "cell_type": "code",
      "metadata": {
        "id": "kU5OA9NcWahy"
      },
      "source": [
        "rdd1=rdd.reduceByKey(lambda x,y:x+y)"
      ],
      "execution_count": 9,
      "outputs": []
    },
    {
      "cell_type": "code",
      "metadata": {
        "colab": {
          "base_uri": "https://localhost:8080/"
        },
        "id": "xFyzbjtLWoGC",
        "outputId": "126a8131-43d8-40d6-c232-8eac9a86808a"
      },
      "source": [
        "# 1. Find out the count of each word in the ‘Shakespeare.txt’ dataset\n",
        "\n",
        "#print(rdd1.collect()) #-- for all records\n",
        "\n",
        "print(rdd1.take(10))"
      ],
      "execution_count": 10,
      "outputs": [
        {
          "output_type": "stream",
          "name": "stdout",
          "text": [
            "[('Project', 25), ('Etext', 7), ('of', 14571), (\"Shakespeare's\", 8), ('is', 7459), ('3rd', 1), ('edition', 3), ('these', 1000), ('plays.', 1), ('', 107574)]\n"
          ]
        }
      ]
    },
    {
      "cell_type": "code",
      "metadata": {
        "colab": {
          "base_uri": "https://localhost:8080/"
        },
        "id": "4DdosbisX-a1",
        "outputId": "8b0b09e3-6b7a-4919-96ac-9f9dd02c55c5"
      },
      "source": [
        "type(rdd1.collect())"
      ],
      "execution_count": 11,
      "outputs": [
        {
          "output_type": "execute_result",
          "data": {
            "text/plain": [
              "list"
            ]
          },
          "metadata": {},
          "execution_count": 11
        }
      ]
    },
    {
      "cell_type": "code",
      "metadata": {
        "id": "CyNl4_UFYHz_"
      },
      "source": [
        "df1 = spark.createDataFrame(rdd1).toDF(\"key\",\"value\")"
      ],
      "execution_count": 12,
      "outputs": []
    },
    {
      "cell_type": "code",
      "metadata": {
        "colab": {
          "base_uri": "https://localhost:8080/"
        },
        "id": "7AlubbktYQwF",
        "outputId": "a3007561-95d8-441d-defd-af7d8d2ade7a"
      },
      "source": [
        "df1.show(10)"
      ],
      "execution_count": 13,
      "outputs": [
        {
          "output_type": "stream",
          "name": "stdout",
          "text": [
            "+-------------+------+\n",
            "|          key| value|\n",
            "+-------------+------+\n",
            "|      Project|    25|\n",
            "|        Etext|     7|\n",
            "|           of| 14571|\n",
            "|Shakespeare's|     8|\n",
            "|           is|  7459|\n",
            "|          3rd|     1|\n",
            "|      edition|     3|\n",
            "|        these|  1000|\n",
            "|       plays.|     1|\n",
            "|             |107574|\n",
            "+-------------+------+\n",
            "only showing top 10 rows\n",
            "\n"
          ]
        }
      ]
    },
    {
      "cell_type": "code",
      "metadata": {
        "colab": {
          "base_uri": "https://localhost:8080/"
        },
        "id": "12zq2pjbgXzw",
        "outputId": "fe1a60cd-16e9-445f-f5e2-cff8fb72e0bf"
      },
      "source": [
        "df1.printSchema()"
      ],
      "execution_count": 14,
      "outputs": [
        {
          "output_type": "stream",
          "name": "stdout",
          "text": [
            "root\n",
            " |-- key: string (nullable = true)\n",
            " |-- value: long (nullable = true)\n",
            "\n"
          ]
        }
      ]
    },
    {
      "cell_type": "code",
      "metadata": {
        "colab": {
          "base_uri": "https://localhost:8080/"
        },
        "id": "n43I_VtpYYvV",
        "outputId": "4f0dcb13-a6dc-4486-88e2-334930446ca1"
      },
      "source": [
        "# 2. Display the most commonly used words (words with the count over 100 are considered common)\n",
        "\n",
        "df1.filter(df1.value>100).show()"
      ],
      "execution_count": 15,
      "outputs": [
        {
          "output_type": "stream",
          "name": "stdout",
          "text": [
            "+-------+------+\n",
            "|    key| value|\n",
            "+-------+------+\n",
            "|     of| 14571|\n",
            "|     is|  7459|\n",
            "|  these|  1000|\n",
            "|       |107574|\n",
            "|    are|  2777|\n",
            "| world,|   104|\n",
            "|   sure|   208|\n",
            "| before|   472|\n",
            "|   take|   934|\n",
            "|     at|  2074|\n",
            "|     in|  8779|\n",
            "|   this|  4669|\n",
            "|     an|  1307|\n",
            "|     Do|   277|\n",
            "|    The|  3321|\n",
            "|  Since|   131|\n",
            "|further|   129|\n",
            "|    new|   191|\n",
            "|     we|  2284|\n",
            "|     do|  1695|\n",
            "+-------+------+\n",
            "only showing top 20 rows\n",
            "\n"
          ]
        }
      ]
    },
    {
      "cell_type": "code",
      "metadata": {
        "colab": {
          "base_uri": "https://localhost:8080/"
        },
        "id": "RgOBN6hkdEkR",
        "outputId": "95c158e3-e12d-4ae7-b575-98ad9c7cd9bb"
      },
      "source": [
        "df1.filter(df1.value>100).orderBy(df1.value.desc()).show()"
      ],
      "execution_count": 16,
      "outputs": [
        {
          "output_type": "stream",
          "name": "stdout",
          "text": [
            "+----+------+\n",
            "| key| value|\n",
            "+----+------+\n",
            "|    |107574|\n",
            "| the| 21652|\n",
            "|   I| 19071|\n",
            "| and| 16624|\n",
            "|  to| 14978|\n",
            "|  of| 14571|\n",
            "|   a| 12121|\n",
            "|  my| 10465|\n",
            "| you|  9838|\n",
            "|  in|  8779|\n",
            "|  is|  7459|\n",
            "|that|  7179|\n",
            "| And|  7029|\n",
            "| not|  6761|\n",
            "|with|  6217|\n",
            "|your|  6186|\n",
            "| his|  5783|\n",
            "|  be|  5454|\n",
            "| for|  5372|\n",
            "|  it|  5329|\n",
            "+----+------+\n",
            "only showing top 20 rows\n",
            "\n"
          ]
        }
      ]
    },
    {
      "cell_type": "code",
      "metadata": {
        "colab": {
          "base_uri": "https://localhost:8080/"
        },
        "id": "q4hFNIMWbyS6",
        "outputId": "1f2f05bb-6bc6-40e9-e43e-6a05bb272887"
      },
      "source": [
        "# 3. Display the words that are rarely used (words with the count below 30 are considered rare)\n",
        "\n",
        "df1.filter(df1.value<30).orderBy(df1.value.asc()).show()"
      ],
      "execution_count": 17,
      "outputs": [
        {
          "output_type": "stream",
          "name": "stdout",
          "text": [
            "+-----------------+-----+\n",
            "|              key|value|\n",
            "+-----------------+-----+\n",
            "|         Readable|    1|\n",
            "|       Volunteers|    1|\n",
            "|00ws110.zip******|    1|\n",
            "|       contacting|    1|\n",
            "|          files!!|    1|\n",
            "|         included|    1|\n",
            "|       electronic|    1|\n",
            "|              [35|    1|\n",
            "|          Vanilla|    1|\n",
            "|           Plays]|    1|\n",
            "|           Humans|    1|\n",
            "|            July,|    1|\n",
            "|           *These|    1|\n",
            "|             2000|    1|\n",
            "|        Copyright|    1|\n",
            "|           [Etext|    1|\n",
            "|        **Welcome|    1|\n",
            "|           #2270]|    1|\n",
            "|       Computers,|    1|\n",
            "|        *****This|    1|\n",
            "+-----------------+-----+\n",
            "only showing top 20 rows\n",
            "\n"
          ]
        }
      ]
    },
    {
      "cell_type": "code",
      "metadata": {
        "colab": {
          "base_uri": "https://localhost:8080/"
        },
        "id": "xCN7yoQ6cyJn",
        "outputId": "3d359174-d36e-4837-c3ba-aa9c2a991584"
      },
      "source": [
        "# 4. Display the most commonly used word\n",
        "df1.orderBy(df1.value.desc()).show(1)"
      ],
      "execution_count": 18,
      "outputs": [
        {
          "output_type": "stream",
          "name": "stdout",
          "text": [
            "+---+------+\n",
            "|key| value|\n",
            "+---+------+\n",
            "|   |107574|\n",
            "+---+------+\n",
            "only showing top 1 row\n",
            "\n"
          ]
        }
      ]
    },
    {
      "cell_type": "code",
      "metadata": {
        "colab": {
          "base_uri": "https://localhost:8080/"
        },
        "id": "14bLxv7XeDY0",
        "outputId": "863061b5-00ac-43c6-add4-c3264b5dd123"
      },
      "source": [
        "# 5. Display the least used word\n",
        "df1.orderBy(df1.value.asc()).show(1)"
      ],
      "execution_count": 19,
      "outputs": [
        {
          "output_type": "stream",
          "name": "stdout",
          "text": [
            "+-------+-----+\n",
            "|    key|value|\n",
            "+-------+-----+\n",
            "|files!!|    1|\n",
            "+-------+-----+\n",
            "only showing top 1 row\n",
            "\n"
          ]
        }
      ]
    },
    {
      "cell_type": "markdown",
      "metadata": {
        "id": "_H9PYmkL9dog"
      },
      "source": [
        "#Assignment 2\n",
        "##IOT_Devices"
      ]
    },
    {
      "cell_type": "markdown",
      "metadata": {
        "id": "-xtD7dz1Kq3G"
      },
      "source": [
        "_<b>Problem Statement</b>:_\n",
        "Imagine that you are working as an analyst for a retail firm. Your firm collects sensor data from\n",
        "all over the world. You need to analyze the same and provide insights to customers. Since you\n",
        "are collecting huge amounts of sensor data, the analysis platform is chosen as Spark SQL."
      ]
    },
    {
      "cell_type": "code",
      "metadata": {
        "colab": {
          "base_uri": "https://localhost:8080/"
        },
        "id": "3YSfriHR9ae8",
        "outputId": "aa67bf77-da03-462c-d35d-bd29217b830c"
      },
      "source": [
        "iot = spark.read.csv(header=True, inferSchema=True, path=\"/content/iot_devices.json\")\n",
        "\n",
        "iot.show(10)"
      ],
      "execution_count": 20,
      "outputs": [
        {
          "output_type": "stream",
          "name": "stdout",
          "text": [
            "+----------------+--------------------------------------+---------------------+-------------+--------------+----------------------+----------------------+------------------------+-------------------+-----------+---------------+-------------------+------------------+----------------+-----------------------------+\n",
            "| {\"device_id\": 1| \"device_name\": \"meter-gauge-1xbYRYcj\"| \"ip\": \"68.161.225.1\"| \"cca2\": \"US\"| \"cca3\": \"USA\"| \"cn\": \"United States\"| \"latitude\": 38.000000| \"longitude\": -97.000000| \"scale\": \"Celsius\"| \"temp\": 34| \"humidity\": 51| \"battery_level\": 8|  \"c02_level\": 868|  \"lcd\": \"green\"| \"timestamp\" :1458444054093 }|\n",
            "+----------------+--------------------------------------+---------------------+-------------+--------------+----------------------+----------------------+------------------------+-------------------+-----------+---------------+-------------------+------------------+----------------+-----------------------------+\n",
            "| {\"device_id\": 2|                   \"device_name\": \"...|  \"ip\": \"213.161.2...| \"cca2\": \"NO\"| \"cca3\": \"NOR\"|        \"cn\": \"Norway\"|   \"latitude\": 62.4...|     \"longitude\": 6.1...| \"scale\": \"Celsius\"| \"temp\": 11| \"humidity\": 70| \"battery_level\": 7| \"c02_level\": 1473|    \"lcd\": \"red\"|          \"timestamp\" :145...|\n",
            "| {\"device_id\": 3|                   \"device_name\": \"...|    \"ip\": \"88.36.5.1\"| \"cca2\": \"IT\"| \"cca3\": \"ITA\"|         \"cn\": \"Italy\"|   \"latitude\": 42.8...|     \"longitude\": 12....| \"scale\": \"Celsius\"| \"temp\": 19| \"humidity\": 44| \"battery_level\": 2| \"c02_level\": 1556|    \"lcd\": \"red\"|          \"timestamp\" :145...|\n",
            "| {\"device_id\": 4|                   \"device_name\": \"...|  \"ip\": \"66.39.173...| \"cca2\": \"US\"| \"cca3\": \"USA\"|   \"cn\": \"United St...|   \"latitude\": 44.0...|     \"longitude\": -12...| \"scale\": \"Celsius\"| \"temp\": 28| \"humidity\": 32| \"battery_level\": 6| \"c02_level\": 1080| \"lcd\": \"yellow\"|          \"timestamp\" :145...|\n",
            "| {\"device_id\": 5|                   \"device_name\": \"...|  \"ip\": \"203.82.41.9\"| \"cca2\": \"PH\"| \"cca3\": \"PHL\"|   \"cn\": \"Philippines\"|   \"latitude\": 14.5...|     \"longitude\": 120...| \"scale\": \"Celsius\"| \"temp\": 25| \"humidity\": 62| \"battery_level\": 4|  \"c02_level\": 931|  \"lcd\": \"green\"|          \"timestamp\" :145...|\n",
            "| {\"device_id\": 6|                   \"device_name\": \"...|  \"ip\": \"204.116.1...| \"cca2\": \"US\"| \"cca3\": \"USA\"|   \"cn\": \"United St...|   \"latitude\": 35.9...|     \"longitude\": -85...| \"scale\": \"Celsius\"| \"temp\": 27| \"humidity\": 51| \"battery_level\": 3| \"c02_level\": 1210| \"lcd\": \"yellow\"|          \"timestamp\" :145...|\n",
            "| {\"device_id\": 7|                   \"device_name\": \"...|  \"ip\": \"220.173.1...| \"cca2\": \"CN\"| \"cca3\": \"CHN\"|         \"cn\": \"China\"|   \"latitude\": 22.8...|     \"longitude\": 108...| \"scale\": \"Celsius\"| \"temp\": 18| \"humidity\": 26| \"battery_level\": 3| \"c02_level\": 1129| \"lcd\": \"yellow\"|          \"timestamp\" :145...|\n",
            "| {\"device_id\": 8|                   \"device_name\": \"...|  \"ip\": \"210.173.1...| \"cca2\": \"JP\"| \"cca3\": \"JPN\"|         \"cn\": \"Japan\"|   \"latitude\": 35.6...|     \"longitude\": 139...| \"scale\": \"Celsius\"| \"temp\": 27| \"humidity\": 35| \"battery_level\": 0| \"c02_level\": 1536|    \"lcd\": \"red\"|          \"timestamp\" :145...|\n",
            "| {\"device_id\": 9|                   \"device_name\": \"...|  \"ip\": \"118.23.68...| \"cca2\": \"JP\"| \"cca3\": \"JPN\"|         \"cn\": \"Japan\"|   \"latitude\": 35.6...|     \"longitude\": 139...| \"scale\": \"Celsius\"| \"temp\": 13| \"humidity\": 85| \"battery_level\": 3|  \"c02_level\": 807|  \"lcd\": \"green\"|          \"timestamp\" :145...|\n",
            "|{\"device_id\": 10|                   \"device_name\": \"...|  \"ip\": \"208.109.1...| \"cca2\": \"US\"| \"cca3\": \"USA\"|   \"cn\": \"United St...|   \"latitude\": 33.6...|     \"longitude\": -11...| \"scale\": \"Celsius\"| \"temp\": 26| \"humidity\": 56| \"battery_level\": 7| \"c02_level\": 1470|    \"lcd\": \"red\"|          \"timestamp\" :145...|\n",
            "|{\"device_id\": 11|                   \"device_name\": \"...|  \"ip\": \"88.213.19...| \"cca2\": \"IT\"| \"cca3\": \"ITA\"|         \"cn\": \"Italy\"|   \"latitude\": 42.8...|     \"longitude\": 12....| \"scale\": \"Celsius\"| \"temp\": 16| \"humidity\": 85| \"battery_level\": 3| \"c02_level\": 1544|    \"lcd\": \"red\"|          \"timestamp\" :145...|\n",
            "+----------------+--------------------------------------+---------------------+-------------+--------------+----------------------+----------------------+------------------------+-------------------+-----------+---------------+-------------------+------------------+----------------+-----------------------------+\n",
            "only showing top 10 rows\n",
            "\n"
          ]
        }
      ]
    },
    {
      "cell_type": "code",
      "metadata": {
        "colab": {
          "base_uri": "https://localhost:8080/"
        },
        "id": "nsnx0j_E9abp",
        "outputId": "ce4dd778-e66a-4352-c153-3daae40ca132"
      },
      "source": [
        "iot.printSchema()"
      ],
      "execution_count": 21,
      "outputs": [
        {
          "output_type": "stream",
          "name": "stdout",
          "text": [
            "root\n",
            " |-- {\"device_id\": 1: string (nullable = true)\n",
            " |--  \"device_name\": \"meter-gauge-1xbYRYcj\": string (nullable = true)\n",
            " |--  \"ip\": \"68.161.225.1\": string (nullable = true)\n",
            " |--  \"cca2\": \"US\": string (nullable = true)\n",
            " |--  \"cca3\": \"USA\": string (nullable = true)\n",
            " |--  \"cn\": \"United States\": string (nullable = true)\n",
            " |--  \"latitude\": 38.000000: string (nullable = true)\n",
            " |--  \"longitude\": -97.000000: string (nullable = true)\n",
            " |--  \"scale\": \"Celsius\": string (nullable = true)\n",
            " |--  \"temp\": 34: string (nullable = true)\n",
            " |--  \"humidity\": 51: string (nullable = true)\n",
            " |--  \"battery_level\": 8: string (nullable = true)\n",
            " |--  \"c02_level\": 868: string (nullable = true)\n",
            " |--  \"lcd\": \"green\": string (nullable = true)\n",
            " |--  \"timestamp\" :1458444054093 }: string (nullable = true)\n",
            "\n"
          ]
        }
      ]
    },
    {
      "cell_type": "markdown",
      "metadata": {
        "id": "5-Q-0ect4Wb_"
      },
      "source": [
        "#Assignment 3\n",
        "##Analysis(Reliance)"
      ]
    },
    {
      "cell_type": "markdown",
      "metadata": {
        "id": "N_2sIbyZ9n6o"
      },
      "source": [
        "$Problem statement:$\n",
        "You work as a Big Data Engineer at GrapeVine Pvt. Ltd. Your company is currently working as a\n",
        "Data Analytics consultant for a hedge fund. Due to the size of the available dataset, the\n",
        "company requires you to increase computational efficiency using Apache Spark. You have been\n",
        "assigned certain tasks for the fulfillment of this analysis through stock market backtesting."
      ]
    },
    {
      "cell_type": "code",
      "metadata": {
        "id": "m-uw2cekcVNr"
      },
      "source": [
        "!wget -q https://raw.githubusercontent.com/maheshbabu-r/BIG_DATA/main/Hadoop%20Datasets/NSE_RELIANCE_5_1.csv"
      ],
      "execution_count": 22,
      "outputs": []
    },
    {
      "cell_type": "code",
      "metadata": {
        "colab": {
          "base_uri": "https://localhost:8080/"
        },
        "id": "4fe2Ce3AR1Lh",
        "outputId": "f10da210-52fb-44cb-cef7-07b1161cf37c"
      },
      "source": [
        "df = spark.read.csv(header=True, inferSchema=True, path=\"/content/NSE_RELIANCE_5_1.csv\")\n",
        "\n",
        "df.show(2)"
      ],
      "execution_count": 23,
      "outputs": [
        {
          "output_type": "stream",
          "name": "stdout",
          "text": [
            "+-------------------+-----------+-----------+-----------+-----------+-----------+-----------+---+---+---+----+------+---------+------------+------------+------------+\n",
            "|               time|       open|       high|        low|      close|        MA5|        MA6|MA7|MA8|MA9|MA10|Volume|Volume MA|   Histogram|        MACD|      Signal|\n",
            "+-------------------+-----------+-----------+-----------+-----------+-----------+-----------+---+---+---+----+------+---------+------------+------------+------------+\n",
            "|2020-04-03 07:20:00|1053.771557|1056.297519|1051.790411|1053.424857|1056.784037|1055.267738|NaN|NaN|NaN| NaN|354666| 140161.0|-0.038974088|-1.535973794|-1.496999706|\n",
            "|2020-04-03 07:25:00|1053.573443|1055.455532|  1053.3258|1054.266844|1056.555201|1055.017514|NaN|NaN|NaN| NaN| 59611|133630.15|-0.051333212| -1.56116622|-1.509833009|\n",
            "+-------------------+-----------+-----------+-----------+-----------+-----------+-----------+---+---+---+----+------+---------+------------+------------+------------+\n",
            "only showing top 2 rows\n",
            "\n"
          ]
        }
      ]
    },
    {
      "cell_type": "code",
      "metadata": {
        "colab": {
          "base_uri": "https://localhost:8080/"
        },
        "id": "FPCKvZFVTW9N",
        "outputId": "e37b4cec-c9fe-4ded-cf20-4ed9225f56c8"
      },
      "source": [
        "df.printSchema()"
      ],
      "execution_count": 24,
      "outputs": [
        {
          "output_type": "stream",
          "name": "stdout",
          "text": [
            "root\n",
            " |-- time: timestamp (nullable = true)\n",
            " |-- open: double (nullable = true)\n",
            " |-- high: double (nullable = true)\n",
            " |-- low: double (nullable = true)\n",
            " |-- close: double (nullable = true)\n",
            " |-- MA5: double (nullable = true)\n",
            " |-- MA6: double (nullable = true)\n",
            " |-- MA7: double (nullable = true)\n",
            " |-- MA8: double (nullable = true)\n",
            " |-- MA9: double (nullable = true)\n",
            " |-- MA10: double (nullable = true)\n",
            " |-- Volume: integer (nullable = true)\n",
            " |-- Volume MA: double (nullable = true)\n",
            " |-- Histogram: double (nullable = true)\n",
            " |-- MACD: double (nullable = true)\n",
            " |-- Signal: double (nullable = true)\n",
            "\n"
          ]
        }
      ]
    },
    {
      "cell_type": "code",
      "metadata": {
        "id": "Nhag-Wnd-dA_"
      },
      "source": [
        "df=df.select(\"time\",\"open\",\"high\",\"low\",\"close\")"
      ],
      "execution_count": 25,
      "outputs": []
    },
    {
      "cell_type": "code",
      "metadata": {
        "colab": {
          "base_uri": "https://localhost:8080/"
        },
        "id": "IyA6lwbF5c5L",
        "outputId": "4f32bc84-9f94-4659-ea65-97f3a3b80a6e"
      },
      "source": [
        "# 1. Find out the average ‘close’ price of Reliance throughout the duration of the dataset\n",
        "df.select(avg(\"close\")).show()"
      ],
      "execution_count": 26,
      "outputs": [
        {
          "output_type": "stream",
          "name": "stdout",
          "text": [
            "+-----------------+\n",
            "|       avg(close)|\n",
            "+-----------------+\n",
            "|1414.248173455824|\n",
            "+-----------------+\n",
            "\n"
          ]
        }
      ]
    },
    {
      "cell_type": "code",
      "metadata": {
        "colab": {
          "base_uri": "https://localhost:8080/"
        },
        "id": "TdzaZ9M45c2q",
        "outputId": "10a2d529-22e2-41a2-df86-66cca78c2904"
      },
      "source": [
        "# 2. If a Reliance stock was bought at the beginning of the trading day, ‘2020-04-07’ (YYYY-MM-DD),\n",
        "# at the close price of the first 5-minute window, scan the dataset to find out the point to sell the\n",
        "# stock to maximize profits. You are required to print the specific timestamp\n",
        "\n",
        "close_val=df.select(\"close\").filter(to_date(\"time\")=='2020-04-07').orderBy(\"time\").show(1)\n",
        "print(close_val)\n",
        "\n",
        "df.withColumn('Result',(df['high']-1101.319061)).filter(to_date(\"time\")=='2020-04-07').orderBy(desc(\"Result\")).show(1)\n"
      ],
      "execution_count": 27,
      "outputs": [
        {
          "output_type": "stream",
          "name": "stdout",
          "text": [
            "+-----------+\n",
            "|      close|\n",
            "+-----------+\n",
            "|1101.319061|\n",
            "+-----------+\n",
            "only showing top 1 row\n",
            "\n",
            "None\n",
            "+-------------------+-----------+-----------+-----------+-----------+------------------+\n",
            "|               time|       open|       high|        low|      close|            Result|\n",
            "+-------------------+-----------+-----------+-----------+-----------+------------------+\n",
            "|2020-04-07 09:30:00|1192.402249|1202.555622|1192.402249|1199.583903|101.23656100000017|\n",
            "+-------------------+-----------+-----------+-----------+-----------+------------------+\n",
            "only showing top 1 row\n",
            "\n"
          ]
        }
      ]
    },
    {
      "cell_type": "code",
      "metadata": {
        "colab": {
          "base_uri": "https://localhost:8080/"
        },
        "id": "RNZkAJVo5cyC",
        "outputId": "a1fa0325-4579-4e1c-a16b-0fc0c47dab15"
      },
      "source": [
        "# 3.Find out the net profit or net loss to be accumulated if one stock of Reliance is bought at the\n",
        "# opening of every 5-minute slot and sold at the lowest possible point in that 5-minute slot\n",
        "\n",
        "df1=df.withColumn(\"Losses\",(df['low']-df['open']))\n",
        "df1.select(sum(\"Losses\")).show()"
      ],
      "execution_count": 28,
      "outputs": [
        {
          "output_type": "stream",
          "name": "stdout",
          "text": [
            "+------------------+\n",
            "|       sum(Losses)|\n",
            "+------------------+\n",
            "|-8877.819898999991|\n",
            "+------------------+\n",
            "\n"
          ]
        }
      ]
    },
    {
      "cell_type": "code",
      "metadata": {
        "colab": {
          "base_uri": "https://localhost:8080/"
        },
        "id": "3zNjLWRs5ct0",
        "outputId": "e9ae51cd-e29d-4406-ce99-6d999b0dcf87"
      },
      "source": [
        "# 4. Find out the net profit or net loss to be accumulated if one stock of Reliance is bought at the\n",
        "# opening of every 5-minute slot and sold at the highest possible point in that 5-minute slot\n",
        "\n",
        "df1=df1.withColumn(\"Profit\",(df['low']-df['open']))\n",
        "df1.select(sum(\"Profit\")).show()"
      ],
      "execution_count": 29,
      "outputs": [
        {
          "output_type": "stream",
          "name": "stdout",
          "text": [
            "+------------------+\n",
            "|       sum(Profit)|\n",
            "+------------------+\n",
            "|-8877.819898999991|\n",
            "+------------------+\n",
            "\n"
          ]
        }
      ]
    },
    {
      "cell_type": "markdown",
      "metadata": {
        "id": "duqaCoXp-JzR"
      },
      "source": [
        "#Assignment 4\n",
        "##Analysis(Suicides)"
      ]
    },
    {
      "cell_type": "code",
      "metadata": {
        "id": "tyq4yvKlceHq"
      },
      "source": [
        "!wget -q https://raw.githubusercontent.com/maheshbabu-r/BIG_DATA/main/Hadoop%20Datasets/Suicides.csv"
      ],
      "execution_count": 30,
      "outputs": []
    },
    {
      "cell_type": "code",
      "metadata": {
        "colab": {
          "base_uri": "https://localhost:8080/"
        },
        "id": "PBUSONdrbXFf",
        "outputId": "dd1bd4fb-36de-498d-e301-f0060855665d"
      },
      "source": [
        "suicide=spark.read.csv(header=True,inferSchema=True,path=\"/content/Suicides.csv\")\n",
        "suicide.printSchema()\n",
        "suicide.show(5)"
      ],
      "execution_count": 31,
      "outputs": [
        {
          "output_type": "stream",
          "name": "stdout",
          "text": [
            "root\n",
            " |-- State: string (nullable = true)\n",
            " |-- Year: integer (nullable = true)\n",
            " |-- Type_code: string (nullable = true)\n",
            " |-- Type: string (nullable = true)\n",
            " |-- Gender: string (nullable = true)\n",
            " |-- Age_group: string (nullable = true)\n",
            " |-- Total: integer (nullable = true)\n",
            "\n",
            "+-------------+----+---------+--------------------+------+---------+-----+\n",
            "|        State|Year|Type_code|                Type|Gender|Age_group|Total|\n",
            "+-------------+----+---------+--------------------+------+---------+-----+\n",
            "|A & N Islands|2001|   Causes|  Illness (Aids/STD)|Female|     0-14|    0|\n",
            "|A & N Islands|2001|   Causes|Bankruptcy or Sud...|Female|     0-14|    0|\n",
            "|A & N Islands|2001|   Causes|Cancellation/Non-...|Female|     0-14|    0|\n",
            "|A & N Islands|2001|   Causes|Physical Abuse (R...|Female|     0-14|    0|\n",
            "|A & N Islands|2001|   Causes|       Dowry Dispute|Female|     0-14|    0|\n",
            "+-------------+----+---------+--------------------+------+---------+-----+\n",
            "only showing top 5 rows\n",
            "\n"
          ]
        }
      ]
    },
    {
      "cell_type": "code",
      "metadata": {
        "colab": {
          "base_uri": "https://localhost:8080/"
        },
        "id": "nFk_x0_eAykI",
        "outputId": "494add2f-5a73-41b8-b697-73b00a006123"
      },
      "source": [
        "# 1.Find out the most common suicide cause among females in India over the entire period 2001–2012\n",
        "suicide.filter(col(\"Gender\")=='Female').groupBy(\"Type\").count().orderBy(desc(\"count\")).show(10)"
      ],
      "execution_count": 32,
      "outputs": [
        {
          "output_type": "stream",
          "name": "stdout",
          "text": [
            "+--------------------+-----+\n",
            "|                Type|count|\n",
            "+--------------------+-----+\n",
            "|Others (Please Sp...| 3512|\n",
            "|Illegitimate Preg...| 2100|\n",
            "|             Divorce| 2100|\n",
            "|Fall in Social Re...| 2100|\n",
            "|By touching elect...| 2100|\n",
            "|    Property Dispute| 2100|\n",
            "|By Overdose of sl...| 2100|\n",
            "|Farming/Agricultu...| 2100|\n",
            "|By coming under r...| 2100|\n",
            "|     Family Problems| 2100|\n",
            "+--------------------+-----+\n",
            "only showing top 10 rows\n",
            "\n"
          ]
        }
      ]
    },
    {
      "cell_type": "code",
      "metadata": {
        "colab": {
          "base_uri": "https://localhost:8080/"
        },
        "id": "VmqAYu-SBeUz",
        "outputId": "f7e5127f-d5e6-453f-f450-8e01cd32a9d1"
      },
      "source": [
        "# 2.Find out the state-wise most common cause among males over the entire period\n",
        "suicide.filter(col(\"Gender\")=='Male').groupBy(\"Type\").count().orderBy(desc(\"count\")).show(10)"
      ],
      "execution_count": 33,
      "outputs": [
        {
          "output_type": "stream",
          "name": "stdout",
          "text": [
            "+--------------------+-----+\n",
            "|                Type|count|\n",
            "+--------------------+-----+\n",
            "|Others (Please Sp...| 3751|\n",
            "|        By Fire-Arms| 2100|\n",
            "|Fall in Social Re...| 2100|\n",
            "|Other Causes (Ple...| 2100|\n",
            "|    Property Dispute| 2100|\n",
            "|By coming under r...| 2100|\n",
            "|By touching elect...| 2100|\n",
            "|By Overdose of sl...| 2100|\n",
            "|Farming/Agricultu...| 2100|\n",
            "|             Student| 2100|\n",
            "+--------------------+-----+\n",
            "only showing top 10 rows\n",
            "\n"
          ]
        }
      ]
    },
    {
      "cell_type": "code",
      "metadata": {
        "colab": {
          "base_uri": "https://localhost:8080/"
        },
        "id": "T_e2bzvxBxgT",
        "outputId": "73dcc860-e0ce-405b-f419-6275e68020c1"
      },
      "source": [
        " # 3.Find out the age group-wise most common cause among males and females\n",
        " suicide.groupBy(\"Age_group\",\"Gender\",\"Type\").count().orderBy(desc(\"count\")).show(10)"
      ],
      "execution_count": 34,
      "outputs": [
        {
          "output_type": "stream",
          "name": "stdout",
          "text": [
            "+---------+------+--------------------+-----+\n",
            "|Age_group|Gender|                Type|count|\n",
            "+---------+------+--------------------+-----+\n",
            "|    30-44|  Male|Others (Please Sp...|  788|\n",
            "|    15-29|  Male|Others (Please Sp...|  786|\n",
            "|    45-59|  Male|Others (Please Sp...|  772|\n",
            "|    15-29|Female|Others (Please Sp...|  757|\n",
            "|      60+|  Male|Others (Please Sp...|  731|\n",
            "|    30-44|Female|Others (Please Sp...|  725|\n",
            "|    45-59|Female|Others (Please Sp...|  694|\n",
            "|     0-14|  Male|Others (Please Sp...|  674|\n",
            "|     0-14|Female|Others (Please Sp...|  673|\n",
            "|      60+|Female|Others (Please Sp...|  663|\n",
            "+---------+------+--------------------+-----+\n",
            "only showing top 10 rows\n",
            "\n"
          ]
        }
      ]
    },
    {
      "cell_type": "code",
      "metadata": {
        "colab": {
          "base_uri": "https://localhost:8080/"
        },
        "id": "rxd5qXmECqqT",
        "outputId": "727e1b9a-470e-495d-c28d-4c8600437536"
      },
      "source": [
        "print(suicide.select(\"state\").distinct().count())\n",
        "print(suicide.select(\"Year\").distinct().count())"
      ],
      "execution_count": 35,
      "outputs": [
        {
          "output_type": "stream",
          "name": "stdout",
          "text": [
            "38\n",
            "12\n"
          ]
        }
      ]
    },
    {
      "cell_type": "code",
      "metadata": {
        "colab": {
          "base_uri": "https://localhost:8080/"
        },
        "id": "OhtE3mzqCWkb",
        "outputId": "462abf46-1c32-40e6-e358-42522c848d98"
      },
      "source": [
        "# 4.Find out the total number of suicides per year per state\n",
        "suicide.groupBy(\"Year\",\"State\").count().orderBy(\"Year\",\"count\").show(38*12)"
      ],
      "execution_count": 36,
      "outputs": [
        {
          "output_type": "stream",
          "name": "stdout",
          "text": [
            "+----+-----------------+-----+\n",
            "|Year|            State|count|\n",
            "+----+-----------------+-----+\n",
            "|2001|Total (All India)|   26|\n",
            "|2001|      Total (Uts)|   26|\n",
            "|2001|   Total (States)|   26|\n",
            "|2001|Arunachal Pradesh|  556|\n",
            "|2001|      Lakshadweep|  556|\n",
            "|2001|         Nagaland|  557|\n",
            "|2001|      Daman & Diu|  557|\n",
            "|2001|           Sikkim|  559|\n",
            "|2001|     D & N Haveli|  559|\n",
            "|2001|       Puducherry|  561|\n",
            "|2001|          Manipur|  561|\n",
            "|2001|    A & N Islands|  562|\n",
            "|2001|       Chandigarh|  562|\n",
            "|2001|          Mizoram|  563|\n",
            "|2001|              Goa|  563|\n",
            "|2001|      Uttarakhand|  563|\n",
            "|2001|        Meghalaya|  563|\n",
            "|2001|           Punjab|  564|\n",
            "|2001|  Jammu & Kashmir|  564|\n",
            "|2001|          Haryana|  565|\n",
            "|2001|           Odisha|  565|\n",
            "|2001|        Jharkhand|  565|\n",
            "|2001|     Chhattisgarh|  565|\n",
            "|2001|            Assam|  565|\n",
            "|2001|      West Bengal|  566|\n",
            "|2001|          Gujarat|  566|\n",
            "|2001|       Tamil Nadu|  566|\n",
            "|2001|        Karnataka|  566|\n",
            "|2001|   Madhya Pradesh|  566|\n",
            "|2001|        Rajasthan|  566|\n",
            "|2001|           Kerala|  566|\n",
            "|2001|      Maharashtra|  566|\n",
            "|2001|          Tripura|  566|\n",
            "|2001|   Andhra Pradesh|  566|\n",
            "|2001|       Delhi (Ut)|  566|\n",
            "|2001|            Bihar|  566|\n",
            "|2001| Himachal Pradesh|  566|\n",
            "|2001|    Uttar Pradesh|  566|\n",
            "|2002|   Total (States)|   26|\n",
            "|2002|      Total (Uts)|   26|\n",
            "|2002|Total (All India)|   26|\n",
            "|2002|Arunachal Pradesh|  556|\n",
            "|2002|      Lakshadweep|  556|\n",
            "|2002|    A & N Islands|  557|\n",
            "|2002|     D & N Haveli|  558|\n",
            "|2002|          Manipur|  558|\n",
            "|2002|      Daman & Diu|  559|\n",
            "|2002|         Nagaland|  559|\n",
            "|2002|       Puducherry|  560|\n",
            "|2002|        Meghalaya|  561|\n",
            "|2002|       Chandigarh|  561|\n",
            "|2002|  Jammu & Kashmir|  562|\n",
            "|2002|          Mizoram|  563|\n",
            "|2002|              Goa|  563|\n",
            "|2002|           Sikkim|  563|\n",
            "|2002| Himachal Pradesh|  564|\n",
            "|2002|           Punjab|  564|\n",
            "|2002|       Tamil Nadu|  565|\n",
            "|2002|          Tripura|  565|\n",
            "|2002|          Gujarat|  565|\n",
            "|2002|       Delhi (Ut)|  565|\n",
            "|2002|        Jharkhand|  565|\n",
            "|2002|      Uttarakhand|  565|\n",
            "|2002|           Odisha|  566|\n",
            "|2002|   Andhra Pradesh|  566|\n",
            "|2002|            Bihar|  566|\n",
            "|2002|          Haryana|  566|\n",
            "|2002|           Kerala|  566|\n",
            "|2002|            Assam|  566|\n",
            "|2002|    Uttar Pradesh|  566|\n",
            "|2002|     Chhattisgarh|  566|\n",
            "|2002|        Karnataka|  566|\n",
            "|2002|   Madhya Pradesh|  566|\n",
            "|2002|      West Bengal|  566|\n",
            "|2002|        Rajasthan|  566|\n",
            "|2002|      Maharashtra|  566|\n",
            "|2003|Total (All India)|   26|\n",
            "|2003|   Total (States)|   26|\n",
            "|2003|      Total (Uts)|   26|\n",
            "|2003|Arunachal Pradesh|  556|\n",
            "|2003|          Manipur|  556|\n",
            "|2003|    A & N Islands|  556|\n",
            "|2003|     D & N Haveli|  557|\n",
            "|2003|         Nagaland|  557|\n",
            "|2003|      Lakshadweep|  557|\n",
            "|2003|           Sikkim|  558|\n",
            "|2003|      Daman & Diu|  559|\n",
            "|2003|       Chandigarh|  561|\n",
            "|2003|        Meghalaya|  562|\n",
            "|2003|          Tripura|  563|\n",
            "|2003|              Goa|  563|\n",
            "|2003|      Uttarakhand|  563|\n",
            "|2003|          Mizoram|  563|\n",
            "|2003|       Puducherry|  563|\n",
            "|2003| Himachal Pradesh|  564|\n",
            "|2003|            Bihar|  564|\n",
            "|2003|            Assam|  565|\n",
            "|2003|        Jharkhand|  565|\n",
            "|2003|    Uttar Pradesh|  566|\n",
            "|2003|          Gujarat|  566|\n",
            "|2003|           Punjab|  566|\n",
            "|2003|   Madhya Pradesh|  566|\n",
            "|2003|      Maharashtra|  566|\n",
            "|2003|          Haryana|  566|\n",
            "|2003|        Rajasthan|  566|\n",
            "|2003|      West Bengal|  566|\n",
            "|2003|  Jammu & Kashmir|  566|\n",
            "|2003|       Tamil Nadu|  566|\n",
            "|2003|        Karnataka|  566|\n",
            "|2003|           Odisha|  566|\n",
            "|2003|     Chhattisgarh|  566|\n",
            "|2003|   Andhra Pradesh|  566|\n",
            "|2003|       Delhi (Ut)|  566|\n",
            "|2003|           Kerala|  566|\n",
            "|2004|Total (All India)|   26|\n",
            "|2004|   Total (States)|   26|\n",
            "|2004|      Total (Uts)|   26|\n",
            "|2004|      Lakshadweep|  556|\n",
            "|2004|        Meghalaya|  556|\n",
            "|2004|Arunachal Pradesh|  556|\n",
            "|2004|          Manipur|  557|\n",
            "|2004|      Daman & Diu|  558|\n",
            "|2004|     D & N Haveli|  560|\n",
            "|2004|    A & N Islands|  560|\n",
            "|2004|           Sikkim|  560|\n",
            "|2004|       Puducherry|  560|\n",
            "|2004|          Mizoram|  561|\n",
            "|2004|         Nagaland|  561|\n",
            "|2004|       Chandigarh|  561|\n",
            "|2004|  Jammu & Kashmir|  562|\n",
            "|2004|       Delhi (Ut)|  563|\n",
            "|2004| Himachal Pradesh|  564|\n",
            "|2004|            Assam|  564|\n",
            "|2004|          Gujarat|  564|\n",
            "|2004|           Punjab|  564|\n",
            "|2004|        Jharkhand|  565|\n",
            "|2004|          Tripura|  565|\n",
            "|2004|      West Bengal|  565|\n",
            "|2004|      Uttarakhand|  565|\n",
            "|2004|   Andhra Pradesh|  566|\n",
            "|2004|          Haryana|  566|\n",
            "|2004|            Bihar|  566|\n",
            "|2004|           Odisha|  566|\n",
            "|2004|              Goa|  566|\n",
            "|2004|           Kerala|  566|\n",
            "|2004|        Rajasthan|  566|\n",
            "|2004|       Tamil Nadu|  566|\n",
            "|2004|    Uttar Pradesh|  566|\n",
            "|2004|      Maharashtra|  566|\n",
            "|2004|        Karnataka|  566|\n",
            "|2004|     Chhattisgarh|  566|\n",
            "|2004|   Madhya Pradesh|  566|\n",
            "|2005|      Total (Uts)|   26|\n",
            "|2005|   Total (States)|   26|\n",
            "|2005|Total (All India)|   26|\n",
            "|2005|      Lakshadweep|  556|\n",
            "|2005|Arunachal Pradesh|  556|\n",
            "|2005|          Manipur|  558|\n",
            "|2005|    A & N Islands|  558|\n",
            "|2005|       Puducherry|  559|\n",
            "|2005|      Daman & Diu|  559|\n",
            "|2005|         Nagaland|  561|\n",
            "|2005|     D & N Haveli|  561|\n",
            "|2005|        Meghalaya|  561|\n",
            "|2005|           Sikkim|  562|\n",
            "|2005|          Mizoram|  563|\n",
            "|2005|       Chandigarh|  563|\n",
            "|2005|              Goa|  564|\n",
            "|2005|      Uttarakhand|  564|\n",
            "|2005|       Delhi (Ut)|  565|\n",
            "|2005|        Rajasthan|  565|\n",
            "|2005| Himachal Pradesh|  565|\n",
            "|2005|           Punjab|  565|\n",
            "|2005|  Jammu & Kashmir|  565|\n",
            "|2005|            Assam|  565|\n",
            "|2005|      Maharashtra|  566|\n",
            "|2005|           Kerala|  566|\n",
            "|2005|     Chhattisgarh|  566|\n",
            "|2005|        Karnataka|  566|\n",
            "|2005|    Uttar Pradesh|  566|\n",
            "|2005|          Tripura|  566|\n",
            "|2005|            Bihar|  566|\n",
            "|2005|       Tamil Nadu|  566|\n",
            "|2005|           Odisha|  566|\n",
            "|2005|          Haryana|  566|\n",
            "|2005|        Jharkhand|  566|\n",
            "|2005|      West Bengal|  566|\n",
            "|2005|          Gujarat|  566|\n",
            "|2005|   Andhra Pradesh|  566|\n",
            "|2005|   Madhya Pradesh|  566|\n",
            "|2006|      Total (Uts)|   26|\n",
            "|2006|   Total (States)|   26|\n",
            "|2006|Total (All India)|   26|\n",
            "|2006|      Lakshadweep|  556|\n",
            "|2006|       Chandigarh|  556|\n",
            "|2006|     D & N Haveli|  556|\n",
            "|2006|          Manipur|  558|\n",
            "|2006|           Sikkim|  558|\n",
            "|2006|    A & N Islands|  559|\n",
            "|2006|         Nagaland|  560|\n",
            "|2006|       Puducherry|  560|\n",
            "|2006|        Meghalaya|  560|\n",
            "|2006|  Jammu & Kashmir|  561|\n",
            "|2006|      Daman & Diu|  561|\n",
            "|2006|Arunachal Pradesh|  561|\n",
            "|2006|          Mizoram|  561|\n",
            "|2006|      Uttarakhand|  563|\n",
            "|2006| Himachal Pradesh|  564|\n",
            "|2006|              Goa|  564|\n",
            "|2006|          Gujarat|  565|\n",
            "|2006|       Tamil Nadu|  565|\n",
            "|2006|      West Bengal|  565|\n",
            "|2006|       Delhi (Ut)|  565|\n",
            "|2006|        Karnataka|  566|\n",
            "|2006|           Odisha|  566|\n",
            "|2006|            Bihar|  566|\n",
            "|2006|        Rajasthan|  566|\n",
            "|2006|    Uttar Pradesh|  566|\n",
            "|2006|   Madhya Pradesh|  566|\n",
            "|2006|      Maharashtra|  566|\n",
            "|2006|           Kerala|  566|\n",
            "|2006|           Punjab|  566|\n",
            "|2006|          Haryana|  566|\n",
            "|2006|          Tripura|  566|\n",
            "|2006|            Assam|  566|\n",
            "|2006|     Chhattisgarh|  566|\n",
            "|2006|   Andhra Pradesh|  566|\n",
            "|2006|        Jharkhand|  566|\n",
            "|2007|Total (All India)|   26|\n",
            "|2007|      Total (Uts)|   26|\n",
            "|2007|   Total (States)|   26|\n",
            "|2007|      Lakshadweep|  556|\n",
            "|2007|      Daman & Diu|  557|\n",
            "|2007|     D & N Haveli|  557|\n",
            "|2007|          Manipur|  558|\n",
            "|2007|       Chandigarh|  558|\n",
            "|2007|         Nagaland|  558|\n",
            "|2007|    A & N Islands|  560|\n",
            "|2007|        Meghalaya|  561|\n",
            "|2007|Arunachal Pradesh|  561|\n",
            "|2007|  Jammu & Kashmir|  562|\n",
            "|2007|       Puducherry|  562|\n",
            "|2007|      Uttarakhand|  563|\n",
            "|2007|              Goa|  563|\n",
            "|2007|          Mizoram|  563|\n",
            "|2007|    Uttar Pradesh|  564|\n",
            "|2007| Himachal Pradesh|  564|\n",
            "|2007|           Sikkim|  565|\n",
            "|2007|           Punjab|  565|\n",
            "|2007|            Assam|  565|\n",
            "|2007|        Jharkhand|  565|\n",
            "|2007|       Tamil Nadu|  565|\n",
            "|2007|          Haryana|  566|\n",
            "|2007|            Bihar|  566|\n",
            "|2007|       Delhi (Ut)|  566|\n",
            "|2007|      West Bengal|  566|\n",
            "|2007|        Rajasthan|  566|\n",
            "|2007|           Odisha|  566|\n",
            "|2007|           Kerala|  566|\n",
            "|2007|      Maharashtra|  566|\n",
            "|2007|   Andhra Pradesh|  566|\n",
            "|2007|        Karnataka|  566|\n",
            "|2007|     Chhattisgarh|  566|\n",
            "|2007|   Madhya Pradesh|  566|\n",
            "|2007|          Gujarat|  566|\n",
            "|2007|          Tripura|  566|\n",
            "|2008|   Total (States)|   26|\n",
            "|2008|Total (All India)|   26|\n",
            "|2008|      Total (Uts)|   26|\n",
            "|2008|      Lakshadweep|  556|\n",
            "|2008|       Chandigarh|  556|\n",
            "|2008|     D & N Haveli|  559|\n",
            "|2008|          Manipur|  559|\n",
            "|2008|Arunachal Pradesh|  560|\n",
            "|2008|    A & N Islands|  560|\n",
            "|2008|      Daman & Diu|  560|\n",
            "|2008|         Nagaland|  560|\n",
            "|2008|              Goa|  561|\n",
            "|2008|        Meghalaya|  562|\n",
            "|2008|          Mizoram|  562|\n",
            "|2008|  Jammu & Kashmir|  562|\n",
            "|2008|       Puducherry|  563|\n",
            "|2008|      Uttarakhand|  563|\n",
            "|2008| Himachal Pradesh|  563|\n",
            "|2008|           Sikkim|  564|\n",
            "|2008|          Tripura|  565|\n",
            "|2008|       Tamil Nadu|  565|\n",
            "|2008|          Gujarat|  565|\n",
            "|2008|   Andhra Pradesh|  565|\n",
            "|2008|       Delhi (Ut)|  565|\n",
            "|2008|     Chhattisgarh|  566|\n",
            "|2008|        Rajasthan|  566|\n",
            "|2008|           Kerala|  566|\n",
            "|2008|      West Bengal|  566|\n",
            "|2008|           Odisha|  566|\n",
            "|2008|            Bihar|  566|\n",
            "|2008|        Jharkhand|  566|\n",
            "|2008|        Karnataka|  566|\n",
            "|2008|           Punjab|  566|\n",
            "|2008|    Uttar Pradesh|  566|\n",
            "|2008|      Maharashtra|  566|\n",
            "|2008|            Assam|  566|\n",
            "|2008|   Madhya Pradesh|  566|\n",
            "|2008|          Haryana|  566|\n",
            "|2009|   Total (States)|   26|\n",
            "|2009|      Total (Uts)|   26|\n",
            "|2009|Total (All India)|   26|\n",
            "|2009|      Uttarakhand|  556|\n",
            "|2009|      Lakshadweep|  556|\n",
            "|2009|       Chandigarh|  557|\n",
            "|2009|          Manipur|  557|\n",
            "|2009|     D & N Haveli|  558|\n",
            "|2009|       Puducherry|  558|\n",
            "|2009|          Mizoram|  559|\n",
            "|2009|Arunachal Pradesh|  560|\n",
            "|2009|              Goa|  560|\n",
            "|2009|         Nagaland|  560|\n",
            "|2009|      Daman & Diu|  561|\n",
            "|2009|    A & N Islands|  561|\n",
            "|2009|           Sikkim|  563|\n",
            "|2009|  Jammu & Kashmir|  564|\n",
            "|2009|        Meghalaya|  564|\n",
            "|2009|       Tamil Nadu|  564|\n",
            "|2009|          Gujarat|  565|\n",
            "|2009|           Kerala|  565|\n",
            "|2009|          Tripura|  565|\n",
            "|2009|        Jharkhand|  565|\n",
            "|2009|          Haryana|  566|\n",
            "|2009| Himachal Pradesh|  566|\n",
            "|2009|   Madhya Pradesh|  566|\n",
            "|2009|           Punjab|  566|\n",
            "|2009|            Bihar|  566|\n",
            "|2009|        Karnataka|  566|\n",
            "|2009|      West Bengal|  566|\n",
            "|2009|     Chhattisgarh|  566|\n",
            "|2009|           Odisha|  566|\n",
            "|2009|        Rajasthan|  566|\n",
            "|2009|      Maharashtra|  566|\n",
            "|2009|            Assam|  566|\n",
            "|2009|       Delhi (Ut)|  566|\n",
            "|2009|   Andhra Pradesh|  566|\n",
            "|2009|    Uttar Pradesh|  566|\n",
            "|2010|   Total (States)|   26|\n",
            "|2010|      Total (Uts)|   26|\n",
            "|2010|Total (All India)|   26|\n",
            "|2010|         Nagaland|  556|\n",
            "|2010|      Lakshadweep|  556|\n",
            "|2010|    A & N Islands|  559|\n",
            "|2010|      Daman & Diu|  559|\n",
            "|2010|          Mizoram|  559|\n",
            "|2010|        Meghalaya|  559|\n",
            "|2010|          Manipur|  560|\n",
            "|2010|     D & N Haveli|  560|\n",
            "|2010|       Chandigarh|  560|\n",
            "|2010|       Puducherry|  560|\n",
            "|2010|           Sikkim|  562|\n",
            "|2010|Arunachal Pradesh|  562|\n",
            "|2010|              Goa|  563|\n",
            "|2010|      Uttarakhand|  563|\n",
            "|2010|  Jammu & Kashmir|  564|\n",
            "|2010|       Delhi (Ut)|  564|\n",
            "|2010| Himachal Pradesh|  564|\n",
            "|2010|          Tripura|  565|\n",
            "|2010|          Haryana|  565|\n",
            "|2010|        Jharkhand|  565|\n",
            "|2010|     Chhattisgarh|  565|\n",
            "|2010|            Assam|  566|\n",
            "|2010|       Tamil Nadu|  566|\n",
            "|2010|      West Bengal|  566|\n",
            "|2010|    Uttar Pradesh|  566|\n",
            "|2010|        Karnataka|  566|\n",
            "|2010|   Andhra Pradesh|  566|\n",
            "|2010|   Madhya Pradesh|  566|\n",
            "|2010|            Bihar|  566|\n",
            "|2010|           Odisha|  566|\n",
            "|2010|          Gujarat|  566|\n",
            "|2010|        Rajasthan|  566|\n",
            "|2010|           Kerala|  566|\n",
            "|2010|           Punjab|  566|\n",
            "|2010|      Maharashtra|  566|\n",
            "|2011|      Total (Uts)|   26|\n",
            "|2011|Total (All India)|   26|\n",
            "|2011|   Total (States)|   26|\n",
            "|2011|      Lakshadweep|  556|\n",
            "|2011|         Nagaland|  559|\n",
            "|2011|          Manipur|  559|\n",
            "|2011|      Daman & Diu|  560|\n",
            "|2011|          Mizoram|  560|\n",
            "|2011|     D & N Haveli|  560|\n",
            "|2011|       Puducherry|  560|\n",
            "|2011|    A & N Islands|  561|\n",
            "|2011|       Chandigarh|  562|\n",
            "|2011|        Meghalaya|  562|\n",
            "|2011|           Punjab|  563|\n",
            "|2011|Arunachal Pradesh|  563|\n",
            "|2011|              Goa|  563|\n",
            "|2011|      Uttarakhand|  564|\n",
            "|2011|           Kerala|  564|\n",
            "|2011|  Jammu & Kashmir|  564|\n",
            "|2011|    Uttar Pradesh|  564|\n",
            "|2011|          Tripura|  564|\n",
            "|2011|           Sikkim|  565|\n",
            "|2011| Himachal Pradesh|  565|\n",
            "|2011|            Bihar|  566|\n",
            "|2011|       Tamil Nadu|  566|\n",
            "|2011|       Delhi (Ut)|  566|\n",
            "|2011|          Gujarat|  566|\n",
            "|2011|     Chhattisgarh|  566|\n",
            "|2011|        Rajasthan|  566|\n",
            "|2011|          Haryana|  566|\n",
            "|2011|      West Bengal|  566|\n",
            "|2011|   Andhra Pradesh|  566|\n",
            "|2011|   Madhya Pradesh|  566|\n",
            "|2011|           Odisha|  566|\n",
            "|2011|        Karnataka|  566|\n",
            "|2011|      Maharashtra|  566|\n",
            "|2011|        Jharkhand|  566|\n",
            "|2011|            Assam|  566|\n",
            "|2012|      Total (Uts)|   26|\n",
            "|2012|Total (All India)|   26|\n",
            "|2012|   Total (States)|   26|\n",
            "|2012|      West Bengal|  556|\n",
            "|2012|      Lakshadweep|  557|\n",
            "|2012|         Nagaland|  557|\n",
            "|2012|          Manipur|  559|\n",
            "|2012|     D & N Haveli|  559|\n",
            "|2012|    A & N Islands|  559|\n",
            "|2012|          Mizoram|  560|\n",
            "|2012|      Daman & Diu|  560|\n",
            "|2012|       Chandigarh|  560|\n",
            "|2012|Arunachal Pradesh|  560|\n",
            "|2012|        Meghalaya|  562|\n",
            "|2012|           Sikkim|  563|\n",
            "|2012|           Punjab|  564|\n",
            "|2012|       Puducherry|  564|\n",
            "|2012|           Kerala|  565|\n",
            "|2012|    Uttar Pradesh|  565|\n",
            "|2012|  Jammu & Kashmir|  565|\n",
            "|2012|       Delhi (Ut)|  565|\n",
            "|2012| Himachal Pradesh|  565|\n",
            "|2012|      Maharashtra|  566|\n",
            "|2012|        Jharkhand|  566|\n",
            "|2012|            Assam|  566|\n",
            "|2012|   Andhra Pradesh|  566|\n",
            "|2012|          Tripura|  566|\n",
            "|2012|      Uttarakhand|  566|\n",
            "|2012|          Haryana|  566|\n",
            "|2012|        Rajasthan|  566|\n",
            "|2012|     Chhattisgarh|  566|\n",
            "|2012|       Tamil Nadu|  566|\n",
            "|2012|            Bihar|  566|\n",
            "|2012|              Goa|  566|\n",
            "|2012|           Odisha|  566|\n",
            "|2012|        Karnataka|  566|\n",
            "|2012|   Madhya Pradesh|  566|\n",
            "|2012|          Gujarat|  566|\n",
            "+----+-----------------+-----+\n",
            "\n"
          ]
        }
      ]
    },
    {
      "cell_type": "code",
      "metadata": {
        "id": "kwRWWbunDIv5"
      },
      "source": [
        ""
      ],
      "execution_count": 36,
      "outputs": []
    }
  ]
}