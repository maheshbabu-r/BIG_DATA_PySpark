{
  "nbformat": 4,
  "nbformat_minor": 0,
  "metadata": {
    "colab": {
      "name": "Working_With_Missing_and_Outliers.ipynb",
      "provenance": [],
      "authorship_tag": "ABX9TyP3DKfuZrWNhq1CNuMLpKoH",
      "include_colab_link": true
    },
    "kernelspec": {
      "name": "python3",
      "display_name": "Python 3"
    },
    "language_info": {
      "name": "python"
    }
  },
  "cells": [
    {
      "cell_type": "markdown",
      "metadata": {
        "id": "view-in-github",
        "colab_type": "text"
      },
      "source": [
        "<a href=\"https://colab.research.google.com/github/maheshbabu-r/BIG_DATA/blob/main/Working_With_Missing_and_Outliers.ipynb\" target=\"_parent\"><img src=\"https://colab.research.google.com/assets/colab-badge.svg\" alt=\"Open In Colab\"/></a>"
      ]
    },
    {
      "cell_type": "code",
      "metadata": {
        "colab": {
          "base_uri": "https://localhost:8080/"
        },
        "id": "vaiciVdNQsIF",
        "outputId": "431adcae-4633-48ca-d870-498c08ef9324"
      },
      "source": [
        "!pwd\n",
        "!ls\n",
        "!python --version"
      ],
      "execution_count": 79,
      "outputs": [
        {
          "output_type": "stream",
          "name": "stdout",
          "text": [
            "/content\n",
            "sample_data\t\t   spark-3.1.2-bin-hadoop3.2.tgz\n",
            "spark-3.1.2-bin-hadoop3.2  weatherdata.csv\n",
            "Python 3.7.11\n"
          ]
        }
      ]
    },
    {
      "cell_type": "code",
      "metadata": {
        "id": "zlsv9yGB2I81"
      },
      "source": [
        "!apt-get install openjdk-8-jdk-headless -qq > /dev/null\n",
        "\n",
        "!wget -q https://dlcdn.apache.org/spark/spark-3.1.2/spark-3.1.2-bin-hadoop3.2.tgz  # supress download output use -q\n",
        "\n",
        "!tar -zxvf spark-3.1.2-bin-hadoop3.2.tgz | grep \"something\" 2>/dev/null #Suppress tar output ---| grep \"something\" 2>/dev/null--- add after file_name\"\n",
        "\n",
        "!pip -q install findspark"
      ],
      "execution_count": 80,
      "outputs": []
    },
    {
      "cell_type": "code",
      "metadata": {
        "id": "v6RZ_81C3IkA",
        "colab": {
          "base_uri": "https://localhost:8080/"
        },
        "outputId": "eb7220b4-0882-4d00-907e-f028bb7d1134"
      },
      "source": [
        "import os\n",
        "os.environ[\"JAVA_HOME\"] = \"/usr/lib/jvm/java-8-openjdk-amd64\"\n",
        "os.environ[\"SPARK_HOME\"] = \"/content/spark-3.1.2-bin-hadoop3.2\"\n",
        "\n",
        "import findspark\n",
        "findspark.init()\n",
        "\n",
        "from pyspark.sql import SparkSession\n",
        "from pyspark import SparkConf\n",
        "from pyspark import SparkContext\n",
        "\n",
        "from pyspark.sql.functions import approx_count_distinct,collect_list\n",
        "from pyspark.sql.functions import collect_set,sum,avg,max,countDistinct,count\n",
        "from pyspark.sql.functions import first, last, kurtosis, min, mean, skewness \n",
        "from pyspark.sql.functions import stddev, stddev_samp, stddev_pop, sumDistinct\n",
        "from pyspark.sql.functions import variance,var_samp,  var_pop\n",
        "\n",
        "# or import like this\n",
        "from pyspark.sql.functions import *\n",
        "\n",
        "sc = SparkContext.getOrCreate(SparkConf().setMaster(\"local[*]\"))\n",
        "spark = SparkSession.builder.appName(\"PySpark 3.0 Setup on Google Colab\").getOrCreate()\n",
        "print(spark.sparkContext.appName)"
      ],
      "execution_count": 81,
      "outputs": [
        {
          "output_type": "stream",
          "name": "stdout",
          "text": [
            "pyspark-shell\n"
          ]
        }
      ]
    },
    {
      "cell_type": "code",
      "metadata": {
        "id": "dZ8VPdpoMtie"
      },
      "source": [
        "!wget -q https://raw.githubusercontent.com/maheshbabu-r/BIG_DATA/main/Hadoop%20Datasets/weatherdata.csv"
      ],
      "execution_count": 82,
      "outputs": []
    },
    {
      "cell_type": "code",
      "metadata": {
        "colab": {
          "base_uri": "https://localhost:8080/"
        },
        "id": "rHJCRBis6DXP",
        "outputId": "dea9f7c2-4afa-43ae-a531-40c65ed01039"
      },
      "source": [
        "df=spark.read.csv(header=True,inferSchema=True,path=\"/content/weatherdata.csv\")\n",
        "\n",
        "df.printSchema()\n",
        "\n",
        "df.show(5)"
      ],
      "execution_count": 83,
      "outputs": [
        {
          "output_type": "stream",
          "name": "stdout",
          "text": [
            "root\n",
            " |-- Date: string (nullable = true)\n",
            " |-- Location: string (nullable = true)\n",
            " |-- MinTemp: double (nullable = true)\n",
            " |-- MaxTemp: double (nullable = true)\n",
            " |-- Rainfall: double (nullable = true)\n",
            " |-- Evaporation: double (nullable = true)\n",
            " |-- Sunshine: double (nullable = true)\n",
            " |-- WindGustDir: string (nullable = true)\n",
            " |-- WindGustSpeed: double (nullable = true)\n",
            "\n",
            "+----------+--------+-------+-------+--------+-----------+--------+-----------+-------------+\n",
            "|      Date|Location|MinTemp|MaxTemp|Rainfall|Evaporation|Sunshine|WindGustDir|WindGustSpeed|\n",
            "+----------+--------+-------+-------+--------+-----------+--------+-----------+-------------+\n",
            "|2008-12-01|  Albury|   13.4|   22.9|     0.6|       null|    null|          W|         44.0|\n",
            "|2008-12-02|  Albury|    7.4|   25.1|     0.0|       null|    null|        WNW|         44.0|\n",
            "|2008-12-03|  Albury|   12.9|   25.7|     0.0|       null|    null|        WSW|         46.0|\n",
            "|2008-12-04|  Albury|    9.2|   28.0|     0.0|       null|    null|         NE|         24.0|\n",
            "|2008-12-05|  Albury|   17.5|   32.3|     1.0|       null|    null|          W|         41.0|\n",
            "+----------+--------+-------+-------+--------+-----------+--------+-----------+-------------+\n",
            "only showing top 5 rows\n",
            "\n"
          ]
        }
      ]
    },
    {
      "cell_type": "code",
      "metadata": {
        "colab": {
          "base_uri": "https://localhost:8080/"
        },
        "id": "tjmAnEGw6aQ6",
        "outputId": "5817b9ac-46a0-44e9-f7ca-62ba1a1491c1"
      },
      "source": [
        "df.describe().show()"
      ],
      "execution_count": 84,
      "outputs": [
        {
          "output_type": "stream",
          "name": "stdout",
          "text": [
            "+-------+----------+--------+------------------+-----------------+-----------------+-----------------+------------------+-----------+------------------+\n",
            "|summary|      Date|Location|           MinTemp|          MaxTemp|         Rainfall|      Evaporation|          Sunshine|WindGustDir|     WindGustSpeed|\n",
            "+-------+----------+--------+------------------+-----------------+-----------------+-----------------+------------------+-----------+------------------+\n",
            "|  count|    142193|  142193|            141556|           141871|           140787|            81350|             74377|     132863|            132923|\n",
            "|   mean|      null|    null|12.186399728729217|23.22678419127246|2.349974074311104|5.469824216349112| 7.624853113193588|       null| 39.98429165757619|\n",
            "| stddev|      null|    null| 6.403282674671329|7.117618141018117|8.465172917616421|4.188536508895161|3.7815249942144558|       null|13.588800765487802|\n",
            "|    min|2007-11-01|Adelaide|              -8.5|             -4.8|              0.0|              0.0|               0.0|          E|               6.0|\n",
            "|    max|2017-06-25| Woomera|              33.9|             48.1|            371.0|            145.0|              14.5|        WSW|             135.0|\n",
            "+-------+----------+--------+------------------+-----------------+-----------------+-----------------+------------------+-----------+------------------+\n",
            "\n"
          ]
        }
      ]
    },
    {
      "cell_type": "code",
      "metadata": {
        "colab": {
          "base_uri": "https://localhost:8080/"
        },
        "id": "52SfqgQ__Wwy",
        "outputId": "fe39c857-4bfd-4ba0-dd68-b6ff012d6e6a"
      },
      "source": [
        "df.dtypes"
      ],
      "execution_count": 85,
      "outputs": [
        {
          "output_type": "execute_result",
          "data": {
            "text/plain": [
              "[('Date', 'string'),\n",
              " ('Location', 'string'),\n",
              " ('MinTemp', 'double'),\n",
              " ('MaxTemp', 'double'),\n",
              " ('Rainfall', 'double'),\n",
              " ('Evaporation', 'double'),\n",
              " ('Sunshine', 'double'),\n",
              " ('WindGustDir', 'string'),\n",
              " ('WindGustSpeed', 'double')]"
            ]
          },
          "metadata": {},
          "execution_count": 85
        }
      ]
    },
    {
      "cell_type": "code",
      "metadata": {
        "colab": {
          "base_uri": "https://localhost:8080/"
        },
        "id": "dILB55ff6xa_",
        "outputId": "e6df7587-642e-4155-9816-60ddef2dcc98"
      },
      "source": [
        "df.describe(\"MaxTemp\").show()"
      ],
      "execution_count": 86,
      "outputs": [
        {
          "output_type": "stream",
          "name": "stdout",
          "text": [
            "+-------+-----------------+\n",
            "|summary|          MaxTemp|\n",
            "+-------+-----------------+\n",
            "|  count|           141871|\n",
            "|   mean|23.22678419127246|\n",
            "| stddev|7.117618141018117|\n",
            "|    min|             -4.8|\n",
            "|    max|             48.1|\n",
            "+-------+-----------------+\n",
            "\n"
          ]
        }
      ]
    },
    {
      "cell_type": "code",
      "metadata": {
        "colab": {
          "base_uri": "https://localhost:8080/"
        },
        "id": "jyGktrtg6580",
        "outputId": "96d0c12d-da40-49e7-8834-e55859c89cc9"
      },
      "source": [
        "df.describe([\"MaxTemp\",\"MinTemp\"]).show()"
      ],
      "execution_count": 87,
      "outputs": [
        {
          "output_type": "stream",
          "name": "stdout",
          "text": [
            "+-------+-----------------+------------------+\n",
            "|summary|          MaxTemp|           MinTemp|\n",
            "+-------+-----------------+------------------+\n",
            "|  count|           141871|            141556|\n",
            "|   mean|23.22678419127246|12.186399728729217|\n",
            "| stddev|7.117618141018117| 6.403282674671329|\n",
            "|    min|             -4.8|              -8.5|\n",
            "|    max|             48.1|              33.9|\n",
            "+-------+-----------------+------------------+\n",
            "\n"
          ]
        }
      ]
    },
    {
      "cell_type": "code",
      "metadata": {
        "colab": {
          "base_uri": "https://localhost:8080/"
        },
        "id": "c1xz8YP67DJX",
        "outputId": "d520f453-15be-4f48-ef82-cd4170405615"
      },
      "source": [
        "df.summary().show()"
      ],
      "execution_count": 88,
      "outputs": [
        {
          "output_type": "stream",
          "name": "stdout",
          "text": [
            "+-------+----------+--------+------------------+-----------------+-----------------+-----------------+------------------+-----------+------------------+\n",
            "|summary|      Date|Location|           MinTemp|          MaxTemp|         Rainfall|      Evaporation|          Sunshine|WindGustDir|     WindGustSpeed|\n",
            "+-------+----------+--------+------------------+-----------------+-----------------+-----------------+------------------+-----------+------------------+\n",
            "|  count|    142193|  142193|            141556|           141871|           140787|            81350|             74377|     132863|            132923|\n",
            "|   mean|      null|    null|12.186399728729217|23.22678419127246|2.349974074311104|5.469824216349112| 7.624853113193588|       null| 39.98429165757619|\n",
            "| stddev|      null|    null| 6.403282674671329|7.117618141018117|8.465172917616421|4.188536508895161|3.7815249942144558|       null|13.588800765487802|\n",
            "|    min|2007-11-01|Adelaide|              -8.5|             -4.8|              0.0|              0.0|               0.0|          E|               6.0|\n",
            "|    25%|      null|    null|               7.6|             17.9|              0.0|              2.6|               4.9|       null|              31.0|\n",
            "|    50%|      null|    null|              12.0|             22.6|              0.0|              4.8|               8.5|       null|              39.0|\n",
            "|    75%|      null|    null|              16.8|             28.2|              0.8|              7.4|              10.6|       null|              48.0|\n",
            "|    max|2017-06-25| Woomera|              33.9|             48.1|            371.0|            145.0|              14.5|        WSW|             135.0|\n",
            "+-------+----------+--------+------------------+-----------------+-----------------+-----------------+------------------+-----------+------------------+\n",
            "\n"
          ]
        }
      ]
    },
    {
      "cell_type": "code",
      "metadata": {
        "colab": {
          "base_uri": "https://localhost:8080/"
        },
        "id": "1WSU9Cho7ILL",
        "outputId": "67c42fdf-1179-48af-b0b6-611eb7e82c6c"
      },
      "source": [
        "df.toPandas().info()"
      ],
      "execution_count": 89,
      "outputs": [
        {
          "output_type": "stream",
          "name": "stdout",
          "text": [
            "<class 'pandas.core.frame.DataFrame'>\n",
            "RangeIndex: 142193 entries, 0 to 142192\n",
            "Data columns (total 9 columns):\n",
            " #   Column         Non-Null Count   Dtype  \n",
            "---  ------         --------------   -----  \n",
            " 0   Date           142193 non-null  object \n",
            " 1   Location       142193 non-null  object \n",
            " 2   MinTemp        141556 non-null  float64\n",
            " 3   MaxTemp        141871 non-null  float64\n",
            " 4   Rainfall       140787 non-null  float64\n",
            " 5   Evaporation    81350 non-null   float64\n",
            " 6   Sunshine       74377 non-null   float64\n",
            " 7   WindGustDir    132863 non-null  object \n",
            " 8   WindGustSpeed  132923 non-null  float64\n",
            "dtypes: float64(6), object(3)\n",
            "memory usage: 9.8+ MB\n"
          ]
        }
      ]
    },
    {
      "cell_type": "code",
      "metadata": {
        "colab": {
          "base_uri": "https://localhost:8080/"
        },
        "id": "Fh3c2VoT8WJ6",
        "outputId": "3136712a-d7d4-46df-a249-b32daa603538"
      },
      "source": [
        "df.toPandas().isna().mean().round(4) * 100"
      ],
      "execution_count": 90,
      "outputs": [
        {
          "output_type": "execute_result",
          "data": {
            "text/plain": [
              "Date              0.00\n",
              "Location          0.00\n",
              "MinTemp           0.45\n",
              "MaxTemp           0.23\n",
              "Rainfall          0.99\n",
              "Evaporation      42.79\n",
              "Sunshine         47.69\n",
              "WindGustDir       6.56\n",
              "WindGustSpeed     6.52\n",
              "dtype: float64"
            ]
          },
          "metadata": {},
          "execution_count": 90
        }
      ]
    },
    {
      "cell_type": "code",
      "metadata": {
        "id": "jZSGa6zQ9hon"
      },
      "source": [
        "df=df.drop('Sunshine','Evaporation')"
      ],
      "execution_count": 91,
      "outputs": []
    },
    {
      "cell_type": "code",
      "metadata": {
        "colab": {
          "base_uri": "https://localhost:8080/"
        },
        "id": "cEaI3r_L92U3",
        "outputId": "1cb1521a-f67f-43f7-f5fb-2b2d3ebe4455"
      },
      "source": [
        "df.show()"
      ],
      "execution_count": 92,
      "outputs": [
        {
          "output_type": "stream",
          "name": "stdout",
          "text": [
            "+----------+--------+-------+-------+--------+-----------+-------------+\n",
            "|      Date|Location|MinTemp|MaxTemp|Rainfall|WindGustDir|WindGustSpeed|\n",
            "+----------+--------+-------+-------+--------+-----------+-------------+\n",
            "|2008-12-01|  Albury|   13.4|   22.9|     0.6|          W|         44.0|\n",
            "|2008-12-02|  Albury|    7.4|   25.1|     0.0|        WNW|         44.0|\n",
            "|2008-12-03|  Albury|   12.9|   25.7|     0.0|        WSW|         46.0|\n",
            "|2008-12-04|  Albury|    9.2|   28.0|     0.0|         NE|         24.0|\n",
            "|2008-12-05|  Albury|   17.5|   32.3|     1.0|          W|         41.0|\n",
            "|2008-12-06|  Albury|   14.6|   29.7|     0.2|        WNW|         56.0|\n",
            "|2008-12-07|  Albury|   14.3|   25.0|     0.0|          W|         50.0|\n",
            "|2008-12-08|  Albury|    7.7|   26.7|     0.0|          W|         35.0|\n",
            "|2008-12-09|  Albury|    9.7|   31.9|     0.0|        NNW|         80.0|\n",
            "|2008-12-10|  Albury|   13.1|   30.1|     1.4|          W|         28.0|\n",
            "|2008-12-11|  Albury|   13.4|   30.4|     0.0|          N|         30.0|\n",
            "|2008-12-12|  Albury|   15.9|   21.7|     2.2|        NNE|         31.0|\n",
            "|2008-12-13|  Albury|   15.9|   18.6|    15.6|          W|         61.0|\n",
            "|2008-12-14|  Albury|   12.6|   21.0|     3.6|         SW|         44.0|\n",
            "|2008-12-16|  Albury|    9.8|   27.7|    null|        WNW|         50.0|\n",
            "|2008-12-17|  Albury|   14.1|   20.9|     0.0|        ENE|         22.0|\n",
            "|2008-12-18|  Albury|   13.5|   22.9|    16.8|          W|         63.0|\n",
            "|2008-12-19|  Albury|   11.2|   22.5|    10.6|        SSE|         43.0|\n",
            "|2008-12-20|  Albury|    9.8|   25.6|     0.0|        SSE|         26.0|\n",
            "|2008-12-21|  Albury|   11.5|   29.3|     0.0|          S|         24.0|\n",
            "+----------+--------+-------+-------+--------+-----------+-------------+\n",
            "only showing top 20 rows\n",
            "\n"
          ]
        }
      ]
    },
    {
      "cell_type": "code",
      "metadata": {
        "colab": {
          "base_uri": "https://localhost:8080/"
        },
        "id": "VaPLlHJCB-4_",
        "outputId": "fba66d1f-e417-4638-b2b3-ad7889a0d03b"
      },
      "source": [
        "df.collect()[1][\"MaxTemp\"]"
      ],
      "execution_count": 93,
      "outputs": [
        {
          "output_type": "execute_result",
          "data": {
            "text/plain": [
              "25.1"
            ]
          },
          "metadata": {},
          "execution_count": 93
        }
      ]
    },
    {
      "cell_type": "code",
      "metadata": {
        "colab": {
          "base_uri": "https://localhost:8080/"
        },
        "id": "R1RVyNgt95pL",
        "outputId": "dcc24440-af58-452d-d9f9-a905d210b43b"
      },
      "source": [
        "df.select(\"MinTemp\").summary().show()"
      ],
      "execution_count": 94,
      "outputs": [
        {
          "output_type": "stream",
          "name": "stdout",
          "text": [
            "+-------+------------------+\n",
            "|summary|           MinTemp|\n",
            "+-------+------------------+\n",
            "|  count|            141556|\n",
            "|   mean|12.186399728729217|\n",
            "| stddev| 6.403282674671329|\n",
            "|    min|              -8.5|\n",
            "|    25%|               7.6|\n",
            "|    50%|              12.0|\n",
            "|    75%|              16.8|\n",
            "|    max|              33.9|\n",
            "+-------+------------------+\n",
            "\n"
          ]
        }
      ]
    },
    {
      "cell_type": "code",
      "metadata": {
        "colab": {
          "base_uri": "https://localhost:8080/",
          "height": 369
        },
        "id": "xAUPpDhaDkq2",
        "outputId": "b03be973-835a-4baf-db7a-8019194792fc"
      },
      "source": [
        "import matplotlib.pyplot as plt\n",
        "import seaborn as sns\n",
        "\n",
        "sns.displot(df.toPandas()[\"MinTemp\"].values.tolist());"
      ],
      "execution_count": 95,
      "outputs": [
        {
          "output_type": "display_data",
          "data": {
            "image/png": "[encoded data removed]",
            "text/plain": [
              "<Figure size 360x360 with 1 Axes>"
            ]
          },
          "metadata": {
            "needs_background": "light"
          }
        }
      ]
    },
    {
      "cell_type": "code",
      "metadata": {
        "colab": {
          "base_uri": "https://localhost:8080/",
          "height": 265
        },
        "id": "-mOew8N7FidY",
        "outputId": "378c77c0-236c-4ff9-b82e-5ec32218b826"
      },
      "source": [
        "plt.hist(df.toPandas()[\"MinTemp\"].values.tolist(),bins=30)\n",
        "plt.show()"
      ],
      "execution_count": 96,
      "outputs": [
        {
          "output_type": "display_data",
          "data": {
            "image/png": "[encoded data removed]",
            "text/plain": [
              "<Figure size 432x288 with 1 Axes>"
            ]
          },
          "metadata": {
            "needs_background": "light"
          }
        }
      ]
    },
    {
      "cell_type": "code",
      "metadata": {
        "colab": {
          "base_uri": "https://localhost:8080/"
        },
        "id": "G_G-jX2jAZXv",
        "outputId": "75349f39-3184-4dce-f025-0b42b9b42ef5"
      },
      "source": [
        "avg_min_temp=df.select(\"MinTemp\").agg(mean(\"MinTemp\").alias(\"Avg_Min_temp\")).first()[0]\n",
        "\n",
        "print(avg_min_temp)\n",
        "\n",
        "df=df.na.fill({\"MinTemp\":avg_min_temp})"
      ],
      "execution_count": 104,
      "outputs": [
        {
          "output_type": "stream",
          "name": "stdout",
          "text": [
            "12.186399728729217\n"
          ]
        }
      ]
    },
    {
      "cell_type": "code",
      "metadata": {
        "colab": {
          "base_uri": "https://localhost:8080/"
        },
        "id": "AtQdwz17BA7z",
        "outputId": "8dc5d45d-4930-4062-93cf-f80a574b241f"
      },
      "source": [
        "df.toPandas().isna().mean().round(4) * 100"
      ],
      "execution_count": 105,
      "outputs": [
        {
          "output_type": "execute_result",
          "data": {
            "text/plain": [
              "Date             0.00\n",
              "Location         0.00\n",
              "MinTemp          0.00\n",
              "MaxTemp          0.23\n",
              "Rainfall         0.99\n",
              "WindGustDir      6.56\n",
              "WindGustSpeed    6.52\n",
              "dtype: float64"
            ]
          },
          "metadata": {},
          "execution_count": 105
        }
      ]
    },
    {
      "cell_type": "code",
      "metadata": {
        "colab": {
          "base_uri": "https://localhost:8080/",
          "height": 590
        },
        "id": "H34VQX0yBijj",
        "outputId": "1a7a2459-b254-4fc5-b460-b9268919cc38"
      },
      "source": [
        "df.select(\"MaxTemp\").summary().show()\n",
        "sns.displot(df.toPandas()[\"MaxTemp\"].values.tolist());"
      ],
      "execution_count": 107,
      "outputs": [
        {
          "output_type": "stream",
          "name": "stdout",
          "text": [
            "+-------+-----------------+\n",
            "|summary|          MaxTemp|\n",
            "+-------+-----------------+\n",
            "|  count|           141871|\n",
            "|   mean|23.22678419127246|\n",
            "| stddev|7.117618141018117|\n",
            "|    min|             -4.8|\n",
            "|    25%|             17.9|\n",
            "|    50%|             22.6|\n",
            "|    75%|             28.2|\n",
            "|    max|             48.1|\n",
            "+-------+-----------------+\n",
            "\n"
          ]
        },
        {
          "output_type": "display_data",
          "data": {
            "image/png": "[encoded data removed]",
            "text/plain": [
              "<Figure size 360x360 with 1 Axes>"
            ]
          },
          "metadata": {
            "needs_background": "light"
          }
        }
      ]
    },
    {
      "cell_type": "code",
      "metadata": {
        "colab": {
          "base_uri": "https://localhost:8080/"
        },
        "id": "JC-lJTIGJReb",
        "outputId": "45b6aca1-32a6-42a8-8df7-96c93db683c4"
      },
      "source": [
        "avg_max_temp=df.select(\"MaxTemp\").summary().collect()[5][\"MaxTemp\"]\n",
        "\n",
        "print(avg_max_temp)\n",
        "\n",
        "df=df.na.fill({\"MaxTemp\":avg_min_temp})"
      ],
      "execution_count": 119,
      "outputs": [
        {
          "output_type": "stream",
          "name": "stdout",
          "text": [
            "22.6\n"
          ]
        }
      ]
    },
    {
      "cell_type": "code",
      "metadata": {
        "colab": {
          "base_uri": "https://localhost:8080/"
        },
        "id": "6xfseAjMLpz1",
        "outputId": "b0b3ca7e-53cf-4a0a-9b08-79205ee1b5b3"
      },
      "source": [
        "df.toPandas().isna().mean().round(4) * 100"
      ],
      "execution_count": 120,
      "outputs": [
        {
          "output_type": "execute_result",
          "data": {
            "text/plain": [
              "Date             0.00\n",
              "Location         0.00\n",
              "MinTemp          0.00\n",
              "MaxTemp          0.00\n",
              "Rainfall         0.99\n",
              "WindGustDir      6.56\n",
              "WindGustSpeed    6.52\n",
              "dtype: float64"
            ]
          },
          "metadata": {},
          "execution_count": 120
        }
      ]
    },
    {
      "cell_type": "code",
      "metadata": {
        "colab": {
          "base_uri": "https://localhost:8080/"
        },
        "id": "1kt_Ul_yNzhV",
        "outputId": "2ea17b24-cc77-4183-c8e5-5ec628eb61a3"
      },
      "source": [
        "df.toPandas()[\"WindGustDir\"].value_counts()"
      ],
      "execution_count": 141,
      "outputs": [
        {
          "output_type": "execute_result",
          "data": {
            "text/plain": [
              "W      9780\n",
              "SE     9309\n",
              "E      9071\n",
              "N      9033\n",
              "SSE    8993\n",
              "S      8949\n",
              "WSW    8901\n",
              "SW     8797\n",
              "SSW    8610\n",
              "WNW    8066\n",
              "NW     8003\n",
              "ENE    7992\n",
              "ESE    7305\n",
              "NE     7060\n",
              "NNW    6561\n",
              "NNE    6433\n",
              "Name: WindGustDir, dtype: int64"
            ]
          },
          "metadata": {},
          "execution_count": 141
        }
      ]
    },
    {
      "cell_type": "code",
      "metadata": {
        "colab": {
          "base_uri": "https://localhost:8080/",
          "height": 35
        },
        "id": "OWOdD_0gL6QT",
        "outputId": "8f098c48-2b0f-4260-8567-6c59e1f0fd73"
      },
      "source": [
        "mode=df.toPandas()[\"WindGustDir\"].value_counts().index[0]\n",
        "\n",
        "mode"
      ],
      "execution_count": 142,
      "outputs": [
        {
          "output_type": "execute_result",
          "data": {
            "application/vnd.google.colaboratory.intrinsic+json": {
              "type": "string"
            },
            "text/plain": [
              "'W'"
            ]
          },
          "metadata": {},
          "execution_count": 142
        }
      ]
    },
    {
      "cell_type": "code",
      "metadata": {
        "id": "S3bdOUtCMAVq"
      },
      "source": [
        "df=df.na.fill({\"WindGustDir\":mode})"
      ],
      "execution_count": 143,
      "outputs": []
    },
    {
      "cell_type": "code",
      "metadata": {
        "colab": {
          "base_uri": "https://localhost:8080/"
        },
        "id": "WMA0N9H6NNM3",
        "outputId": "d601cc9f-0174-45b0-c722-91331f510789"
      },
      "source": [
        "df.toPandas().isna().mean().round(4) * 100"
      ],
      "execution_count": 144,
      "outputs": [
        {
          "output_type": "execute_result",
          "data": {
            "text/plain": [
              "Date             0.00\n",
              "Location         0.00\n",
              "MinTemp          0.00\n",
              "MaxTemp          0.00\n",
              "Rainfall         0.99\n",
              "WindGustDir      0.00\n",
              "WindGustSpeed    6.52\n",
              "dtype: float64"
            ]
          },
          "metadata": {},
          "execution_count": 144
        }
      ]
    },
    {
      "cell_type": "code",
      "metadata": {
        "colab": {
          "base_uri": "https://localhost:8080/"
        },
        "id": "YeJ9EZskOUg0",
        "outputId": "09646644-d254-4973-84fa-4a95207b4f70"
      },
      "source": [
        "# For downloading the dataset\n",
        "# Go to Kaggle.com -> My Account -> Create new API Token -> Upload kaggle.json in Jupyter Home/CNN/\n",
        "import os\n",
        "os.environ['KAGGLE_CONFIG_DIR'] = '/content'\n",
        "!chmod 600 /content/kaggle.json\n",
        "!kaggle datasets download -d epattaro/brazils-house-of-deputies-reimbursements\n",
        "!unzip /content/brazils-house-of-deputies-reimbursements.zip"
      ],
      "execution_count": 148,
      "outputs": [
        {
          "output_type": "stream",
          "name": "stdout",
          "text": [
            "Downloading brazils-house-of-deputies-reimbursements.zip to /content\n",
            " 50% 17.0M/34.2M [00:00<00:00, 177MB/s]\n",
            "100% 34.2M/34.2M [00:00<00:00, 167MB/s]\n",
            "Archive:  /content/brazils-house-of-deputies-reimbursements.zip\n",
            "  inflating: deputies_dataset.csv    \n",
            "  inflating: dirty_deputies_v2.csv   \n"
          ]
        }
      ]
    },
    {
      "cell_type": "code",
      "metadata": {
        "id": "-UkgwkavbaUn"
      },
      "source": [
        ""
      ],
      "execution_count": 180,
      "outputs": []
    },
    {
      "cell_type": "code",
      "metadata": {
        "colab": {
          "base_uri": "https://localhost:8080/"
        },
        "id": "ZOnLkVFvRlYc",
        "outputId": "b17b71d2-3226-4e12-944a-6b9c7bdc96b5"
      },
      "source": [
        "out=spark.read.csv(header=True,inferSchema=True,path=\"/content/dirty_deputies_v2.csv\")\n",
        "\n",
        "out.printSchema()\n",
        "out.show(5)"
      ],
      "execution_count": 181,
      "outputs": [
        {
          "output_type": "stream",
          "name": "stdout",
          "text": [
            "root\n",
            " |-- deputy_name: string (nullable = true)\n",
            " |-- deputy_state: string (nullable = true)\n",
            " |-- political_party: string (nullable = true)\n",
            " |-- refund_description: string (nullable = true)\n",
            " |-- company_name: string (nullable = true)\n",
            " |-- company_id: double (nullable = true)\n",
            " |-- refund_date: timestamp (nullable = true)\n",
            " |-- refund_value: double (nullable = true)\n",
            " |-- party_pg: string (nullable = true)\n",
            " |-- party_en: string (nullable = true)\n",
            " |-- party_tse: string (nullable = true)\n",
            " |-- party_regdate: string (nullable = true)\n",
            " |-- party_nmembers: string (nullable = true)\n",
            " |-- party_ideology1: string (nullable = true)\n",
            " |-- party_ideology2: string (nullable = true)\n",
            " |-- party_ideology3: string (nullable = true)\n",
            " |-- party_ideology4: string (nullable = true)\n",
            " |-- party_position: string (nullable = true)\n",
            "\n",
            "+--------------------+------------+---------------+------------------+--------------------+----------------+-------------------+------------+----------+---------+---------+-------------+--------------+-------------------+--------------------+-------------------+---------------+--------------+\n",
            "|         deputy_name|deputy_state|political_party|refund_description|        company_name|      company_id|        refund_date|refund_value|  party_pg| party_en|party_tse|party_regdate|party_nmembers|    party_ideology1|     party_ideology2|    party_ideology3|party_ideology4|party_position|\n",
            "+--------------------+------------+---------------+------------------+--------------------+----------------+-------------------+------------+----------+---------+---------+-------------+--------------+-------------------+--------------------+-------------------+---------------+--------------+\n",
            "|PROFESSORA DORINH...|          TO|            DEM|     FLIGHT TICKET|     Cia Aérea - TAM|2.01286200016E12|2016-07-29 00:00:00|      937.63|Democratas|Democrats|       25|     11-09-86|       1095712|Economic liberalism|Liberal conservatism|Christian democracy|           null|     Rightwing|\n",
            "| JOSÉ CARLOS ALELUIA|          BA|            DEM|        FUEL COSTS|CASCOL COMBUSTIVE...|3.06597005085E11|2016-06-21 00:00:00|       150.0|Democratas|Democrats|       25|     11-09-86|       1095712|Economic liberalism|Liberal conservatism|Christian democracy|           null|     Rightwing|\n",
            "| JOSÉ CARLOS ALELUIA|          BA|            DEM|        FUEL COSTS|CASCOL COMBUSTIVE...|3.06597005085E11|2016-06-01 00:00:00|       100.0|Democratas|Democrats|       25|     11-09-86|       1095712|Economic liberalism|Liberal conservatism|Christian democracy|           null|     Rightwing|\n",
            "| JOSÉ CARLOS ALELUIA|          BA|            DEM|        FUEL COSTS|MEGA POSTO BERIMB...| 1.8559600001E12|2016-04-19 00:00:00|      168.07|Democratas|Democrats|       25|     11-09-86|       1095712|Economic liberalism|Liberal conservatism|Christian democracy|           null|     Rightwing|\n",
            "| JOSÉ CARLOS ALELUIA|          BA|            DEM|        FUEL COSTS|MEGA POSTO BERIMB...| 1.8559600001E12|2016-08-13 00:00:00|      239.57|Democratas|Democrats|       25|     11-09-86|       1095712|Economic liberalism|Liberal conservatism|Christian democracy|           null|     Rightwing|\n",
            "+--------------------+------------+---------------+------------------+--------------------+----------------+-------------------+------------+----------+---------+---------+-------------+--------------+-------------------+--------------------+-------------------+---------------+--------------+\n",
            "only showing top 5 rows\n",
            "\n"
          ]
        }
      ]
    },
    {
      "cell_type": "code",
      "metadata": {
        "colab": {
          "base_uri": "https://localhost:8080/"
        },
        "id": "A_HQXfLFThjO",
        "outputId": "3b3e6ac8-4dd2-47f7-f411-7cb35bec5657"
      },
      "source": [
        "out.select(\"refund_value\").summary().show()"
      ],
      "execution_count": 182,
      "outputs": [
        {
          "output_type": "stream",
          "name": "stdout",
          "text": [
            "+-------+-----------------+\n",
            "|summary|     refund_value|\n",
            "+-------+-----------------+\n",
            "|  count|           339089|\n",
            "|   mean|625.7474209720527|\n",
            "| stddev|2076.983477144462|\n",
            "|    min|          -6100.0|\n",
            "|    25%|             50.0|\n",
            "|    50%|            150.0|\n",
            "|    75%|            506.0|\n",
            "|    max|         184500.0|\n",
            "+-------+-----------------+\n",
            "\n"
          ]
        }
      ]
    },
    {
      "cell_type": "code",
      "metadata": {
        "colab": {
          "base_uri": "https://localhost:8080/"
        },
        "id": "kcQfhlJ8TydO",
        "outputId": "ddc79711-96fa-4a51-8dee-5734946db0f7"
      },
      "source": [
        "Median=out.select(\"refund_value\").summary().collect()[5][\"refund_value\"]\n",
        "\n",
        "Q1=out.select(\"refund_value\").summary().collect()[4][\"refund_value\"]\n",
        "\n",
        "Q3=out.select(\"refund_value\").summary().collect()[6][\"refund_value\"]\n",
        "\n",
        "print(\"Q1 :%a\"%Q1)\n",
        "\n",
        "print(\"Q3 :%a\"%Q3)\n",
        "\n",
        "IQR=float(Q3)-float(Q1)\n",
        "\n",
        "\n",
        "print(\"IQR :%a\"%IQR)\n",
        "\n",
        "lower_extreme=float(Q1)-(1.5*IQR)\n",
        "\n",
        "\n",
        "print(\"lower extreme :%a\"%lower_extreme)\n",
        "\n",
        "upper_extreme=float(Q3)+(1.5*IQR)\n",
        "\n",
        "print(\"upper_extreme :%a\"%upper_extreme)\n",
        "\n"
      ],
      "execution_count": 183,
      "outputs": [
        {
          "output_type": "stream",
          "name": "stdout",
          "text": [
            "Q1 :'50.0'\n",
            "Q3 :'506.0'\n",
            "IQR :456.0\n",
            "lower extreme :-634.0\n",
            "upper_extreme :1190.0\n"
          ]
        }
      ]
    },
    {
      "cell_type": "code",
      "metadata": {
        "colab": {
          "base_uri": "https://localhost:8080/",
          "height": 319
        },
        "id": "Nx-YTVfCS4OR",
        "outputId": "f7db9d44-d11b-4a72-c622-64be934bcd2a"
      },
      "source": [
        "sns.boxplot(out.toPandas()[\"refund_value\"].values.tolist())\n",
        "plt.show()"
      ],
      "execution_count": 184,
      "outputs": [
        {
          "output_type": "stream",
          "name": "stderr",
          "text": [
            "/usr/local/lib/python3.7/dist-packages/seaborn/_decorators.py:43: FutureWarning: Pass the following variable as a keyword arg: x. From version 0.12, the only valid positional argument will be `data`, and passing other arguments without an explicit keyword will result in an error or misinterpretation.\n",
            "  FutureWarning\n"
          ]
        },
        {
          "output_type": "display_data",
          "data": {
            "image/png": "[encoded data removed]",
            "text/plain": [
              "<Figure size 432x288 with 1 Axes>"
            ]
          },
          "metadata": {
            "needs_background": "light"
          }
        }
      ]
    },
    {
      "cell_type": "code",
      "metadata": {
        "id": "xQQr57zfTJaO"
      },
      "source": [
        "out=out.withColumn(\"refund_value1\", when(out.refund_value < -634, -634)\\\n",
        "               .when(out.refund_value> 1190.0, 1190.0)\\\n",
        "               .otherwise(out.refund_value))\n",
        "out=out.drop(\"refund_value\")\n",
        "\n",
        "out.withColumnRenamed(\"refund_value1\",\"refund_value\")"
      ],
      "execution_count": 185,
      "outputs": []
    },
    {
      "cell_type": "code",
      "metadata": {
        "colab": {
          "base_uri": "https://localhost:8080/"
        },
        "id": "WeocnO_kbMCQ",
        "outputId": "3106ac78-e424-4b87-942f-3a1334a6b846"
      },
      "source": [
        "out.printSchema()"
      ],
      "execution_count": 186,
      "outputs": [
        {
          "output_type": "stream",
          "name": "stdout",
          "text": [
            "root\n",
            " |-- deputy_name: string (nullable = true)\n",
            " |-- deputy_state: string (nullable = true)\n",
            " |-- political_party: string (nullable = true)\n",
            " |-- refund_description: string (nullable = true)\n",
            " |-- company_name: string (nullable = true)\n",
            " |-- company_id: double (nullable = true)\n",
            " |-- refund_date: timestamp (nullable = true)\n",
            " |-- refund_value: double (nullable = true)\n",
            " |-- party_pg: string (nullable = true)\n",
            " |-- party_en: string (nullable = true)\n",
            " |-- party_tse: string (nullable = true)\n",
            " |-- party_regdate: string (nullable = true)\n",
            " |-- party_nmembers: string (nullable = true)\n",
            " |-- party_ideology1: string (nullable = true)\n",
            " |-- party_ideology2: string (nullable = true)\n",
            " |-- party_ideology3: string (nullable = true)\n",
            " |-- party_ideology4: string (nullable = true)\n",
            " |-- party_position: string (nullable = true)\n",
            " |-- refund_value1: double (nullable = true)\n",
            "\n"
          ]
        }
      ]
    },
    {
      "cell_type": "code",
      "metadata": {
        "colab": {
          "base_uri": "https://localhost:8080/",
          "height": 319
        },
        "id": "ztqYctccamVZ",
        "outputId": "a7e2da8f-2295-433b-bafb-21700053725b"
      },
      "source": [
        "sns.boxplot(out.toPandas()[\"refund_value1\"].values.tolist())\n",
        "plt.show()"
      ],
      "execution_count": 187,
      "outputs": [
        {
          "output_type": "stream",
          "name": "stderr",
          "text": [
            "/usr/local/lib/python3.7/dist-packages/seaborn/_decorators.py:43: FutureWarning: Pass the following variable as a keyword arg: x. From version 0.12, the only valid positional argument will be `data`, and passing other arguments without an explicit keyword will result in an error or misinterpretation.\n",
            "  FutureWarning\n"
          ]
        },
        {
          "output_type": "display_data",
          "data": {
            "image/png": "[encoded data removed]",
            "text/plain": [
              "<Figure size 432x288 with 1 Axes>"
            ]
          },
          "metadata": {
            "needs_background": "light"
          }
        }
      ]
    },
    {
      "cell_type": "code",
      "metadata": {
        "id": "YdQodee-XOyI"
      },
      "source": [
        ""
      ],
      "execution_count": 187,
      "outputs": []
    }
  ]
}