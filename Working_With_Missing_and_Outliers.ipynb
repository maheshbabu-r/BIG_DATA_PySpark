{
  "nbformat": 4,
  "nbformat_minor": 0,
  "metadata": {
    "colab": {
      "name": "Working_With_Missing_and_Outliers.ipynb",
      "provenance": [],
      "collapsed_sections": [],
      "authorship_tag": "ABX9TyNrK72CsvAD3H0X5blKhkaL",
      "include_colab_link": true
    },
    "kernelspec": {
      "name": "python3",
      "display_name": "Python 3"
    },
    "language_info": {
      "name": "python"
    }
  },
  "cells": [
    {
      "cell_type": "markdown",
      "metadata": {
        "id": "view-in-github",
        "colab_type": "text"
      },
      "source": [
        "<a href=\"https://colab.research.google.com/github/maheshbabu-r/BIG_DATA/blob/main/Working_With_Missing_and_Outliers.ipynb\" target=\"_parent\"><img src=\"https://colab.research.google.com/assets/colab-badge.svg\" alt=\"Open In Colab\"/></a>"
      ]
    },
    {
      "cell_type": "code",
      "metadata": {
        "colab": {
          "base_uri": "https://localhost:8080/"
        },
        "id": "vaiciVdNQsIF",
        "outputId": "fb002954-b0df-477e-9c3d-5b95baf1b82d"
      },
      "source": [
        "!pwd\n",
        "!ls\n",
        "!python --version"
      ],
      "execution_count": 1,
      "outputs": [
        {
          "output_type": "stream",
          "name": "stdout",
          "text": [
            "/content\n",
            "sample_data\n",
            "Python 3.7.11\n"
          ]
        }
      ]
    },
    {
      "cell_type": "code",
      "metadata": {
        "id": "--GLlORif_Jc"
      },
      "source": [
        "# for suppress warnings\n",
        "# python packages\n",
        "import matplotlib.pyplot as plt\n",
        "import seaborn as sns\n",
        "\n",
        "import warnings\n",
        "warnings.simplefilter(\"ignore\")"
      ],
      "execution_count": 2,
      "outputs": []
    },
    {
      "cell_type": "code",
      "metadata": {
        "id": "zlsv9yGB2I81"
      },
      "source": [
        "!apt-get install openjdk-8-jdk-headless -qq > /dev/null\n",
        "\n",
        "!wget -q https://dlcdn.apache.org/spark/spark-3.1.2/spark-3.1.2-bin-hadoop3.2.tgz  # supress download output use -q\n",
        "\n",
        "!tar -zxvf spark-3.1.2-bin-hadoop3.2.tgz | grep \"something\" 2>/dev/null #Suppress tar output ---| grep \"something\" 2>/dev/null--- add after file_name\"\n",
        "\n",
        "!pip -q install findspark"
      ],
      "execution_count": 3,
      "outputs": []
    },
    {
      "cell_type": "code",
      "metadata": {
        "id": "v6RZ_81C3IkA",
        "colab": {
          "base_uri": "https://localhost:8080/"
        },
        "outputId": "d85657f1-62c9-4e0d-9214-9b2e9c681b36"
      },
      "source": [
        "import os\n",
        "os.environ[\"JAVA_HOME\"] = \"/usr/lib/jvm/java-8-openjdk-amd64\"\n",
        "os.environ[\"SPARK_HOME\"] = \"/content/spark-3.1.2-bin-hadoop3.2\"\n",
        "\n",
        "import findspark\n",
        "findspark.init()\n",
        "\n",
        "from pyspark.sql import SparkSession\n",
        "from pyspark import SparkConf\n",
        "from pyspark import SparkContext\n",
        "\n",
        "from pyspark.sql.functions import approx_count_distinct,collect_list\n",
        "from pyspark.sql.functions import collect_set,sum,avg,max,countDistinct,count\n",
        "from pyspark.sql.functions import first, last, kurtosis, min, mean, skewness \n",
        "from pyspark.sql.functions import stddev, stddev_samp, stddev_pop, sumDistinct\n",
        "from pyspark.sql.functions import variance,var_samp,  var_pop\n",
        "\n",
        "# or import like this\n",
        "from pyspark.sql.functions import *\n",
        "\n",
        "sc = SparkContext.getOrCreate(SparkConf().setMaster(\"local[*]\"))\n",
        "spark = SparkSession.builder.appName(\"PySpark 3.0 Setup on Google Colab\").getOrCreate()\n",
        "print(spark.sparkContext.appName)"
      ],
      "execution_count": 4,
      "outputs": [
        {
          "output_type": "stream",
          "name": "stdout",
          "text": [
            "pyspark-shell\n"
          ]
        }
      ]
    },
    {
      "cell_type": "code",
      "metadata": {
        "id": "dZ8VPdpoMtie"
      },
      "source": [
        "!wget -q https://raw.githubusercontent.com/maheshbabu-r/BIG_DATA/main/Hadoop%20Datasets/weatherdata.csv"
      ],
      "execution_count": 5,
      "outputs": []
    },
    {
      "cell_type": "code",
      "metadata": {
        "colab": {
          "base_uri": "https://localhost:8080/"
        },
        "id": "rHJCRBis6DXP",
        "outputId": "b2cf03a2-dcdd-4bd9-930c-9fbd5f131e1c"
      },
      "source": [
        "# load Data into Pyspark Dataframe\n",
        "\n",
        "df=spark.read.csv(header=True,inferSchema=True,path=\"/content/weatherdata.csv\")\n",
        "\n",
        "df.printSchema()\n",
        "\n",
        "df.show(5)"
      ],
      "execution_count": 6,
      "outputs": [
        {
          "output_type": "stream",
          "name": "stdout",
          "text": [
            "root\n",
            " |-- Date: string (nullable = true)\n",
            " |-- Location: string (nullable = true)\n",
            " |-- MinTemp: double (nullable = true)\n",
            " |-- MaxTemp: double (nullable = true)\n",
            " |-- Rainfall: double (nullable = true)\n",
            " |-- Evaporation: double (nullable = true)\n",
            " |-- Sunshine: double (nullable = true)\n",
            " |-- WindGustDir: string (nullable = true)\n",
            " |-- WindGustSpeed: double (nullable = true)\n",
            "\n",
            "+----------+--------+-------+-------+--------+-----------+--------+-----------+-------------+\n",
            "|      Date|Location|MinTemp|MaxTemp|Rainfall|Evaporation|Sunshine|WindGustDir|WindGustSpeed|\n",
            "+----------+--------+-------+-------+--------+-----------+--------+-----------+-------------+\n",
            "|2008-12-01|  Albury|   13.4|   22.9|     0.6|       null|    null|          W|         44.0|\n",
            "|2008-12-02|  Albury|    7.4|   25.1|     0.0|       null|    null|        WNW|         44.0|\n",
            "|2008-12-03|  Albury|   12.9|   25.7|     0.0|       null|    null|        WSW|         46.0|\n",
            "|2008-12-04|  Albury|    9.2|   28.0|     0.0|       null|    null|         NE|         24.0|\n",
            "|2008-12-05|  Albury|   17.5|   32.3|     1.0|       null|    null|          W|         41.0|\n",
            "+----------+--------+-------+-------+--------+-----------+--------+-----------+-------------+\n",
            "only showing top 5 rows\n",
            "\n"
          ]
        }
      ]
    },
    {
      "cell_type": "code",
      "metadata": {
        "colab": {
          "base_uri": "https://localhost:8080/"
        },
        "id": "tjmAnEGw6aQ6",
        "outputId": "ba7393d4-9918-44ba-8087-61062b7af3b4"
      },
      "source": [
        "# it takes all the columns no matter about the data types and no median value included\n",
        "df.describe().show()"
      ],
      "execution_count": 7,
      "outputs": [
        {
          "output_type": "stream",
          "name": "stdout",
          "text": [
            "+-------+----------+--------+------------------+-----------------+-----------------+-----------------+------------------+-----------+------------------+\n",
            "|summary|      Date|Location|           MinTemp|          MaxTemp|         Rainfall|      Evaporation|          Sunshine|WindGustDir|     WindGustSpeed|\n",
            "+-------+----------+--------+------------------+-----------------+-----------------+-----------------+------------------+-----------+------------------+\n",
            "|  count|    142193|  142193|            141556|           141871|           140787|            81350|             74377|     132863|            132923|\n",
            "|   mean|      null|    null|12.186399728729217|23.22678419127246|2.349974074311104|5.469824216349112| 7.624853113193588|       null| 39.98429165757619|\n",
            "| stddev|      null|    null| 6.403282674671329|7.117618141018117|8.465172917616421|4.188536508895161|3.7815249942144558|       null|13.588800765487802|\n",
            "|    min|2007-11-01|Adelaide|              -8.5|             -4.8|              0.0|              0.0|               0.0|          E|               6.0|\n",
            "|    max|2017-06-25| Woomera|              33.9|             48.1|            371.0|            145.0|              14.5|        WSW|             135.0|\n",
            "+-------+----------+--------+------------------+-----------------+-----------------+-----------------+------------------+-----------+------------------+\n",
            "\n"
          ]
        }
      ]
    },
    {
      "cell_type": "code",
      "metadata": {
        "colab": {
          "base_uri": "https://localhost:8080/"
        },
        "id": "52SfqgQ__Wwy",
        "outputId": "d1c8d127-f61c-4b52-a04c-232a866a37bc"
      },
      "source": [
        "# check column wise data types \n",
        "df.dtypes"
      ],
      "execution_count": 8,
      "outputs": [
        {
          "output_type": "execute_result",
          "data": {
            "text/plain": [
              "[('Date', 'string'),\n",
              " ('Location', 'string'),\n",
              " ('MinTemp', 'double'),\n",
              " ('MaxTemp', 'double'),\n",
              " ('Rainfall', 'double'),\n",
              " ('Evaporation', 'double'),\n",
              " ('Sunshine', 'double'),\n",
              " ('WindGustDir', 'string'),\n",
              " ('WindGustSpeed', 'double')]"
            ]
          },
          "metadata": {},
          "execution_count": 8
        }
      ]
    },
    {
      "cell_type": "code",
      "metadata": {
        "colab": {
          "base_uri": "https://localhost:8080/"
        },
        "id": "dILB55ff6xa_",
        "outputId": "a0a5c67a-cce6-4e5d-b652-aaeb1fd13d4a"
      },
      "source": [
        "# to check single column stats using describe\n",
        "df.describe(\"MaxTemp\").show()"
      ],
      "execution_count": 9,
      "outputs": [
        {
          "output_type": "stream",
          "name": "stdout",
          "text": [
            "+-------+-----------------+\n",
            "|summary|          MaxTemp|\n",
            "+-------+-----------------+\n",
            "|  count|           141871|\n",
            "|   mean|23.22678419127246|\n",
            "| stddev|7.117618141018117|\n",
            "|    min|             -4.8|\n",
            "|    max|             48.1|\n",
            "+-------+-----------------+\n",
            "\n"
          ]
        }
      ]
    },
    {
      "cell_type": "code",
      "metadata": {
        "colab": {
          "base_uri": "https://localhost:8080/"
        },
        "id": "jyGktrtg6580",
        "outputId": "58be1a51-6c42-41de-f68a-bdf003dc34ed"
      },
      "source": [
        "# to check multiple columns stats using describe\n",
        "df.describe([\"MaxTemp\",\"MinTemp\"]).show()"
      ],
      "execution_count": 10,
      "outputs": [
        {
          "output_type": "stream",
          "name": "stdout",
          "text": [
            "+-------+-----------------+------------------+\n",
            "|summary|          MaxTemp|           MinTemp|\n",
            "+-------+-----------------+------------------+\n",
            "|  count|           141871|            141556|\n",
            "|   mean|23.22678419127246|12.186399728729217|\n",
            "| stddev|7.117618141018117| 6.403282674671329|\n",
            "|    min|             -4.8|              -8.5|\n",
            "|    max|             48.1|              33.9|\n",
            "+-------+-----------------+------------------+\n",
            "\n"
          ]
        }
      ]
    },
    {
      "cell_type": "code",
      "metadata": {
        "colab": {
          "base_uri": "https://localhost:8080/"
        },
        "id": "c1xz8YP67DJX",
        "outputId": "ea648cc8-b7bf-4135-e78d-af22b26e0446"
      },
      "source": [
        "# here pyspark is important to check data distribution for median values included\n",
        "df.summary().show()"
      ],
      "execution_count": 11,
      "outputs": [
        {
          "output_type": "stream",
          "name": "stdout",
          "text": [
            "+-------+----------+--------+------------------+-----------------+-----------------+-----------------+------------------+-----------+------------------+\n",
            "|summary|      Date|Location|           MinTemp|          MaxTemp|         Rainfall|      Evaporation|          Sunshine|WindGustDir|     WindGustSpeed|\n",
            "+-------+----------+--------+------------------+-----------------+-----------------+-----------------+------------------+-----------+------------------+\n",
            "|  count|    142193|  142193|            141556|           141871|           140787|            81350|             74377|     132863|            132923|\n",
            "|   mean|      null|    null|12.186399728729217|23.22678419127246|2.349974074311104|5.469824216349112| 7.624853113193588|       null| 39.98429165757619|\n",
            "| stddev|      null|    null| 6.403282674671329|7.117618141018117|8.465172917616421|4.188536508895161|3.7815249942144558|       null|13.588800765487802|\n",
            "|    min|2007-11-01|Adelaide|              -8.5|             -4.8|              0.0|              0.0|               0.0|          E|               6.0|\n",
            "|    25%|      null|    null|               7.6|             17.9|              0.0|              2.6|               4.9|       null|              31.0|\n",
            "|    50%|      null|    null|              12.0|             22.6|              0.0|              4.8|               8.5|       null|              39.0|\n",
            "|    75%|      null|    null|              16.8|             28.2|              0.8|              7.4|              10.6|       null|              48.0|\n",
            "|    max|2017-06-25| Woomera|              33.9|             48.1|            371.0|            145.0|              14.5|        WSW|             135.0|\n",
            "+-------+----------+--------+------------------+-----------------+-----------------+-----------------+------------------+-----------+------------------+\n",
            "\n"
          ]
        }
      ]
    },
    {
      "cell_type": "code",
      "metadata": {
        "colab": {
          "base_uri": "https://localhost:8080/"
        },
        "id": "1WSU9Cho7ILL",
        "outputId": "3e20a645-2491-44b7-ff6c-e153f79b0d2d"
      },
      "source": [
        "# we can use all the pandas fuctions using toPandas() function on pyspark data frame\n",
        "df.toPandas().info()"
      ],
      "execution_count": 12,
      "outputs": [
        {
          "output_type": "stream",
          "name": "stdout",
          "text": [
            "<class 'pandas.core.frame.DataFrame'>\n",
            "RangeIndex: 142193 entries, 0 to 142192\n",
            "Data columns (total 9 columns):\n",
            " #   Column         Non-Null Count   Dtype  \n",
            "---  ------         --------------   -----  \n",
            " 0   Date           142193 non-null  object \n",
            " 1   Location       142193 non-null  object \n",
            " 2   MinTemp        141556 non-null  float64\n",
            " 3   MaxTemp        141871 non-null  float64\n",
            " 4   Rainfall       140787 non-null  float64\n",
            " 5   Evaporation    81350 non-null   float64\n",
            " 6   Sunshine       74377 non-null   float64\n",
            " 7   WindGustDir    132863 non-null  object \n",
            " 8   WindGustSpeed  132923 non-null  float64\n",
            "dtypes: float64(6), object(3)\n",
            "memory usage: 9.8+ MB\n"
          ]
        }
      ]
    },
    {
      "cell_type": "code",
      "metadata": {
        "colab": {
          "base_uri": "https://localhost:8080/"
        },
        "id": "Fh3c2VoT8WJ6",
        "outputId": "25fae4ac-59f0-42a7-c729-1a02da78abd5"
      },
      "source": [
        "# to check percentage of null values with respect to each column\n",
        "df.toPandas().isna().mean().round(4) * 100"
      ],
      "execution_count": 13,
      "outputs": [
        {
          "output_type": "execute_result",
          "data": {
            "text/plain": [
              "Date              0.00\n",
              "Location          0.00\n",
              "MinTemp           0.45\n",
              "MaxTemp           0.23\n",
              "Rainfall          0.99\n",
              "Evaporation      42.79\n",
              "Sunshine         47.69\n",
              "WindGustDir       6.56\n",
              "WindGustSpeed     6.52\n",
              "dtype: float64"
            ]
          },
          "metadata": {},
          "execution_count": 13
        }
      ]
    },
    {
      "cell_type": "code",
      "metadata": {
        "id": "jZSGa6zQ9hon"
      },
      "source": [
        "# drop morethan 40% missing values related columns\n",
        "df=df.drop('Sunshine','Evaporation')"
      ],
      "execution_count": 15,
      "outputs": []
    },
    {
      "cell_type": "code",
      "metadata": {
        "colab": {
          "base_uri": "https://localhost:8080/"
        },
        "id": "cEaI3r_L92U3",
        "outputId": "65284966-741a-4278-ed31-a00b1cf18462"
      },
      "source": [
        "df.show(3)"
      ],
      "execution_count": 16,
      "outputs": [
        {
          "output_type": "stream",
          "name": "stdout",
          "text": [
            "+----------+--------+-------+-------+--------+-----------+-------------+\n",
            "|      Date|Location|MinTemp|MaxTemp|Rainfall|WindGustDir|WindGustSpeed|\n",
            "+----------+--------+-------+-------+--------+-----------+-------------+\n",
            "|2008-12-01|  Albury|   13.4|   22.9|     0.6|          W|         44.0|\n",
            "|2008-12-02|  Albury|    7.4|   25.1|     0.0|        WNW|         44.0|\n",
            "|2008-12-03|  Albury|   12.9|   25.7|     0.0|        WSW|         46.0|\n",
            "+----------+--------+-------+-------+--------+-----------+-------------+\n",
            "only showing top 3 rows\n",
            "\n"
          ]
        }
      ]
    },
    {
      "cell_type": "code",
      "metadata": {
        "colab": {
          "base_uri": "https://localhost:8080/"
        },
        "id": "VaPLlHJCB-4_",
        "outputId": "66217879-4196-469c-f1e6-9b041cf4a7a6"
      },
      "source": [
        "# to get specific value in column using index and column name\n",
        "df.collect()[1][\"MaxTemp\"]"
      ],
      "execution_count": 17,
      "outputs": [
        {
          "output_type": "execute_result",
          "data": {
            "text/plain": [
              "25.1"
            ]
          },
          "metadata": {},
          "execution_count": 17
        }
      ]
    },
    {
      "cell_type": "code",
      "metadata": {
        "colab": {
          "base_uri": "https://localhost:8080/"
        },
        "id": "R1RVyNgt95pL",
        "outputId": "0252af29-2f89-48f0-9a55-e71ff9bc3efe"
      },
      "source": [
        "df.select(\"MinTemp\").summary().show()"
      ],
      "execution_count": 18,
      "outputs": [
        {
          "output_type": "stream",
          "name": "stdout",
          "text": [
            "+-------+------------------+\n",
            "|summary|           MinTemp|\n",
            "+-------+------------------+\n",
            "|  count|            141556|\n",
            "|   mean|12.186399728729217|\n",
            "| stddev| 6.403282674671329|\n",
            "|    min|              -8.5|\n",
            "|    25%|               7.6|\n",
            "|    50%|              12.0|\n",
            "|    75%|              16.8|\n",
            "|    max|              33.9|\n",
            "+-------+------------------+\n",
            "\n"
          ]
        }
      ]
    },
    {
      "cell_type": "code",
      "metadata": {
        "colab": {
          "base_uri": "https://localhost:8080/",
          "height": 369
        },
        "id": "xAUPpDhaDkq2",
        "outputId": "638533be-e83c-4e97-9b99-cac9ab6c8d59"
      },
      "source": [
        "sns.displot(df.toPandas()[\"MinTemp\"].values.tolist());"
      ],
      "execution_count": 19,
      "outputs": [
        {
          "output_type": "display_data",
          "data": {
            "image/png": "[encoded data removed]",
            "text/plain": [
              "<Figure size 360x360 with 1 Axes>"
            ]
          },
          "metadata": {
            "needs_background": "light"
          }
        }
      ]
    },
    {
      "cell_type": "code",
      "metadata": {
        "colab": {
          "base_uri": "https://localhost:8080/",
          "height": 265
        },
        "id": "-mOew8N7FidY",
        "outputId": "48860616-13b9-44ce-f16a-30cef118eba8"
      },
      "source": [
        "plt.hist(df.toPandas()[\"MinTemp\"].values.tolist(),bins=30)\n",
        "plt.show()"
      ],
      "execution_count": 20,
      "outputs": [
        {
          "output_type": "display_data",
          "data": {
            "image/png": "[encoded data removed]",
            "text/plain": [
              "<Figure size 432x288 with 1 Axes>"
            ]
          },
          "metadata": {
            "needs_background": "light"
          }
        }
      ]
    },
    {
      "cell_type": "code",
      "metadata": {
        "colab": {
          "base_uri": "https://localhost:8080/"
        },
        "id": "G_G-jX2jAZXv",
        "outputId": "c3c2ed8c-646d-430b-e59c-3246b6d05d97"
      },
      "source": [
        "avg_min_temp=df.select(\"MinTemp\").agg(mean(\"MinTemp\").alias(\"Avg_Min_temp\")).first()[0]\n",
        "\n",
        "print(avg_min_temp)\n",
        "\n",
        "df=df.na.fill({\"MinTemp\":avg_min_temp})"
      ],
      "execution_count": 21,
      "outputs": [
        {
          "output_type": "stream",
          "name": "stdout",
          "text": [
            "12.186399728729217\n"
          ]
        }
      ]
    },
    {
      "cell_type": "code",
      "metadata": {
        "colab": {
          "base_uri": "https://localhost:8080/"
        },
        "id": "AtQdwz17BA7z",
        "outputId": "40307fac-cb05-486d-e395-96617ab2ba10"
      },
      "source": [
        "df.toPandas().isna().mean().round(4) * 100"
      ],
      "execution_count": 22,
      "outputs": [
        {
          "output_type": "execute_result",
          "data": {
            "text/plain": [
              "Date             0.00\n",
              "Location         0.00\n",
              "MinTemp          0.00\n",
              "MaxTemp          0.23\n",
              "Rainfall         0.99\n",
              "WindGustDir      6.56\n",
              "WindGustSpeed    6.52\n",
              "dtype: float64"
            ]
          },
          "metadata": {},
          "execution_count": 22
        }
      ]
    },
    {
      "cell_type": "code",
      "metadata": {
        "colab": {
          "base_uri": "https://localhost:8080/",
          "height": 590
        },
        "id": "H34VQX0yBijj",
        "outputId": "d89f4ceb-74d8-4ab2-8b82-6228a0b8fbd3"
      },
      "source": [
        "df.select(\"MaxTemp\").summary().show()\n",
        "sns.displot(df.toPandas()[\"MaxTemp\"].values.tolist());"
      ],
      "execution_count": 23,
      "outputs": [
        {
          "output_type": "stream",
          "name": "stdout",
          "text": [
            "+-------+-----------------+\n",
            "|summary|          MaxTemp|\n",
            "+-------+-----------------+\n",
            "|  count|           141871|\n",
            "|   mean|23.22678419127246|\n",
            "| stddev|7.117618141018117|\n",
            "|    min|             -4.8|\n",
            "|    25%|             17.9|\n",
            "|    50%|             22.6|\n",
            "|    75%|             28.2|\n",
            "|    max|             48.1|\n",
            "+-------+-----------------+\n",
            "\n"
          ]
        },
        {
          "output_type": "display_data",
          "data": {
            "image/png": "[encoded data removed]",
            "text/plain": [
              "<Figure size 360x360 with 1 Axes>"
            ]
          },
          "metadata": {
            "needs_background": "light"
          }
        }
      ]
    },
    {
      "cell_type": "code",
      "metadata": {
        "colab": {
          "base_uri": "https://localhost:8080/"
        },
        "id": "JC-lJTIGJReb",
        "outputId": "1d8d7ebd-29b9-4153-c641-b0e39c5d476b"
      },
      "source": [
        "avg_max_temp=df.select(\"MaxTemp\").summary().collect()[5][\"MaxTemp\"]\n",
        "\n",
        "print(avg_max_temp)\n",
        "\n",
        "df=df.na.fill({\"MaxTemp\":avg_min_temp})"
      ],
      "execution_count": 24,
      "outputs": [
        {
          "output_type": "stream",
          "name": "stdout",
          "text": [
            "22.6\n"
          ]
        }
      ]
    },
    {
      "cell_type": "code",
      "metadata": {
        "colab": {
          "base_uri": "https://localhost:8080/"
        },
        "id": "6xfseAjMLpz1",
        "outputId": "c7426695-b51c-4d0e-fc7a-74c5d88764dc"
      },
      "source": [
        "df.toPandas().isna().mean().round(4) * 100"
      ],
      "execution_count": 25,
      "outputs": [
        {
          "output_type": "execute_result",
          "data": {
            "text/plain": [
              "Date             0.00\n",
              "Location         0.00\n",
              "MinTemp          0.00\n",
              "MaxTemp          0.00\n",
              "Rainfall         0.99\n",
              "WindGustDir      6.56\n",
              "WindGustSpeed    6.52\n",
              "dtype: float64"
            ]
          },
          "metadata": {},
          "execution_count": 25
        }
      ]
    },
    {
      "cell_type": "code",
      "metadata": {
        "colab": {
          "base_uri": "https://localhost:8080/",
          "height": 486
        },
        "id": "ELM_dygtfIz8",
        "outputId": "ead6f65e-a4d4-42ab-f1ea-ddbbcaf13389"
      },
      "source": [
        "df.select(\"Rainfall\").summary().show()\n",
        "sns.boxplot(df.toPandas()[\"Rainfall\"].values.tolist())\n",
        "plt.show()"
      ],
      "execution_count": 26,
      "outputs": [
        {
          "output_type": "stream",
          "name": "stdout",
          "text": [
            "+-------+-----------------+\n",
            "|summary|         Rainfall|\n",
            "+-------+-----------------+\n",
            "|  count|           140787|\n",
            "|   mean|2.349974074311104|\n",
            "| stddev|8.465172917616421|\n",
            "|    min|              0.0|\n",
            "|    25%|              0.0|\n",
            "|    50%|              0.0|\n",
            "|    75%|              0.8|\n",
            "|    max|            371.0|\n",
            "+-------+-----------------+\n",
            "\n"
          ]
        },
        {
          "output_type": "display_data",
          "data": {
            "image/png": "[encoded data removed]",
            "text/plain": [
              "<Figure size 432x288 with 1 Axes>"
            ]
          },
          "metadata": {
            "needs_background": "light"
          }
        }
      ]
    },
    {
      "cell_type": "code",
      "metadata": {
        "id": "tu6Hi5dCe1jR"
      },
      "source": [
        "df=df.na.fill({\"Rainfall\":0})"
      ],
      "execution_count": 27,
      "outputs": []
    },
    {
      "cell_type": "code",
      "metadata": {
        "colab": {
          "base_uri": "https://localhost:8080/"
        },
        "id": "5wBdA22re1Zd",
        "outputId": "e25bbcbc-2761-4604-e831-5fe34a95d8cb"
      },
      "source": [
        "df.toPandas().isna().mean().round(4) * 100"
      ],
      "execution_count": 28,
      "outputs": [
        {
          "output_type": "execute_result",
          "data": {
            "text/plain": [
              "Date             0.00\n",
              "Location         0.00\n",
              "MinTemp          0.00\n",
              "MaxTemp          0.00\n",
              "Rainfall         0.00\n",
              "WindGustDir      6.56\n",
              "WindGustSpeed    6.52\n",
              "dtype: float64"
            ]
          },
          "metadata": {},
          "execution_count": 28
        }
      ]
    },
    {
      "cell_type": "code",
      "metadata": {
        "colab": {
          "base_uri": "https://localhost:8080/"
        },
        "id": "1kt_Ul_yNzhV",
        "outputId": "f0cb54ce-f6d4-4019-edba-e9f53d3c1883"
      },
      "source": [
        "df.toPandas()[\"WindGustDir\"].value_counts()"
      ],
      "execution_count": 29,
      "outputs": [
        {
          "output_type": "execute_result",
          "data": {
            "text/plain": [
              "W      9780\n",
              "SE     9309\n",
              "E      9071\n",
              "N      9033\n",
              "SSE    8993\n",
              "S      8949\n",
              "WSW    8901\n",
              "SW     8797\n",
              "SSW    8610\n",
              "WNW    8066\n",
              "NW     8003\n",
              "ENE    7992\n",
              "ESE    7305\n",
              "NE     7060\n",
              "NNW    6561\n",
              "NNE    6433\n",
              "Name: WindGustDir, dtype: int64"
            ]
          },
          "metadata": {},
          "execution_count": 29
        }
      ]
    },
    {
      "cell_type": "code",
      "metadata": {
        "colab": {
          "base_uri": "https://localhost:8080/",
          "height": 35
        },
        "id": "OWOdD_0gL6QT",
        "outputId": "3df9ffc2-e360-4eb8-d558-6b58fefe9796"
      },
      "source": [
        "mode=df.toPandas()[\"WindGustDir\"].value_counts().index[0]\n",
        "\n",
        "mode"
      ],
      "execution_count": 30,
      "outputs": [
        {
          "output_type": "execute_result",
          "data": {
            "application/vnd.google.colaboratory.intrinsic+json": {
              "type": "string"
            },
            "text/plain": [
              "'W'"
            ]
          },
          "metadata": {},
          "execution_count": 30
        }
      ]
    },
    {
      "cell_type": "code",
      "metadata": {
        "id": "S3bdOUtCMAVq"
      },
      "source": [
        "df=df.na.fill({\"WindGustDir\":mode})"
      ],
      "execution_count": 31,
      "outputs": []
    },
    {
      "cell_type": "code",
      "metadata": {
        "colab": {
          "base_uri": "https://localhost:8080/"
        },
        "id": "WMA0N9H6NNM3",
        "outputId": "bb2972dc-ba64-4fca-cf64-1d8fe23373e4"
      },
      "source": [
        "df.toPandas().isna().mean().round(4) * 100"
      ],
      "execution_count": 32,
      "outputs": [
        {
          "output_type": "execute_result",
          "data": {
            "text/plain": [
              "Date             0.00\n",
              "Location         0.00\n",
              "MinTemp          0.00\n",
              "MaxTemp          0.00\n",
              "Rainfall         0.00\n",
              "WindGustDir      0.00\n",
              "WindGustSpeed    6.52\n",
              "dtype: float64"
            ]
          },
          "metadata": {},
          "execution_count": 32
        }
      ]
    },
    {
      "cell_type": "code",
      "metadata": {
        "colab": {
          "base_uri": "https://localhost:8080/",
          "height": 486
        },
        "id": "Pv81D8EyfuOC",
        "outputId": "e4c9fedd-1dc9-4410-9109-28bb1458979c"
      },
      "source": [
        "df.select(\"WindGustSpeed\").summary().show()\n",
        "sns.boxplot(df.toPandas()[\"WindGustSpeed\"].values.tolist())\n",
        "plt.show()"
      ],
      "execution_count": 33,
      "outputs": [
        {
          "output_type": "stream",
          "name": "stdout",
          "text": [
            "+-------+------------------+\n",
            "|summary|     WindGustSpeed|\n",
            "+-------+------------------+\n",
            "|  count|            132923|\n",
            "|   mean| 39.98429165757619|\n",
            "| stddev|13.588800765487802|\n",
            "|    min|               6.0|\n",
            "|    25%|              31.0|\n",
            "|    50%|              39.0|\n",
            "|    75%|              48.0|\n",
            "|    max|             135.0|\n",
            "+-------+------------------+\n",
            "\n"
          ]
        },
        {
          "output_type": "display_data",
          "data": {
            "image/png": "[encoded data removed]",
            "text/plain": [
              "<Figure size 432x288 with 1 Axes>"
            ]
          },
          "metadata": {
            "needs_background": "light"
          }
        }
      ]
    },
    {
      "cell_type": "code",
      "metadata": {
        "colab": {
          "base_uri": "https://localhost:8080/"
        },
        "id": "9IfUUXsCfuKq",
        "outputId": "d6baca9a-c71e-4ef8-9e27-6be9e38cbb0d"
      },
      "source": [
        "df=df.na.fill({\"WindGustSpeed\":df.toPandas()[\"WindGustSpeed\"].mean()})\n",
        "df.toPandas().isna().mean().round(4) * 100"
      ],
      "execution_count": 34,
      "outputs": [
        {
          "output_type": "execute_result",
          "data": {
            "text/plain": [
              "Date             0.0\n",
              "Location         0.0\n",
              "MinTemp          0.0\n",
              "MaxTemp          0.0\n",
              "Rainfall         0.0\n",
              "WindGustDir      0.0\n",
              "WindGustSpeed    0.0\n",
              "dtype: float64"
            ]
          },
          "metadata": {},
          "execution_count": 34
        }
      ]
    },
    {
      "cell_type": "code",
      "metadata": {
        "colab": {
          "base_uri": "https://localhost:8080/"
        },
        "id": "pxXYWFALhJEd",
        "outputId": "7057b3c4-ab2d-4e80-f792-93dd7b4e1e3b"
      },
      "source": [
        "df.count()"
      ],
      "execution_count": 35,
      "outputs": [
        {
          "output_type": "execute_result",
          "data": {
            "text/plain": [
              "142193"
            ]
          },
          "metadata": {},
          "execution_count": 35
        }
      ]
    },
    {
      "cell_type": "code",
      "metadata": {
        "colab": {
          "base_uri": "https://localhost:8080/",
          "height": 301
        },
        "id": "cPFD6isKkZWe",
        "outputId": "755bf0ab-3d8e-46b4-a048-c82ac5262369"
      },
      "source": [
        "sns.heatmap(df.toPandas().corr(),annot=True)\n",
        "plt.show()"
      ],
      "execution_count": 36,
      "outputs": [
        {
          "output_type": "display_data",
          "data": {
            "image/png": "[encoded data removed]",
            "text/plain": [
              "<Figure size 432x288 with 2 Axes>"
            ]
          },
          "metadata": {
            "needs_background": "light"
          }
        }
      ]
    },
    {
      "cell_type": "code",
      "metadata": {
        "colab": {
          "base_uri": "https://localhost:8080/"
        },
        "id": "YeJ9EZskOUg0",
        "outputId": "0f63bf91-2ea1-4f78-d19e-ca9736805be0"
      },
      "source": [
        "# For downloading the dataset\n",
        "# Go to Kaggle.com -> My Account -> Create new API Token -> Upload kaggle.json in Jupyter Home/CNN/\n",
        "\n",
        "!wget -q https://raw.githubusercontent.com/maheshbabu-r/BIG_DATA/main/Hadoop%20Datasets/kaggle.json\n",
        "\n",
        "import os\n",
        "os.environ['KAGGLE_CONFIG_DIR'] = '/content'\n",
        "!chmod 600 /content/kaggle.json\n",
        "!kaggle datasets download -d epattaro/brazils-house-of-deputies-reimbursements\n",
        "!unzip /content/brazils-house-of-deputies-reimbursements.zip"
      ],
      "execution_count": 38,
      "outputs": [
        {
          "output_type": "stream",
          "name": "stdout",
          "text": [
            "Downloading brazils-house-of-deputies-reimbursements.zip to /content\n",
            " 41% 14.0M/34.2M [00:00<00:00, 145MB/s]\n",
            "100% 34.2M/34.2M [00:00<00:00, 168MB/s]\n",
            "Archive:  /content/brazils-house-of-deputies-reimbursements.zip\n",
            "  inflating: deputies_dataset.csv    \n",
            "  inflating: dirty_deputies_v2.csv   \n"
          ]
        }
      ]
    },
    {
      "cell_type": "code",
      "metadata": {
        "colab": {
          "base_uri": "https://localhost:8080/"
        },
        "id": "ZOnLkVFvRlYc",
        "outputId": "cd950f7c-b28f-47f6-d66a-8e996e525d55"
      },
      "source": [
        "out=spark.read.csv(header=True,inferSchema=True,path=\"/content/dirty_deputies_v2.csv\")\n",
        "\n",
        "out.printSchema()\n",
        "out.show(5)"
      ],
      "execution_count": 39,
      "outputs": [
        {
          "output_type": "stream",
          "name": "stdout",
          "text": [
            "root\n",
            " |-- deputy_name: string (nullable = true)\n",
            " |-- deputy_state: string (nullable = true)\n",
            " |-- political_party: string (nullable = true)\n",
            " |-- refund_description: string (nullable = true)\n",
            " |-- company_name: string (nullable = true)\n",
            " |-- company_id: double (nullable = true)\n",
            " |-- refund_date: timestamp (nullable = true)\n",
            " |-- refund_value: double (nullable = true)\n",
            " |-- party_pg: string (nullable = true)\n",
            " |-- party_en: string (nullable = true)\n",
            " |-- party_tse: string (nullable = true)\n",
            " |-- party_regdate: string (nullable = true)\n",
            " |-- party_nmembers: string (nullable = true)\n",
            " |-- party_ideology1: string (nullable = true)\n",
            " |-- party_ideology2: string (nullable = true)\n",
            " |-- party_ideology3: string (nullable = true)\n",
            " |-- party_ideology4: string (nullable = true)\n",
            " |-- party_position: string (nullable = true)\n",
            "\n",
            "+--------------------+------------+---------------+------------------+--------------------+----------------+-------------------+------------+----------+---------+---------+-------------+--------------+-------------------+--------------------+-------------------+---------------+--------------+\n",
            "|         deputy_name|deputy_state|political_party|refund_description|        company_name|      company_id|        refund_date|refund_value|  party_pg| party_en|party_tse|party_regdate|party_nmembers|    party_ideology1|     party_ideology2|    party_ideology3|party_ideology4|party_position|\n",
            "+--------------------+------------+---------------+------------------+--------------------+----------------+-------------------+------------+----------+---------+---------+-------------+--------------+-------------------+--------------------+-------------------+---------------+--------------+\n",
            "|PROFESSORA DORINH...|          TO|            DEM|     FLIGHT TICKET|     Cia Aérea - TAM|2.01286200016E12|2016-07-29 00:00:00|      937.63|Democratas|Democrats|       25|     11-09-86|       1095712|Economic liberalism|Liberal conservatism|Christian democracy|           null|     Rightwing|\n",
            "| JOSÉ CARLOS ALELUIA|          BA|            DEM|        FUEL COSTS|CASCOL COMBUSTIVE...|3.06597005085E11|2016-06-21 00:00:00|       150.0|Democratas|Democrats|       25|     11-09-86|       1095712|Economic liberalism|Liberal conservatism|Christian democracy|           null|     Rightwing|\n",
            "| JOSÉ CARLOS ALELUIA|          BA|            DEM|        FUEL COSTS|CASCOL COMBUSTIVE...|3.06597005085E11|2016-06-01 00:00:00|       100.0|Democratas|Democrats|       25|     11-09-86|       1095712|Economic liberalism|Liberal conservatism|Christian democracy|           null|     Rightwing|\n",
            "| JOSÉ CARLOS ALELUIA|          BA|            DEM|        FUEL COSTS|MEGA POSTO BERIMB...| 1.8559600001E12|2016-04-19 00:00:00|      168.07|Democratas|Democrats|       25|     11-09-86|       1095712|Economic liberalism|Liberal conservatism|Christian democracy|           null|     Rightwing|\n",
            "| JOSÉ CARLOS ALELUIA|          BA|            DEM|        FUEL COSTS|MEGA POSTO BERIMB...| 1.8559600001E12|2016-08-13 00:00:00|      239.57|Democratas|Democrats|       25|     11-09-86|       1095712|Economic liberalism|Liberal conservatism|Christian democracy|           null|     Rightwing|\n",
            "+--------------------+------------+---------------+------------------+--------------------+----------------+-------------------+------------+----------+---------+---------+-------------+--------------+-------------------+--------------------+-------------------+---------------+--------------+\n",
            "only showing top 5 rows\n",
            "\n"
          ]
        }
      ]
    },
    {
      "cell_type": "code",
      "metadata": {
        "colab": {
          "base_uri": "https://localhost:8080/"
        },
        "id": "A_HQXfLFThjO",
        "outputId": "c7ddc59b-f1ea-4c6e-ab14-cc3ccd4836c3"
      },
      "source": [
        "out.select(\"refund_value\").summary().show()"
      ],
      "execution_count": 40,
      "outputs": [
        {
          "output_type": "stream",
          "name": "stdout",
          "text": [
            "+-------+-----------------+\n",
            "|summary|     refund_value|\n",
            "+-------+-----------------+\n",
            "|  count|           339089|\n",
            "|   mean|625.7474209720527|\n",
            "| stddev|2076.983477144462|\n",
            "|    min|          -6100.0|\n",
            "|    25%|             50.0|\n",
            "|    50%|            150.0|\n",
            "|    75%|            506.0|\n",
            "|    max|         184500.0|\n",
            "+-------+-----------------+\n",
            "\n"
          ]
        }
      ]
    },
    {
      "cell_type": "code",
      "metadata": {
        "colab": {
          "base_uri": "https://localhost:8080/"
        },
        "id": "kcQfhlJ8TydO",
        "outputId": "75b33f39-44c5-4683-ae7f-d9ad55434aa7"
      },
      "source": [
        "Median=out.select(\"refund_value\").summary().collect()[5][\"refund_value\"]\n",
        "\n",
        "Q1=out.select(\"refund_value\").summary().collect()[4][\"refund_value\"]\n",
        "\n",
        "Q3=out.select(\"refund_value\").summary().collect()[6][\"refund_value\"]\n",
        "\n",
        "print(\"Q1 :%a\"%Q1)\n",
        "\n",
        "print(\"Q3 :%a\"%Q3)\n",
        "\n",
        "IQR=float(Q3)-float(Q1)\n",
        "\n",
        "\n",
        "print(\"IQR :%a\"%IQR)\n",
        "\n",
        "lower_extreme=float(Q1)-(1.5*IQR)\n",
        "\n",
        "\n",
        "print(\"lower extreme :%a\"%lower_extreme)\n",
        "\n",
        "upper_extreme=float(Q3)+(1.5*IQR)\n",
        "\n",
        "print(\"upper_extreme :%a\"%upper_extreme)\n",
        "\n"
      ],
      "execution_count": 41,
      "outputs": [
        {
          "output_type": "stream",
          "name": "stdout",
          "text": [
            "Q1 :'50.0'\n",
            "Q3 :'506.0'\n",
            "IQR :456.0\n",
            "lower extreme :-634.0\n",
            "upper_extreme :1190.0\n"
          ]
        }
      ]
    },
    {
      "cell_type": "code",
      "metadata": {
        "colab": {
          "base_uri": "https://localhost:8080/",
          "height": 265
        },
        "id": "Nx-YTVfCS4OR",
        "outputId": "1e9689b0-f434-455f-cefa-d406d81fb384"
      },
      "source": [
        "sns.boxplot(out.toPandas()[\"refund_value\"].values.tolist())\n",
        "plt.show()"
      ],
      "execution_count": 42,
      "outputs": [
        {
          "output_type": "display_data",
          "data": {
            "image/png": "[encoded data removed]",
            "text/plain": [
              "<Figure size 432x288 with 1 Axes>"
            ]
          },
          "metadata": {
            "needs_background": "light"
          }
        }
      ]
    },
    {
      "cell_type": "code",
      "metadata": {
        "colab": {
          "base_uri": "https://localhost:8080/"
        },
        "id": "xQQr57zfTJaO",
        "outputId": "6512a663-ef27-49ac-e79c-89307992863c"
      },
      "source": [
        "out=out.withColumn(\"refund_value1\", when(out.refund_value < -634, -634)\\\n",
        "               .when(out.refund_value> 1190.0, 1190.0)\\\n",
        "               .otherwise(out.refund_value))\n",
        "out=out.drop(\"refund_value\")\n",
        "\n",
        "out.withColumnRenamed(\"refund_value1\",\"refund_value\")"
      ],
      "execution_count": 43,
      "outputs": [
        {
          "output_type": "execute_result",
          "data": {
            "text/plain": [
              "DataFrame[deputy_name: string, deputy_state: string, political_party: string, refund_description: string, company_name: string, company_id: double, refund_date: timestamp, party_pg: string, party_en: string, party_tse: string, party_regdate: string, party_nmembers: string, party_ideology1: string, party_ideology2: string, party_ideology3: string, party_ideology4: string, party_position: string, refund_value: double]"
            ]
          },
          "metadata": {},
          "execution_count": 43
        }
      ]
    },
    {
      "cell_type": "code",
      "metadata": {
        "colab": {
          "base_uri": "https://localhost:8080/"
        },
        "id": "WeocnO_kbMCQ",
        "outputId": "2e6c2e35-96f7-431a-d783-6e8803a95fcd"
      },
      "source": [
        "out.printSchema()"
      ],
      "execution_count": 44,
      "outputs": [
        {
          "output_type": "stream",
          "name": "stdout",
          "text": [
            "root\n",
            " |-- deputy_name: string (nullable = true)\n",
            " |-- deputy_state: string (nullable = true)\n",
            " |-- political_party: string (nullable = true)\n",
            " |-- refund_description: string (nullable = true)\n",
            " |-- company_name: string (nullable = true)\n",
            " |-- company_id: double (nullable = true)\n",
            " |-- refund_date: timestamp (nullable = true)\n",
            " |-- party_pg: string (nullable = true)\n",
            " |-- party_en: string (nullable = true)\n",
            " |-- party_tse: string (nullable = true)\n",
            " |-- party_regdate: string (nullable = true)\n",
            " |-- party_nmembers: string (nullable = true)\n",
            " |-- party_ideology1: string (nullable = true)\n",
            " |-- party_ideology2: string (nullable = true)\n",
            " |-- party_ideology3: string (nullable = true)\n",
            " |-- party_ideology4: string (nullable = true)\n",
            " |-- party_position: string (nullable = true)\n",
            " |-- refund_value1: double (nullable = true)\n",
            "\n"
          ]
        }
      ]
    },
    {
      "cell_type": "code",
      "metadata": {
        "colab": {
          "base_uri": "https://localhost:8080/",
          "height": 265
        },
        "id": "ztqYctccamVZ",
        "outputId": "ce3ff7c4-220b-4f36-95a2-05b16ee46236"
      },
      "source": [
        "sns.boxplot(out.toPandas()[\"refund_value1\"].values.tolist())\n",
        "plt.show()"
      ],
      "execution_count": 45,
      "outputs": [
        {
          "output_type": "display_data",
          "data": {
            "image/png": "[encoded data removed]",
            "text/plain": [
              "<Figure size 432x288 with 1 Axes>"
            ]
          },
          "metadata": {
            "needs_background": "light"
          }
        }
      ]
    },
    {
      "cell_type": "code",
      "metadata": {
        "id": "YdQodee-XOyI"
      },
      "source": [
        ""
      ],
      "execution_count": 45,
      "outputs": []
    }
  ]
}